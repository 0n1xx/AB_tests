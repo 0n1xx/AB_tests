{
 "cells": [
  {
   "cell_type": "markdown",
   "source": [
    "# A/B тест социальная сеть:"
   ],
   "metadata": {
    "collapsed": false,
    "pycharm": {
     "name": "#%% md\n"
    }
   }
  },
  {
   "cell_type": "markdown",
   "source": [
    "### A/A тест:\n",
    "Задание 1:\n",
    "В лекции мы выяснили, что при проведении АА-теста было бы здорово убедиться в том, что наша система сплитования работает корректно, и ключевая метрика не отличается между 0 и 1 группой не только в конкретно нашем АА-тесте, но и в целом.\n",
    "\n",
    "В идеале было бы здорово провести бесконечное количество АA-тестов и посмотреть, в каком количестве случаем нам удалось отклонить нулевую гипотезу. Если система сплитования работает корректно, то статистически значимые различия между двумя группами встречались бы только в результате случайного ложного срабатывания. Например, если мы принимаем нулевую гипотезу при условии, что p_value < 0.05, то только приблизительно в 5% случаев у нас бы получались статистические значимые различия между 0 и 1 группой.\n",
    "\n",
    "Понятное дело, что на практике провести бесконечное число тестов у нас навряд ли получится, поэтому используется небольшой трюк! Мы будем многократно извлекать подвыборки с повторениями из наших данных, проводить t-test, и в конце посмотрим, в каком проценте случаев нам удалось отклонить нулевую гипотезу.\n",
    "\n",
    "Итак, что нужно сделать: у нас есть данные АА-теста с '2022-06-06' по '2022-06-12'. Вам нужно сделать симуляцию, как будто мы провели 10000 АА-тестов. На каждой итерации вам нужно сформировать подвыборки без повторения в 500 юзеров из 2 и 3 экспериментальной группы. Провести сравнение этих подвыборок t-testом.\n",
    "\n",
    "1. Построить гистограмму распределения получившихся 10000 p-values;\n",
    "\n",
    "2. Посчитать, какой процент p values оказался меньше либо равен 0.05;\n",
    "\n",
    "3. Написать вывод по проведенному АА-тесту, корректно ли работает наша система сплитования."
   ],
   "metadata": {
    "collapsed": false,
    "pycharm": {
     "name": "#%% md\n"
    }
   }
  },
  {
   "cell_type": "markdown",
   "source": [
    "Импортируем нужные библиотеки и немного посмотрим на данные:"
   ],
   "metadata": {
    "collapsed": false,
    "pycharm": {
     "name": "#%% md\n"
    }
   }
  },
  {
   "cell_type": "code",
   "execution_count": 1,
   "outputs": [],
   "source": [
    "#Для датасета и статистики\n",
    "import pandas as pd\n",
    "import pandahouse as ph\n",
    "import numpy as np\n",
    "from scipy import stats\n",
    "import pingouin as pg\n",
    "\n",
    "#Для визуализации\n",
    "import seaborn as sns\n",
    "import matplotlib.pyplot as plt\n",
    "\n",
    "#Остальное\n",
    "from tqdm.auto import tqdm\n",
    "\n",
    "#Для классического bootstrap\n",
    "import bootstrapped.bootstrap as bs\n",
    "import bootstrapped.compare_functions as bs_compare\n",
    "import bootstrapped.stats_functions as bs_stats"
   ],
   "metadata": {
    "collapsed": false,
    "pycharm": {
     "name": "#%%\n"
    }
   }
  },
  {
   "cell_type": "code",
   "execution_count": 2,
   "outputs": [],
   "source": [
    "connection = {\n",
    "    'host': 'https://clickhouse.lab.karpov.courses',\n",
    "    'password': 'dpo_python_2020',\n",
    "    'user': 'student',\n",
    "    'database': 'simulator'\n",
    "}  # установим связь с clickhouse\n",
    "\n",
    "q = \"\"\"\n",
    "SELECT exp_group,\n",
    "    user_id,\n",
    "    sum(action = 'like') as likes,\n",
    "    sum(action = 'view') as views,\n",
    "    likes/views as ctr\n",
    "FROM simulator_20220720.feed_actions\n",
    "WHERE toDate(time) between '2022-06-06' and '2022-06-12'\n",
    "    and exp_group in (2,3)\n",
    "GROUP BY exp_group, user_id\n",
    "\"\"\"  #введем нужный запрос\n",
    "\n",
    "df = ph.read_clickhouse(q, connection=connection)"
   ],
   "metadata": {
    "collapsed": false,
    "pycharm": {
     "name": "#%%\n"
    }
   }
  },
  {
   "cell_type": "code",
   "execution_count": 3,
   "outputs": [
    {
     "data": {
      "text/plain": "   exp_group  user_id  likes  views       ctr\n0          3   115383     11     36  0.305556\n1          3   123580     15     92  0.163043\n2          2   131473     26    148  0.175676\n3          2    23985     12     66  0.181818\n4          2    24523     17    120  0.141667",
      "text/html": "<div>\n<style scoped>\n    .dataframe tbody tr th:only-of-type {\n        vertical-align: middle;\n    }\n\n    .dataframe tbody tr th {\n        vertical-align: top;\n    }\n\n    .dataframe thead th {\n        text-align: right;\n    }\n</style>\n<table border=\"1\" class=\"dataframe\">\n  <thead>\n    <tr style=\"text-align: right;\">\n      <th></th>\n      <th>exp_group</th>\n      <th>user_id</th>\n      <th>likes</th>\n      <th>views</th>\n      <th>ctr</th>\n    </tr>\n  </thead>\n  <tbody>\n    <tr>\n      <th>0</th>\n      <td>3</td>\n      <td>115383</td>\n      <td>11</td>\n      <td>36</td>\n      <td>0.305556</td>\n    </tr>\n    <tr>\n      <th>1</th>\n      <td>3</td>\n      <td>123580</td>\n      <td>15</td>\n      <td>92</td>\n      <td>0.163043</td>\n    </tr>\n    <tr>\n      <th>2</th>\n      <td>2</td>\n      <td>131473</td>\n      <td>26</td>\n      <td>148</td>\n      <td>0.175676</td>\n    </tr>\n    <tr>\n      <th>3</th>\n      <td>2</td>\n      <td>23985</td>\n      <td>12</td>\n      <td>66</td>\n      <td>0.181818</td>\n    </tr>\n    <tr>\n      <th>4</th>\n      <td>2</td>\n      <td>24523</td>\n      <td>17</td>\n      <td>120</td>\n      <td>0.141667</td>\n    </tr>\n  </tbody>\n</table>\n</div>"
     },
     "execution_count": 3,
     "metadata": {},
     "output_type": "execute_result"
    }
   ],
   "source": [
    "df.head()"
   ],
   "metadata": {
    "collapsed": false,
    "pycharm": {
     "name": "#%%\n"
    }
   }
  },
  {
   "cell_type": "code",
   "execution_count": 4,
   "outputs": [
    {
     "data": {
      "text/plain": "17049"
     },
     "execution_count": 4,
     "metadata": {},
     "output_type": "execute_result"
    }
   ],
   "source": [
    "df.shape[0]"
   ],
   "metadata": {
    "collapsed": false,
    "pycharm": {
     "name": "#%%\n"
    }
   }
  },
  {
   "cell_type": "code",
   "execution_count": 5,
   "outputs": [
    {
     "data": {
      "text/plain": "exp_group       int8\nuser_id       uint32\nlikes         uint64\nviews         uint64\nctr          float64\ndtype: object"
     },
     "execution_count": 5,
     "metadata": {},
     "output_type": "execute_result"
    }
   ],
   "source": [
    "df.dtypes"
   ],
   "metadata": {
    "collapsed": false,
    "pycharm": {
     "name": "#%%\n"
    }
   }
  },
  {
   "cell_type": "markdown",
   "source": [
    "С типами данных у нас все нормально, теперь стоит посмотреть на пропущенные значения и посмотреть на распределения ctr в группах:"
   ],
   "metadata": {
    "collapsed": false,
    "pycharm": {
     "name": "#%% md\n"
    }
   }
  },
  {
   "cell_type": "code",
   "execution_count": 6,
   "outputs": [
    {
     "data": {
      "text/plain": "exp_group    0\nuser_id      0\nlikes        0\nviews        0\nctr          0\ndtype: int64"
     },
     "execution_count": 6,
     "metadata": {},
     "output_type": "execute_result"
    }
   ],
   "source": [
    "df.isna().sum()"
   ],
   "metadata": {
    "collapsed": false,
    "pycharm": {
     "name": "#%%\n"
    }
   }
  },
  {
   "cell_type": "code",
   "execution_count": 7,
   "outputs": [
    {
     "data": {
      "text/plain": "<Figure size 864x576 with 1 Axes>",
      "image/png": "[encoded data removed]"
     },
     "metadata": {},
     "output_type": "display_data"
    }
   ],
   "source": [
    "# Сделаем графики в seaborn покрупнее\n",
    "sns.set(rc={'figure.figsize': (12, 8)})\n",
    "\n",
    "groups = sns.histplot(data=df,\n",
    "                      x='ctr',\n",
    "                      hue='exp_group',\n",
    "                      palette=['r', 'b'],\n",
    "                      alpha=0.5,\n",
    "                      kde=False)\n",
    "sns.despine()"
   ],
   "metadata": {
    "collapsed": false,
    "pycharm": {
     "name": "#%%\n"
    }
   }
  },
  {
   "cell_type": "markdown",
   "source": [
    "Чисто визуально мы можем сказать, что группы практически не отличаются по ctr, но при этом так точно не верно определять правильная ли у нас произошла разбивка.  Главная идея A/A тесты - это как раз проверить, что группы перед проведением эксперимента практически идентичны и для 2 групп нам поможет ttest. В процессе итерации по циклу он будет брать 2 выборки(в задание у нас по 500 значений) и обязательно без повторений, а после сравнивать гипотезу о равенстве средних. Дальше все p-value можно сложить куда-то, к примеру, в лист, а после посмотреть и если A/A тест покажет, что FPR у нас больше 0.05(так то можно взять и другой конечно же порог альфы), то с разбивкой что-то нет так.\n",
    "\n",
    "<img src=\"https://raw.githubusercontent.com/CloudChaoszero/Presentations/d641be8e1d90dda482f9cc2a955990b1497277b2/PyBayTalks/2019/AB-Testing-Python/Resources/Images/a_a_test_meme.png\">"
   ],
   "metadata": {
    "collapsed": false,
    "pycharm": {
     "name": "#%% md\n"
    }
   }
  },
  {
   "cell_type": "markdown",
   "source": [
    "Корректная система сплитования должна выглдяеть вот так:\n",
    "\n",
    "<img src=\"https://raw.githubusercontent.com/0n1xx/AB_tests/5809f9e031d5e84b1c86d50c58ed95eb6cd69e65/Studies/AA_tests/different_fpr.png\">"
   ],
   "metadata": {
    "collapsed": false,
    "pycharm": {
     "name": "#%% md\n"
    }
   }
  },
  {
   "cell_type": "code",
   "execution_count": 7,
   "outputs": [
    {
     "data": {
      "text/plain": "  0%|          | 0/10000 [00:00<?, ?it/s]",
      "application/vnd.jupyter.widget-view+json": {
       "version_major": 2,
       "version_minor": 0,
       "model_id": "162634099a9444f1b249888d5a0559f2"
      }
     },
     "metadata": {},
     "output_type": "display_data"
    },
    {
     "data": {
      "text/plain": "<Figure size 864x576 with 1 Axes>",
      "image/png": "[encoded data removed]"
     },
     "metadata": {},
     "output_type": "display_data"
    },
    {
     "name": "stdout",
     "output_type": "stream",
     "text": [
      "FPR = 0.0499\n"
     ]
    }
   ],
   "source": [
    "simulations = 10000\n",
    "n_s = 500\n",
    "res = []\n",
    "# Запуск симуляций A/A теста\n",
    "for i in tqdm(range(simulations)):\n",
    "    s1 = df[df[\"exp_group\"] == 2][\"ctr\"].sample(n_s, replace=False).values\n",
    "    s2 = df[df[\"exp_group\"] == 3][\"ctr\"].sample(n_s, replace=False).values\n",
    "    res.append(stats.ttest_ind(s1, s2, equal_var=False)[1])  # сохраняем pvalue\n",
    "\n",
    "plt.figure(figsize=(12, 8))\n",
    "plt.hist(res, bins=50)\n",
    "plt.style.use('ggplot')\n",
    "plt.xlabel('pvalues')\n",
    "plt.ylabel('frequency')\n",
    "plt.title(\"Histogram of ttest A/A simulations \")\n",
    "plt.show()\n",
    "# Проверяем, что количество ложноположительных случаев не превышает альфа\n",
    "print(f\"FPR = {sum(np.array(res) < 0.05) / simulations}\")"
   ],
   "metadata": {
    "collapsed": false,
    "pycharm": {
     "name": "#%%\n"
    }
   }
  },
  {
   "cell_type": "markdown",
   "source": [
    "В нашем случае система сплитования работает корректно так как p-value прокрасилось в допустимых границах и FPR получился ниже упомянутого выше  уровня альфы."
   ],
   "metadata": {
    "collapsed": false,
    "pycharm": {
     "name": "#%% md\n"
    }
   }
  },
  {
   "cell_type": "markdown",
   "source": [
    "### A/B test:\n",
    "Задание 2:\n",
    "Пришло время проанализировать результаты эксперимента, который мы провели вместе с командой дата сайентистов. Эксперимент проходил с 2022-06-13 по 2022-06-19 включительно. Для эксперимента были задействованы 2 и 1 группы.\n",
    "\n",
    "В группе 2 был использован один из новых алгоритмов рекомендации постов, группа 1 использовалась в качестве контроля.\n",
    "\n",
    "Основная гипотеза заключается в том, что новый алгоритм во 2-й группе приведет к увеличению CTR.\n",
    "\n",
    "Ваша задача — проанализировать данные АB-теста.\n",
    "\n",
    "1. Выбрать метод анализа и сравнить CTR в двух группах (мы разбирали t-тест, Пуассоновский бутстреп, тест Манна-Уитни, t-тест на сглаженном ctr (α=5) а также t-тест и тест Манна-Уитни поверх бакетного преобразования);\n",
    "2. Сравните данные этими тестами. А еще посмотрите на распределения глазами. Почему тесты сработали так как сработали?\n",
    "3. Опишите потенциальную ситуацию, когда такое изменение могло произойти. Тут нет идеального ответа, подумайте;\n",
    "4. Напишите рекомендацию, будем ли мы раскатывать новый алгоритм на всех новых пользователей или все-таки не стоит.\n"
   ],
   "metadata": {
    "collapsed": false,
    "pycharm": {
     "name": "#%% md\n"
    }
   }
  },
  {
   "cell_type": "code",
   "execution_count": 8,
   "outputs": [
    {
     "data": {
      "text/plain": "   exp_group  user_id  likes  views       ctr\n0          1   109963      3     15  0.200000\n1          1    26117     32    141  0.226950\n2          1   138232     18     73  0.246575\n3          1    26295     33    122  0.270492\n4          1    18392      7     32  0.218750",
      "text/html": "<div>\n<style scoped>\n    .dataframe tbody tr th:only-of-type {\n        vertical-align: middle;\n    }\n\n    .dataframe tbody tr th {\n        vertical-align: top;\n    }\n\n    .dataframe thead th {\n        text-align: right;\n    }\n</style>\n<table border=\"1\" class=\"dataframe\">\n  <thead>\n    <tr style=\"text-align: right;\">\n      <th></th>\n      <th>exp_group</th>\n      <th>user_id</th>\n      <th>likes</th>\n      <th>views</th>\n      <th>ctr</th>\n    </tr>\n  </thead>\n  <tbody>\n    <tr>\n      <th>0</th>\n      <td>1</td>\n      <td>109963</td>\n      <td>3</td>\n      <td>15</td>\n      <td>0.200000</td>\n    </tr>\n    <tr>\n      <th>1</th>\n      <td>1</td>\n      <td>26117</td>\n      <td>32</td>\n      <td>141</td>\n      <td>0.226950</td>\n    </tr>\n    <tr>\n      <th>2</th>\n      <td>1</td>\n      <td>138232</td>\n      <td>18</td>\n      <td>73</td>\n      <td>0.246575</td>\n    </tr>\n    <tr>\n      <th>3</th>\n      <td>1</td>\n      <td>26295</td>\n      <td>33</td>\n      <td>122</td>\n      <td>0.270492</td>\n    </tr>\n    <tr>\n      <th>4</th>\n      <td>1</td>\n      <td>18392</td>\n      <td>7</td>\n      <td>32</td>\n      <td>0.218750</td>\n    </tr>\n  </tbody>\n</table>\n</div>"
     },
     "execution_count": 8,
     "metadata": {},
     "output_type": "execute_result"
    }
   ],
   "source": [
    "q = \"\"\"\n",
    "SELECT exp_group,\n",
    "    user_id,\n",
    "    sum(action = 'like') as likes,\n",
    "    sum(action = 'view') as views,\n",
    "    likes/views as ctr\n",
    "FROM simulator_20220720.feed_actions\n",
    "WHERE toDate(time) between '2022-06-13' and '2022-06-19'\n",
    "    and exp_group in (2,1)\n",
    "GROUP BY exp_group, user_id\n",
    "\"\"\"  #введем нужный запрос\n",
    "\n",
    "df = ph.read_clickhouse(q, connection=connection)\n",
    "df.head()"
   ],
   "metadata": {
    "collapsed": false,
    "pycharm": {
     "name": "#%%\n"
    }
   }
  },
  {
   "cell_type": "markdown",
   "source": [
    "Для начала я поставлю гипотезы, которые хочу проверить различными стат тестами и после посмотрю на их распределения:\n",
    "\n",
    "Сначала было бы интересно посмотреть на средний в ctr в двух группах. Таким образом:\n",
    "- H0: uCTR1 = uCTR2\n",
    "\n",
    "Для проверки этой гипотезы нам может подойти t-test, но для начала построю распределения. Хоть и t-test не требует нормального распределения в выборках, при этом у него есть ситуации, в которых его лучше не использовать:\n",
    "\n",
    "1. Распределение очень сильно скошено;\n",
    "2. В распределении много выбросов;\n",
    "3. В распределении очень высока вероятность больших по модулю отклонений (жирные выбросы — часть распределения).\n"
   ],
   "metadata": {
    "collapsed": false,
    "pycharm": {
     "name": "#%% md\n"
    }
   }
  },
  {
   "cell_type": "code",
   "execution_count": 9,
   "outputs": [
    {
     "data": {
      "text/plain": "<Figure size 864x576 with 1 Axes>",
      "image/png": "[encoded data removed]"
     },
     "metadata": {},
     "output_type": "display_data"
    }
   ],
   "source": [
    "plt.figure(figsize=(12, 8))\n",
    "sns.histplot(data=df,\n",
    "             x='ctr',\n",
    "             hue='exp_group',\n",
    "             palette=['r', 'b'],\n",
    "             alpha=0.5,\n",
    "             kde=False)\n",
    "sns.despine()"
   ],
   "metadata": {
    "collapsed": false,
    "pycharm": {
     "name": "#%%\n"
    }
   }
  },
  {
   "cell_type": "markdown",
   "source": [
    "Чисто визуально мы можем сказать, что различие в средних в данных выборках точно есть, причем самое интересное, что в группе 2, где у нас был применен новый алгоритм, а соответственно средний ctr явно меньше чем в контрольной группе. Причем он даже похож на то, как обычно распределяется CTR, а именно экспонента с уклоном влево.\n",
    "\n",
    "В данном случае я еще хочу построить boxplot, которые дадут более детальную картину:"
   ],
   "metadata": {
    "collapsed": false,
    "pycharm": {
     "name": "#%% md\n"
    }
   }
  },
  {
   "cell_type": "code",
   "execution_count": 12,
   "outputs": [
    {
     "data": {
      "text/plain": "<Figure size 864x576 with 1 Axes>",
      "image/png": "[encoded data removed]"
     },
     "metadata": {},
     "output_type": "display_data"
    }
   ],
   "source": [
    "plt.figure(figsize=(12, 8))\n",
    "sns.boxplot(x=df[df[\"exp_group\"] == 2][\"ctr\"])\n",
    "sns.despine()"
   ],
   "metadata": {
    "collapsed": false,
    "pycharm": {
     "name": "#%%\n"
    }
   }
  },
  {
   "cell_type": "code",
   "execution_count": 13,
   "outputs": [
    {
     "data": {
      "text/plain": "<Figure size 864x576 with 1 Axes>",
      "image/png": "[encoded data removed]"
     },
     "metadata": {},
     "output_type": "display_data"
    }
   ],
   "source": [
    "plt.figure(figsize=(12, 8))\n",
    "sns.boxplot(x=df[df[\"exp_group\"] == 1][\"ctr\"])\n",
    "sns.despine()"
   ],
   "metadata": {
    "collapsed": false,
    "pycharm": {
     "name": "#%%\n"
    }
   }
  },
  {
   "cell_type": "markdown",
   "source": [
    "И на гистплоте, и на боксплоте видно, что у нас есть выбросы, также можно точно убедиться что распределения не являются нормальными, используя тест Шапиро-Уилка:\n",
    "- Нулевая гипотеза H0 теста Шапиро–Уилка заключается в том, что случайная величина, выборка x которой известна, распределена по нормальному закону.\n",
    "- Альтернативная гипотеза H1 заключается в том, закон распределения не является нормальным;\n",
    "- Порог альфы - 0.05"
   ],
   "metadata": {
    "collapsed": false,
    "pycharm": {
     "name": "#%% md\n"
    }
   }
  },
  {
   "cell_type": "code",
   "execution_count": 16,
   "outputs": [],
   "source": [
    "df_for_shapiro = df.sample(n=1000,random_state=42) # Берем меньше чем 5000 значений, так как это одно из требований критерия"
   ],
   "metadata": {
    "collapsed": false,
    "pycharm": {
     "name": "#%%\n"
    }
   }
  },
  {
   "cell_type": "code",
   "execution_count": 17,
   "outputs": [
    {
     "data": {
      "text/plain": "         W          pval  normal\n1  0.95931  1.058741e-10   False\n2  0.87728  3.473645e-19   False",
      "text/html": "<div>\n<style scoped>\n    .dataframe tbody tr th:only-of-type {\n        vertical-align: middle;\n    }\n\n    .dataframe tbody tr th {\n        vertical-align: top;\n    }\n\n    .dataframe thead th {\n        text-align: right;\n    }\n</style>\n<table border=\"1\" class=\"dataframe\">\n  <thead>\n    <tr style=\"text-align: right;\">\n      <th></th>\n      <th>W</th>\n      <th>pval</th>\n      <th>normal</th>\n    </tr>\n  </thead>\n  <tbody>\n    <tr>\n      <th>1</th>\n      <td>0.95931</td>\n      <td>1.058741e-10</td>\n      <td>False</td>\n    </tr>\n    <tr>\n      <th>2</th>\n      <td>0.87728</td>\n      <td>3.473645e-19</td>\n      <td>False</td>\n    </tr>\n  </tbody>\n</table>\n</div>"
     },
     "execution_count": 17,
     "metadata": {},
     "output_type": "execute_result"
    }
   ],
   "source": [
    "pg.normality(data=df_for_shapiro, dv=\"ctr\", group=\"exp_group\")"
   ],
   "metadata": {
    "collapsed": false,
    "pycharm": {
     "name": "#%%\n"
    }
   }
  },
  {
   "cell_type": "markdown",
   "source": [
    "Здесь он нас предупреждает, что p-value мб не точным, при этом в совокупности с графиком точно можно понять, что обе переменные распределены ненормально, хотя в контрольной группе распределение выглядит +- похожее в нормальному."
   ],
   "metadata": {
    "collapsed": false,
    "pycharm": {
     "name": "#%% md\n"
    }
   }
  },
  {
   "cell_type": "markdown",
   "source": [
    "Все же сначала хочу проверить гипотезу о равенстве распределений в двух группах:\n",
    "- H0: распределение в тестовой группе не отличается от контрольной;"
   ],
   "metadata": {
    "collapsed": false,
    "pycharm": {
     "name": "#%% md\n"
    }
   }
  },
  {
   "cell_type": "code",
   "execution_count": 18,
   "outputs": [
    {
     "data": {
      "text/plain": "MannwhitneyuResult(statistic=56601260.5, pvalue=6.0376484617779035e-56)"
     },
     "execution_count": 18,
     "metadata": {},
     "output_type": "execute_result"
    }
   ],
   "source": [
    "stats.mannwhitneyu(df[df['exp_group'] == 1][\"ctr\"], df[df['exp_group'] == 2][\"ctr\"])"
   ],
   "metadata": {
    "collapsed": false,
    "pycharm": {
     "name": "#%%\n"
    }
   }
  },
  {
   "cell_type": "markdown",
   "source": [
    "- p-value нам подсказывает отклонить H0. При этом у данного критерия очень неудобная в интерпретации H0, здесь имеется в виду, что для людей, которые хотят услышать ответ, увеличилось ли что-то или нет она явно будет не очень понятная так как обычно люди, которые спрашивают нас о результатах эксперимента хотят услышать, что среднее что-то увеличилось или нет.\n",
    "\n",
    "- Далее мне бы хотелось бы посмотреть на сглаженный ctr и под сглаженным ctr я понимаю следующее:\n",
    "     - smoothctr = clicks + a * globalctr / views + a\n",
    "\n",
    "- Хоть идея сглаженного CTR интуитивно понятна, теоретической гарантии, что его\n",
    "направленность совпадает с направленностью общего количества кликов, нет."
   ],
   "metadata": {
    "collapsed": false,
    "pycharm": {
     "name": "#%% md\n"
    }
   }
  },
  {
   "cell_type": "code",
   "execution_count": 19,
   "outputs": [],
   "source": [
    "def get_smothed_ctr(user_likes, user_views, global_ctr, alpha):\n",
    "    smothed_ctr = (user_likes + alpha * global_ctr) / (user_views + alpha)\n",
    "    return smothed_ctr"
   ],
   "metadata": {
    "collapsed": false,
    "pycharm": {
     "name": "#%%\n"
    }
   }
  },
  {
   "cell_type": "code",
   "execution_count": 20,
   "outputs": [],
   "source": [
    "global_ctr_1 = df[df.exp_group == 1].likes.sum() / df[df.exp_group == 1].views.sum()  #для контрольной группы\n",
    "global_ctr_2 = df[df.exp_group == 2].likes.sum() / df[df.exp_group == 2].views.sum()  #для тестовой группы"
   ],
   "metadata": {
    "collapsed": false,
    "pycharm": {
     "name": "#%%\n"
    }
   }
  },
  {
   "cell_type": "code",
   "execution_count": 21,
   "outputs": [],
   "source": [
    "test_group = df[df[\"exp_group\"] == 2]\n",
    "control_group = df[df[\"exp_group\"] == 1]"
   ],
   "metadata": {
    "collapsed": false,
    "pycharm": {
     "name": "#%%\n"
    }
   }
  },
  {
   "cell_type": "code",
   "execution_count": 22,
   "outputs": [
    {
     "name": "stderr",
     "output_type": "stream",
     "text": [
      "/tmp/ipykernel_253107/1556195859.py:2: SettingWithCopyWarning: \n",
      "A value is trying to be set on a copy of a slice from a DataFrame.\n",
      "Try using .loc[row_indexer,col_indexer] = value instead\n",
      "\n",
      "See the caveats in the documentation: https://pandas.pydata.org/pandas-docs/stable/user_guide/indexing.html#returning-a-view-versus-a-copy\n",
      "  test_group[\"smooth_ctr\"] = test_group.apply(\n",
      "/tmp/ipykernel_253107/1556195859.py:4: SettingWithCopyWarning: \n",
      "A value is trying to be set on a copy of a slice from a DataFrame.\n",
      "Try using .loc[row_indexer,col_indexer] = value instead\n",
      "\n",
      "See the caveats in the documentation: https://pandas.pydata.org/pandas-docs/stable/user_guide/indexing.html#returning-a-view-versus-a-copy\n",
      "  control_group[\"smooth_ctr\"] = control_group.apply(\n"
     ]
    },
    {
     "data": {
      "text/plain": "   exp_group  user_id  likes  views       ctr  smooth_ctr\n5          2   131473     14    134  0.104478    0.107844\n6          2    23985      7     87  0.080460    0.086851\n7          2    24523     11    101  0.108911    0.113116\n8          2    32420     26    128  0.203125    0.202935\n9          2    24239     40     90  0.444444    0.431477",
      "text/html": "<div>\n<style scoped>\n    .dataframe tbody tr th:only-of-type {\n        vertical-align: middle;\n    }\n\n    .dataframe tbody tr th {\n        vertical-align: top;\n    }\n\n    .dataframe thead th {\n        text-align: right;\n    }\n</style>\n<table border=\"1\" class=\"dataframe\">\n  <thead>\n    <tr style=\"text-align: right;\">\n      <th></th>\n      <th>exp_group</th>\n      <th>user_id</th>\n      <th>likes</th>\n      <th>views</th>\n      <th>ctr</th>\n      <th>smooth_ctr</th>\n    </tr>\n  </thead>\n  <tbody>\n    <tr>\n      <th>5</th>\n      <td>2</td>\n      <td>131473</td>\n      <td>14</td>\n      <td>134</td>\n      <td>0.104478</td>\n      <td>0.107844</td>\n    </tr>\n    <tr>\n      <th>6</th>\n      <td>2</td>\n      <td>23985</td>\n      <td>7</td>\n      <td>87</td>\n      <td>0.080460</td>\n      <td>0.086851</td>\n    </tr>\n    <tr>\n      <th>7</th>\n      <td>2</td>\n      <td>24523</td>\n      <td>11</td>\n      <td>101</td>\n      <td>0.108911</td>\n      <td>0.113116</td>\n    </tr>\n    <tr>\n      <th>8</th>\n      <td>2</td>\n      <td>32420</td>\n      <td>26</td>\n      <td>128</td>\n      <td>0.203125</td>\n      <td>0.202935</td>\n    </tr>\n    <tr>\n      <th>9</th>\n      <td>2</td>\n      <td>24239</td>\n      <td>40</td>\n      <td>90</td>\n      <td>0.444444</td>\n      <td>0.431477</td>\n    </tr>\n  </tbody>\n</table>\n</div>"
     },
     "execution_count": 22,
     "metadata": {},
     "output_type": "execute_result"
    }
   ],
   "source": [
    "#Считаем smoothctr для каждой группы, а после снова объединяем их в общий датафрейм:\n",
    "test_group[\"smooth_ctr\"] = test_group.apply(\n",
    "    lambda x: get_smothed_ctr(x['likes'], x['views'], global_ctr_2, 5), axis=1)\n",
    "control_group[\"smooth_ctr\"] = control_group.apply(\n",
    "    lambda x: get_smothed_ctr(x['likes'], x['views'], global_ctr_1, 5), axis=1)\n",
    "all_groups = pd.concat([test_group, control_group])\n",
    "all_groups.head()"
   ],
   "metadata": {
    "collapsed": false,
    "pycharm": {
     "name": "#%%\n"
    }
   }
  },
  {
   "cell_type": "markdown",
   "source": [
    "А теперь я хочу посмотреть на распределения:"
   ],
   "metadata": {
    "collapsed": false,
    "pycharm": {
     "name": "#%% md\n"
    }
   }
  },
  {
   "cell_type": "code",
   "execution_count": 23,
   "outputs": [
    {
     "data": {
      "text/plain": "<Figure size 864x576 with 1 Axes>",
      "image/png": "[encoded data removed]"
     },
     "metadata": {},
     "output_type": "display_data"
    }
   ],
   "source": [
    "plt.figure(figsize=(12, 8))\n",
    "sns.histplot(data=all_groups,\n",
    "             x='smooth_ctr',\n",
    "             hue='exp_group',\n",
    "             palette=['r', 'b'],\n",
    "             alpha=0.5,\n",
    "             kde=False)\n",
    "sns.despine()"
   ],
   "metadata": {
    "collapsed": false,
    "pycharm": {
     "name": "#%%\n"
    }
   }
  },
  {
   "cell_type": "markdown",
   "source": [
    "- В целом особых изменений тут нет по сравнению с распределением обычных ctr. Единственное можно заметить, что в контрольной группе все же ctr немного сгладился.\n",
    "\n",
    "- Дальше я хочу попробовать применить бакетное преобразование и там уже проверить гипотезы, использую ttest и Манна-Уитни.\n",
    "\n",
    "- Но для начала я хочу подумать над размер каждого бакета."
   ],
   "metadata": {
    "collapsed": false,
    "pycharm": {
     "name": "#%% md\n"
    }
   }
  },
  {
   "cell_type": "code",
   "execution_count": 24,
   "outputs": [
    {
     "data": {
      "text/plain": "20031"
     },
     "execution_count": 24,
     "metadata": {},
     "output_type": "execute_result"
    }
   ],
   "source": [
    "all_groups.shape[0]"
   ],
   "metadata": {
    "collapsed": false,
    "pycharm": {
     "name": "#%%\n"
    }
   }
  },
  {
   "cell_type": "markdown",
   "source": [
    "Здесь можно взять число 50 за размер бакета, вообще как я понял идея бакетного преобразования - это то что мы делил нашу выборку на несколько выборок и у нас получаются псевдовыборки и после по каждой псевдовыборки мы считаем ctr. Есть также и ограничения у данного способа: чтобы каждый пользователь попадет только в один бакет и пользователи по бакетам будут распределены равномерно. Это можно гарантировать с помощью того же хеширования с солью.\n",
    "Из лекции сделаю это также в clickhouse:"
   ],
   "metadata": {
    "collapsed": false,
    "pycharm": {
     "name": "#%% md\n"
    }
   }
  },
  {
   "cell_type": "code",
   "execution_count": 25,
   "outputs": [
    {
     "data": {
      "text/plain": "   exp_group  bucket  bucket_ctr\n0          1       0    0.196481\n1          2       0    0.194262\n2          1       1    0.211887\n3          2       1    0.215328\n4          1       2    0.206271",
      "text/html": "<div>\n<style scoped>\n    .dataframe tbody tr th:only-of-type {\n        vertical-align: middle;\n    }\n\n    .dataframe tbody tr th {\n        vertical-align: top;\n    }\n\n    .dataframe thead th {\n        text-align: right;\n    }\n</style>\n<table border=\"1\" class=\"dataframe\">\n  <thead>\n    <tr style=\"text-align: right;\">\n      <th></th>\n      <th>exp_group</th>\n      <th>bucket</th>\n      <th>bucket_ctr</th>\n    </tr>\n  </thead>\n  <tbody>\n    <tr>\n      <th>0</th>\n      <td>1</td>\n      <td>0</td>\n      <td>0.196481</td>\n    </tr>\n    <tr>\n      <th>1</th>\n      <td>2</td>\n      <td>0</td>\n      <td>0.194262</td>\n    </tr>\n    <tr>\n      <th>2</th>\n      <td>1</td>\n      <td>1</td>\n      <td>0.211887</td>\n    </tr>\n    <tr>\n      <th>3</th>\n      <td>2</td>\n      <td>1</td>\n      <td>0.215328</td>\n    </tr>\n    <tr>\n      <th>4</th>\n      <td>1</td>\n      <td>2</td>\n      <td>0.206271</td>\n    </tr>\n  </tbody>\n</table>\n</div>"
     },
     "execution_count": 25,
     "metadata": {},
     "output_type": "execute_result"
    }
   ],
   "source": [
    "q = \"\"\"\n",
    "SELECT exp_group, bucket,\n",
    "    sum(likes)/sum(views) as bucket_ctr\n",
    "FROM (SELECT exp_group,\n",
    "        xxHash64(user_id)%50 as bucket,\n",
    "        user_id,\n",
    "        sum(action = 'like') as likes,\n",
    "        sum(action = 'view') as views,\n",
    "        likes/views as ctr\n",
    "    FROM simulator_20220720.feed_actions\n",
    "    WHERE toDate(time) between '2022-06-13' and '2022-06-19'\n",
    "        and exp_group in (2,1)\n",
    "    GROUP BY exp_group, bucket, user_id)\n",
    "GROUP BY exp_group, bucket\n",
    "\"\"\"\n",
    "df = ph.read_clickhouse(q, connection=connection)\n",
    "df.head()"
   ],
   "metadata": {
    "collapsed": false,
    "pycharm": {
     "name": "#%%\n"
    }
   }
  },
  {
   "cell_type": "markdown",
   "source": [
    "А теперь я хочу посмотреть на распределения:"
   ],
   "metadata": {
    "collapsed": false,
    "pycharm": {
     "name": "#%% md\n"
    }
   }
  },
  {
   "cell_type": "code",
   "execution_count": 26,
   "outputs": [
    {
     "data": {
      "text/plain": "<Figure size 864x576 with 1 Axes>",
      "image/png": "[encoded data removed]"
     },
     "metadata": {},
     "output_type": "display_data"
    }
   ],
   "source": [
    "plt.figure(figsize=(12, 8))\n",
    "sns.histplot(data=df,\n",
    "             x='bucket_ctr',\n",
    "             hue='exp_group',\n",
    "             palette=['r', 'b'],\n",
    "             alpha=0.5,\n",
    "             kde=False)\n",
    "sns.despine()"
   ],
   "metadata": {
    "collapsed": false,
    "pycharm": {
     "name": "#%%\n"
    }
   }
  },
  {
   "cell_type": "markdown",
   "source": [
    "- Распределения стали +- похожи на нормальные, здесь хотя бы отчетливо видно, что они оба унимодальны(то есть имеют оди горб);\n",
    "- А теперь я хочу проверить гипотезу о разнице в средних используя ttest;\n",
    "- H0: средний ctr в группах не отличается.\n",
    "\n",
    "При этом у классического ttest есть одно обязательное требование - это гомогенность дисперсий и это можно проверить с помощью критерия Левена или критерия Бартлетта:"
   ],
   "metadata": {
    "collapsed": false,
    "pycharm": {
     "name": "#%% md\n"
    }
   }
  },
  {
   "cell_type": "code",
   "execution_count": 27,
   "outputs": [
    {
     "data": {
      "text/plain": "8.092371176109902e-05"
     },
     "execution_count": 27,
     "metadata": {},
     "output_type": "execute_result"
    }
   ],
   "source": [
    "stat, p = stats.levene(df[df[\"exp_group\"] == 1][\"bucket_ctr\"], df[df[\"exp_group\"] == 2][\"bucket_ctr\"])\n",
    "p"
   ],
   "metadata": {
    "collapsed": false,
    "pycharm": {
     "name": "#%%\n"
    }
   }
  },
  {
   "cell_type": "markdown",
   "source": [
    "p-value не позволяет нам принять H0, но при этом здесь мы можем использовать welch ttest, который как раз рассчитан на те случаи, когда у нас разная дисперсия между групп:"
   ],
   "metadata": {
    "collapsed": false,
    "pycharm": {
     "name": "#%% md\n"
    }
   }
  },
  {
   "cell_type": "code",
   "execution_count": 28,
   "outputs": [
    {
     "data": {
      "text/plain": "Ttest_indResult(statistic=5.668234732053979, pvalue=3.4455951649945907e-07)"
     },
     "execution_count": 28,
     "metadata": {},
     "output_type": "execute_result"
    }
   ],
   "source": [
    "stats.ttest_ind(df[df[\"exp_group\"] == 1][\"bucket_ctr\"], df[df[\"exp_group\"] == 2][\"bucket_ctr\"], equal_var=False)"
   ],
   "metadata": {
    "collapsed": false,
    "pycharm": {
     "name": "#%%\n"
    }
   }
  },
  {
   "cell_type": "markdown",
   "source": [
    "Исходя из p-value мы можем отклонить H0, а значит разницы между ctr в группах есть:"
   ],
   "metadata": {
    "collapsed": false,
    "pycharm": {
     "name": "#%% md\n"
    }
   }
  },
  {
   "cell_type": "code",
   "execution_count": 29,
   "outputs": [
    {
     "data": {
      "text/plain": "0.2081217072433601"
     },
     "metadata": {},
     "output_type": "display_data"
    },
    {
     "data": {
      "text/plain": "0.19825944666552936"
     },
     "metadata": {},
     "output_type": "display_data"
    }
   ],
   "source": [
    "display(df[df[\"exp_group\"] == 1][\"bucket_ctr\"].mean(), df[df[\"exp_group\"] == 2][\"bucket_ctr\"].mean())"
   ],
   "metadata": {
    "collapsed": false,
    "pycharm": {
     "name": "#%%\n"
    }
   }
  },
  {
   "cell_type": "markdown",
   "source": [
    "Причем в контрольной группе у нас средне значение выше чем в тестовой. Дальше я хочу проверить гипотезу о равенстве распределений на бакетных ctr:\n",
    "- H0: распределение ctr между группами не отличается."
   ],
   "metadata": {
    "collapsed": false,
    "pycharm": {
     "name": "#%% md\n"
    }
   }
  },
  {
   "cell_type": "code",
   "execution_count": 30,
   "outputs": [
    {
     "data": {
      "text/plain": "MannwhitneyuResult(statistic=1995.0, pvalue=2.859963936492646e-07)"
     },
     "execution_count": 30,
     "metadata": {},
     "output_type": "execute_result"
    }
   ],
   "source": [
    "stats.mannwhitneyu(df[df[\"exp_group\"] == 1][\"bucket_ctr\"], df[df[\"exp_group\"] == 2][\"bucket_ctr\"])"
   ],
   "metadata": {
    "collapsed": false,
    "pycharm": {
     "name": "#%%\n"
    }
   }
  },
  {
   "cell_type": "markdown",
   "source": [
    "И снова p-value говорит нам, что различия в распределениях между группами есть. На последок хочу проверить гипотезу о равенстве средних значений между группами при этом использую непараметрический и классический boostrap. Далее я немного попишу про bootstrap, чтобы понять для себя основные различие между обычным и классическим boostrap;\n",
    "1. Классический boostrap - это обычный ресэплинг выборок. Здесь я имею в виду вот что: мы берем сэмл из 1 группы, сэмл из второй группы, после вычитаем выбранную нами заранее статистику, считаем ее у двух сэмлов, а далее вычитаем второе из первого.\n",
    "2. Непараметрический же bootstrap: в данном случае в каждой ресемпле мы считаем сколько раз данное наблюдение попало к нам в выборку и здесь алгоритм такой(алгоритм на примере подсчета ctr):\n",
    "    - Берем выборку из группы А (у нас это user_id с его views и clicks)\n",
    "    - Из распределения Пуассона генерируем «сколько раз этот пользователь попал в псевдовыборку». Получается колонка, отражающая «вес» пользователя. Назовем ее weights1\n",
    "    - Считаем «глобальный CTR» по псевдовыборке для A:\n",
    "        - globalCTR = sum(likes) * weight / sum(views) * weight\n",
    "    - Тоже самое делаем для группы B;\n",
    "    - Считаем разницу между globalCT RA − globalCT RB и записываем эту разность, например, в список;\n",
    "    - Повторяем процедуру много раз, например, 2000."
   ],
   "metadata": {
    "collapsed": false,
    "pycharm": {
     "name": "#%% md\n"
    }
   }
  },
  {
   "cell_type": "code",
   "execution_count": 31,
   "outputs": [],
   "source": [
    "def poison_bootstrap(likes1, views1, likes2, views2, n_bootstrap=2000):\n",
    "    poisson_bootstraps1 = stats.poisson(1).rvs(\n",
    "        (n_bootstrap, len(likes1))).astype(np.int64)\n",
    "    poisson_bootstraps2 = stats.poisson(1).rvs(\n",
    "        (n_bootstrap, len(likes2))).astype(np.int64)\n",
    "    globalCTR1 = (poisson_bootstraps1 * likes1).sum(axis=1) / (poisson_bootstraps1 * views1).sum(axis=1)\n",
    "    globalCTR2 = (poisson_bootstraps2 * likes2).sum(axis=1) / (poisson_bootstraps2 * views2).sum(axis=1)\n",
    "    return globalCTR1, globalCTR2"
   ],
   "metadata": {
    "collapsed": false,
    "pycharm": {
     "name": "#%%\n"
    }
   }
  },
  {
   "cell_type": "markdown",
   "source": [
    "Далее я снова бы хотел переопределить переменную df:"
   ],
   "metadata": {
    "collapsed": false,
    "pycharm": {
     "name": "#%% md\n"
    }
   }
  },
  {
   "cell_type": "code",
   "execution_count": 32,
   "outputs": [
    {
     "data": {
      "text/plain": "   exp_group  user_id  likes  views       ctr\n0          1   109963      3     15  0.200000\n1          1    26117     32    141  0.226950\n2          1   138232     18     73  0.246575\n3          1    26295     33    122  0.270492\n4          1    18392      7     32  0.218750",
      "text/html": "<div>\n<style scoped>\n    .dataframe tbody tr th:only-of-type {\n        vertical-align: middle;\n    }\n\n    .dataframe tbody tr th {\n        vertical-align: top;\n    }\n\n    .dataframe thead th {\n        text-align: right;\n    }\n</style>\n<table border=\"1\" class=\"dataframe\">\n  <thead>\n    <tr style=\"text-align: right;\">\n      <th></th>\n      <th>exp_group</th>\n      <th>user_id</th>\n      <th>likes</th>\n      <th>views</th>\n      <th>ctr</th>\n    </tr>\n  </thead>\n  <tbody>\n    <tr>\n      <th>0</th>\n      <td>1</td>\n      <td>109963</td>\n      <td>3</td>\n      <td>15</td>\n      <td>0.200000</td>\n    </tr>\n    <tr>\n      <th>1</th>\n      <td>1</td>\n      <td>26117</td>\n      <td>32</td>\n      <td>141</td>\n      <td>0.226950</td>\n    </tr>\n    <tr>\n      <th>2</th>\n      <td>1</td>\n      <td>138232</td>\n      <td>18</td>\n      <td>73</td>\n      <td>0.246575</td>\n    </tr>\n    <tr>\n      <th>3</th>\n      <td>1</td>\n      <td>26295</td>\n      <td>33</td>\n      <td>122</td>\n      <td>0.270492</td>\n    </tr>\n    <tr>\n      <th>4</th>\n      <td>1</td>\n      <td>18392</td>\n      <td>7</td>\n      <td>32</td>\n      <td>0.218750</td>\n    </tr>\n  </tbody>\n</table>\n</div>"
     },
     "execution_count": 32,
     "metadata": {},
     "output_type": "execute_result"
    }
   ],
   "source": [
    "q = \"\"\"\n",
    "SELECT exp_group,\n",
    "    user_id,\n",
    "    sum(action = 'like') as likes,\n",
    "    sum(action = 'view') as views,\n",
    "    likes/views as ctr\n",
    "FROM simulator_20220720.feed_actions\n",
    "WHERE toDate(time) between '2022-06-13' and '2022-06-19'\n",
    "    and exp_group in (2,1)\n",
    "GROUP BY exp_group, user_id\n",
    "\"\"\"  #введем нужный запрос\n",
    "df = ph.read_clickhouse(q, connection=connection)\n",
    "df.head()"
   ],
   "metadata": {
    "collapsed": false,
    "pycharm": {
     "name": "#%%\n"
    }
   }
  },
  {
   "cell_type": "markdown",
   "source": [
    "Подготавливаем все нужные переменные и применяем непараметрический bootstrap:"
   ],
   "metadata": {
    "collapsed": false,
    "pycharm": {
     "name": "#%% md\n"
    }
   }
  },
  {
   "cell_type": "code",
   "execution_count": 33,
   "outputs": [],
   "source": [
    "likes1 = df[df.exp_group == 1].likes.to_numpy()\n",
    "views1 = df[df.exp_group == 1].views.to_numpy()\n",
    "likes2 = df[df.exp_group == 2].likes.to_numpy()\n",
    "views2 = df[df.exp_group == 2].views.to_numpy()"
   ],
   "metadata": {
    "collapsed": false,
    "pycharm": {
     "name": "#%%\n"
    }
   }
  },
  {
   "cell_type": "code",
   "execution_count": 34,
   "outputs": [],
   "source": [
    "ctr1, ctr2 = poison_bootstrap(likes1, views1, likes2, views2)"
   ],
   "metadata": {
    "collapsed": false,
    "pycharm": {
     "name": "#%%\n"
    }
   }
  },
  {
   "cell_type": "code",
   "execution_count": 35,
   "outputs": [
    {
     "data": {
      "text/plain": "<Figure size 864x576 with 1 Axes>",
      "image/png": "[encoded data removed]"
     },
     "metadata": {},
     "output_type": "display_data"
    }
   ],
   "source": [
    "plt.figure(figsize=(12, 8))\n",
    "sns.histplot(ctr1)\n",
    "sns.histplot(ctr2)\n",
    "sns.despine()"
   ],
   "metadata": {
    "collapsed": false,
    "pycharm": {
     "name": "#%%\n"
    }
   }
  },
  {
   "cell_type": "markdown",
   "source": [
    "Видно, что разница точно есть, а теперь сделаем вычет вторых значений из первых, то есть все значения тестовых из контрольных:"
   ],
   "metadata": {
    "collapsed": false,
    "pycharm": {
     "name": "#%% md\n"
    }
   }
  },
  {
   "cell_type": "code",
   "execution_count": 36,
   "outputs": [
    {
     "data": {
      "text/plain": "<Figure size 432x288 with 1 Axes>",
      "image/png": "[encoded data removed]"
     },
     "metadata": {},
     "output_type": "display_data"
    }
   ],
   "source": [
    "#Разница между глобальными CTR\n",
    "sns.histplot(ctr1 - ctr2)\n",
    "sns.despine()"
   ],
   "metadata": {
    "collapsed": false,
    "pycharm": {
     "name": "#%%\n"
    }
   }
  },
  {
   "cell_type": "markdown",
   "source": [
    "Ну а теперь я хочу проверить гипотезу о равенстве средних между группами используя обычный boostrap и для этого есть как метод в scipy, так и целая библиотека:"
   ],
   "metadata": {
    "collapsed": false,
    "pycharm": {
     "name": "#%% md\n"
    }
   }
  },
  {
   "cell_type": "code",
   "execution_count": 37,
   "outputs": [],
   "source": [
    "#Исходя из документации значения должны быть типа array\n",
    "a_group_ctr = np.array(df[df[\"exp_group\"] == 1][\"ctr\"])\n",
    "b_group_ctr = np.array(df[df[\"exp_group\"] == 2][\"ctr\"])"
   ],
   "metadata": {
    "collapsed": false,
    "pycharm": {
     "name": "#%%\n"
    }
   }
  },
  {
   "cell_type": "code",
   "execution_count": 38,
   "outputs": [
    {
     "name": "stdout",
     "output_type": "stream",
     "text": [
      "0.5528070863034872    (-1.0107066940789766, 2.0381908216438593)\n"
     ]
    }
   ],
   "source": [
    "print(bs.bootstrap_ab(a_group_ctr, b_group_ctr, bs_stats.mean, bs_compare.percent_change))"
   ],
   "metadata": {
    "collapsed": false,
    "pycharm": {
     "name": "#%%\n"
    }
   }
  },
  {
   "cell_type": "markdown",
   "source": [
    "- А вот здесь доверительный интервал подсказывает что различий нету;\n",
    "- Далее хотел бы посмотреть еще раз на график и сделать уже финальные выводы."
   ],
   "metadata": {
    "collapsed": false,
    "pycharm": {
     "name": "#%% md\n"
    }
   }
  },
  {
   "cell_type": "code",
   "execution_count": 39,
   "outputs": [
    {
     "data": {
      "text/plain": "<Figure size 864x576 with 1 Axes>",
      "image/png": "[encoded data removed]"
     },
     "metadata": {},
     "output_type": "display_data"
    }
   ],
   "source": [
    "plt.figure(figsize=(12, 8))\n",
    "sns.histplot(data=df,\n",
    "             x='ctr',\n",
    "             hue='exp_group',\n",
    "             palette=['r', 'b'],\n",
    "             alpha=0.5,\n",
    "             kde=False)\n",
    "sns.despine()"
   ],
   "metadata": {
    "collapsed": false,
    "pycharm": {
     "name": "#%%\n"
    }
   }
  },
  {
   "cell_type": "markdown",
   "source": [
    "В начале исследования я не написал предположения что могло случиться в тестовой группе ведь у нас среднее значение ctr в контроле выше чем в тесте, а это явно не то, что я ожидал. Мои гипотезы почему так могло случиться:\n",
    "1. Проблема с реализацией алгоритма, здесь я имею в виду, что он стал хуже находить посты, которые нам нравятся;\n",
    "2. Мб не хватило времени для сбора показателей или кол-во пользователей в каждой выборке не хватало."
   ],
   "metadata": {
    "collapsed": false,
    "pycharm": {
     "name": "#%% md\n"
    }
   }
  },
  {
   "cell_type": "markdown",
   "source": [
    "### Выводы исходя из общих показателей:\n",
    "1. Я бы не рекомендовал расскатывать новую систему рекомендаций, так как исследования показали, что средний ctr в тестовой группе будет меньше по сравнению с контролем;\n",
    "2. При этом все тесты показали что различие между группами есть, единственное классический boostrap не позволил отклонить H0. При этом я бы все же отвергнул H0 и признал что новый алгоритм хуже старого на основе выше приведенных исследований."
   ],
   "metadata": {
    "collapsed": false,
    "pycharm": {
     "name": "#%% md\n"
    }
   }
  },
  {
   "cell_type": "markdown",
   "source": [
    "### A/B test:\n",
    "Задание 3:\n",
    "Разобранными на лекции методами список того, что можно применять к метрикам-отношениям, не ограничивается. Есть огромное количество полезных [материалов](https://vkteam.medium.com/practitioners-guide-to-statistical-tests-ed2d580ef04f#d2d3) на эту темы. Начнем с материалов Никиты Маршалкина. К слову, вот его [интервью](https://www.youtube.com/watch?v=gljfGAkgX_o&t=19s), там тоже много интересного.\n",
    "\n",
    "Относительно недавно (в 2018-м году) исследователи из Яндекса разработали классный метод анализа тестов над метриками-отношениями\n",
    "(прямо как у нас) вида likes/clicks.\n",
    "\n",
    "Идея метода заключается в следующем:\n",
    "\n",
    "Вместо того, чтобы заталкивать в тест «поюзерные» CTR, можно сконструировать другую метрику и анализировать ее, но при этом гарантируется (в отличие от сглаженного CTR), что если тест на этой другой метрике «прокрасится» и увидит изменения, значит изменения есть и в метрике исходной (то есть в лайках на пользователя и в пользовательских CTR\n",
    "\n",
    "При этом метод сам по себе очень прост. Что это за метрика такая?\n",
    "\n",
    "1. Считаем общий CTR в контрольной группе: CTRcontrol=sum(likes)/sum(views);\n",
    "2. Посчитаем в обеих группах поюзерную метрику: linearized_like=likes - CTRcontrol * views;\n",
    "3. После чего сравним  t-тестом отличия в группах по метрике linearized_like.\n",
    "\n",
    "Метод простой, гарантируется, что при приличном размере выборки (как у нас — подойдет) можно бесплатно увеличить чувствительность вашей метрики (или, по крайней мере, не сделать хуже). Как по мне, это ОЧЕНЬ круто.\n",
    "\n",
    "Задача\n",
    "\n",
    "- Проанализируйте тест между группами 0 и 3 по метрике линеаризованных лайков. Видно ли отличие? Стало ли p-value меньше?\n",
    "- Проанализируйте тест между группами 1 и 2 по метрике линеаризованных лайков. Видно ли отличие? Стало ли p-value меньше?"
   ],
   "metadata": {
    "collapsed": false,
    "pycharm": {
     "name": "#%% md\n"
    }
   }
  },
  {
   "cell_type": "markdown",
   "source": [
    "Сначала займусь группами 1 и 2:\n",
    "____"
   ],
   "metadata": {
    "collapsed": false,
    "pycharm": {
     "name": "#%% md\n"
    }
   }
  },
  {
   "cell_type": "code",
   "execution_count": 40,
   "outputs": [
    {
     "data": {
      "text/plain": "   exp_group  user_id  likes  views       ctr\n0          1   109963      3     15  0.200000\n1          1    26117     32    141  0.226950\n2          1   138232     18     73  0.246575\n3          1    18392      7     32  0.218750\n4          1    26295     33    122  0.270492",
      "text/html": "<div>\n<style scoped>\n    .dataframe tbody tr th:only-of-type {\n        vertical-align: middle;\n    }\n\n    .dataframe tbody tr th {\n        vertical-align: top;\n    }\n\n    .dataframe thead th {\n        text-align: right;\n    }\n</style>\n<table border=\"1\" class=\"dataframe\">\n  <thead>\n    <tr style=\"text-align: right;\">\n      <th></th>\n      <th>exp_group</th>\n      <th>user_id</th>\n      <th>likes</th>\n      <th>views</th>\n      <th>ctr</th>\n    </tr>\n  </thead>\n  <tbody>\n    <tr>\n      <th>0</th>\n      <td>1</td>\n      <td>109963</td>\n      <td>3</td>\n      <td>15</td>\n      <td>0.200000</td>\n    </tr>\n    <tr>\n      <th>1</th>\n      <td>1</td>\n      <td>26117</td>\n      <td>32</td>\n      <td>141</td>\n      <td>0.226950</td>\n    </tr>\n    <tr>\n      <th>2</th>\n      <td>1</td>\n      <td>138232</td>\n      <td>18</td>\n      <td>73</td>\n      <td>0.246575</td>\n    </tr>\n    <tr>\n      <th>3</th>\n      <td>1</td>\n      <td>18392</td>\n      <td>7</td>\n      <td>32</td>\n      <td>0.218750</td>\n    </tr>\n    <tr>\n      <th>4</th>\n      <td>1</td>\n      <td>26295</td>\n      <td>33</td>\n      <td>122</td>\n      <td>0.270492</td>\n    </tr>\n  </tbody>\n</table>\n</div>"
     },
     "execution_count": 40,
     "metadata": {},
     "output_type": "execute_result"
    }
   ],
   "source": [
    "q = \"\"\"\n",
    "SELECT exp_group,\n",
    "    user_id,\n",
    "    sum(action = 'like') as likes,\n",
    "    sum(action = 'view') as views,\n",
    "    likes/views as ctr\n",
    "FROM simulator_20220720.feed_actions\n",
    "WHERE toDate(time) between '2022-06-13' and '2022-06-19'\n",
    "    and exp_group in (2,1)\n",
    "GROUP BY exp_group, user_id\n",
    "\"\"\"  #введем нужный запрос\n",
    "df = ph.read_clickhouse(q, connection=connection)\n",
    "df.head()"
   ],
   "metadata": {
    "collapsed": false,
    "pycharm": {
     "name": "#%%\n"
    }
   }
  },
  {
   "cell_type": "markdown",
   "source": [
    "Для начала хочу проверить о равенстве лайков между группами, а после провести несколько исследований по линеризованной версии, но для начала посмотрю на распределение лайков по группам:"
   ],
   "metadata": {
    "collapsed": false,
    "pycharm": {
     "name": "#%% md\n"
    }
   }
  },
  {
   "cell_type": "code",
   "execution_count": 41,
   "outputs": [
    {
     "data": {
      "text/plain": "<Figure size 864x576 with 1 Axes>",
      "image/png": "[encoded data removed]"
     },
     "metadata": {},
     "output_type": "display_data"
    }
   ],
   "source": [
    "plt.figure(figsize=(12, 8))\n",
    "sns.histplot(data=df,\n",
    "             x='likes',\n",
    "             hue='exp_group',\n",
    "             palette=['r', 'b'],\n",
    "             alpha=0.5,\n",
    "             kde=False)\n",
    "sns.despine()"
   ],
   "metadata": {
    "collapsed": false,
    "pycharm": {
     "name": "#%%\n"
    }
   }
  },
  {
   "cell_type": "markdown",
   "source": [
    "Из графика видно, что это распределение очень похоже на экспоненциальное с уклоном влево, поэтому для проверки гипотезы о равенстве среднего кол-во лайков имеет смысл использовать boostrap. Хоть и ttest не требует нормального распределения в выборках, но при этом его не очень корректно использовать при больших скосах, а тут они явно есть. Также я хотел бы использовать функцию, которую я позаимствовал из этого [видео](https://www.youtube.com/watch?v=-zps6hm0nX8)."
   ],
   "metadata": {
    "collapsed": false,
    "pycharm": {
     "name": "#%% md\n"
    }
   }
  },
  {
   "cell_type": "code",
   "execution_count": 42,
   "outputs": [],
   "source": [
    "def get_bootstrap(\n",
    "        data_column_1,  # числовые значения первой выборки\n",
    "        data_column_2,  # числовые значения второй выборки\n",
    "        boot_it=1000,  # количество бутстрэп-подвыборок\n",
    "        statistic=np.mean,  # интересующая нас статистика\n",
    "        bootstrap_conf_level=0.95  # уровень значимости\n",
    "):\n",
    "    boot_len = max([len(data_column_1), len(data_column_2)])\n",
    "    boot_data = []\n",
    "    for i in tqdm(range(boot_it)):  # извлекаем подвыборки\n",
    "        samples_1 = data_column_1.sample(\n",
    "            boot_len,\n",
    "            replace=True  # параметр возвращения\n",
    "        ).values\n",
    "\n",
    "        samples_2 = data_column_2.sample(\n",
    "            boot_len,\n",
    "            replace=True\n",
    "        ).values\n",
    "\n",
    "        boot_data.append(statistic(samples_1 - samples_2))  # mean() - применяем статистику\n",
    "\n",
    "    pd_boot_data = pd.DataFrame(boot_data)\n",
    "\n",
    "    left_quant = (1 - bootstrap_conf_level) / 2\n",
    "    right_quant = 1 - (1 - bootstrap_conf_level) / 2\n",
    "    ci = pd_boot_data.quantile([left_quant, right_quant])\n",
    "\n",
    "    p_1 = stats.norm.cdf(\n",
    "        x=0,\n",
    "        loc=np.mean(boot_data),\n",
    "        scale=np.std(boot_data)\n",
    "    )\n",
    "    p_2 = stats.norm.cdf(\n",
    "        x=0,\n",
    "        loc=-np.mean(boot_data),\n",
    "        scale=np.std(boot_data)\n",
    "    )\n",
    "    p_value = min(p_1, p_2) * 2\n",
    "\n",
    "    # Визуализация\n",
    "    plt.hist(pd_boot_data[0], bins=50)\n",
    "\n",
    "    plt.style.use('ggplot')\n",
    "    plt.vlines(ci, ymin=0, ymax=50, linestyle='--')\n",
    "    plt.xlabel('boot_data')\n",
    "    plt.ylabel('frequency')\n",
    "    plt.title(\"Histogram of boot_data\")\n",
    "    plt.show()\n",
    "\n",
    "    return {\"boot_data\": boot_data,\n",
    "            \"ci\": ci,\n",
    "            \"p_value\": p_value}"
   ],
   "metadata": {
    "collapsed": false,
    "pycharm": {
     "name": "#%%\n"
    }
   }
  },
  {
   "cell_type": "code",
   "execution_count": 43,
   "outputs": [
    {
     "data": {
      "text/plain": "  0%|          | 0/2000 [00:00<?, ?it/s]",
      "application/vnd.jupyter.widget-view+json": {
       "version_major": 2,
       "version_minor": 0,
       "model_id": "0595a576505b420e904d96c5b1edfa3b"
      }
     },
     "metadata": {},
     "output_type": "display_data"
    },
    {
     "data": {
      "text/plain": "<Figure size 432x288 with 1 Axes>",
      "image/png": "[encoded data removed]"
     },
     "metadata": {},
     "output_type": "display_data"
    }
   ],
   "source": [
    "bootstraped = get_bootstrap(df[df[\"exp_group\"] == 1][\"likes\"], df[df[\"exp_group\"] == 2][\"likes\"], boot_it=2000)"
   ],
   "metadata": {
    "collapsed": false,
    "pycharm": {
     "name": "#%%\n"
    }
   }
  },
  {
   "cell_type": "code",
   "execution_count": 44,
   "outputs": [
    {
     "data": {
      "text/plain": "0.0"
     },
     "execution_count": 44,
     "metadata": {},
     "output_type": "execute_result"
    }
   ],
   "source": [
    "bootstraped[\"p_value\"]"
   ],
   "metadata": {
    "collapsed": false,
    "pycharm": {
     "name": "#%%\n"
    }
   }
  },
  {
   "cell_type": "markdown",
   "source": [
    "Параметрический boostrap точно говорит, что H0 нужно отклонить, а теперь я хочу посмотреть на результаты ttest, при этом как и писал выше я бы не доверился ему в данном случае:"
   ],
   "metadata": {
    "collapsed": false,
    "pycharm": {
     "name": "#%% md\n"
    }
   }
  },
  {
   "cell_type": "code",
   "execution_count": 45,
   "outputs": [
    {
     "data": {
      "text/plain": "Ttest_indResult(statistic=4.5009779453960395, pvalue=6.8022465156141964e-06)"
     },
     "execution_count": 45,
     "metadata": {},
     "output_type": "execute_result"
    }
   ],
   "source": [
    "stats.ttest_ind(df[df[\"exp_group\"] == 1][\"likes\"], df[df[\"exp_group\"] == 2][\"likes\"])"
   ],
   "metadata": {
    "collapsed": false,
    "pycharm": {
     "name": "#%%\n"
    }
   }
  },
  {
   "cell_type": "markdown",
   "source": [
    "- p-value в результате ttest нам тоже подталкивает отклонить H0.\n",
    "- А далее я посчитаю метрику как линеризованные лайки и проверю несколько гипотез на ней:"
   ],
   "metadata": {
    "collapsed": false,
    "pycharm": {
     "name": "#%% md\n"
    }
   }
  },
  {
   "cell_type": "code",
   "execution_count": 46,
   "outputs": [],
   "source": [
    "control_group = df[df[\"exp_group\"] == 1]\n",
    "ctr_control = control_group[\"likes\"].sum() / control_group[\"views\"].sum()"
   ],
   "metadata": {
    "collapsed": false,
    "pycharm": {
     "name": "#%%\n"
    }
   }
  },
  {
   "cell_type": "code",
   "execution_count": 47,
   "outputs": [
    {
     "data": {
      "text/plain": "0.20802680490126244"
     },
     "execution_count": 47,
     "metadata": {},
     "output_type": "execute_result"
    }
   ],
   "source": [
    "ctr_control"
   ],
   "metadata": {
    "collapsed": false,
    "pycharm": {
     "name": "#%%\n"
    }
   }
  },
  {
   "cell_type": "code",
   "execution_count": 48,
   "outputs": [],
   "source": [
    "df[\"linearized_like\"] = df[\"likes\"] - df[\"views\"] * ctr_control"
   ],
   "metadata": {
    "collapsed": false,
    "pycharm": {
     "name": "#%%\n"
    }
   }
  },
  {
   "cell_type": "markdown",
   "source": [
    "Метрика посчитана, а теперь хочется на нее посмотреть:"
   ],
   "metadata": {
    "collapsed": false,
    "pycharm": {
     "name": "#%% md\n"
    }
   }
  },
  {
   "cell_type": "code",
   "execution_count": 49,
   "outputs": [
    {
     "data": {
      "text/plain": "<Figure size 864x576 with 1 Axes>",
      "image/png": "[encoded data removed]"
     },
     "metadata": {},
     "output_type": "display_data"
    }
   ],
   "source": [
    "plt.figure(figsize=(12, 8))\n",
    "sns.histplot(data=df,\n",
    "             x='linearized_like',\n",
    "             hue='exp_group',\n",
    "             palette=['r', 'b'],\n",
    "             alpha=0.5,\n",
    "             kde=False)\n",
    "sns.despine()"
   ],
   "metadata": {
    "collapsed": false,
    "pycharm": {
     "name": "#%%\n"
    }
   }
  },
  {
   "cell_type": "markdown",
   "source": [
    "Данный гистплот ну прям очень напоминает нормальное распределение."
   ],
   "metadata": {
    "collapsed": false,
    "pycharm": {
     "name": "#%% md\n"
    }
   }
  },
  {
   "cell_type": "markdown",
   "source": [
    "- Раз уж у нас распределение линеризированных лайков очень похоже на нормальное то сначала я просто хочу применить t-test, таким образом:\n",
    "    - H0: среднее кол-во линеризированных лайков в группах не отличается."
   ],
   "metadata": {
    "collapsed": false,
    "pycharm": {
     "name": "#%% md\n"
    }
   }
  },
  {
   "cell_type": "code",
   "execution_count": 50,
   "outputs": [
    {
     "data": {
      "text/plain": "Ttest_indResult(statistic=6.145218242325588, pvalue=8.136173836093922e-10)"
     },
     "execution_count": 50,
     "metadata": {},
     "output_type": "execute_result"
    }
   ],
   "source": [
    "stats.ttest_ind(df[df[\"exp_group\"] == 1][\"linearized_like\"], df[df[\"exp_group\"] == 2][\"linearized_like\"])"
   ],
   "metadata": {
    "collapsed": false,
    "pycharm": {
     "name": "#%%\n"
    }
   }
  },
  {
   "cell_type": "markdown",
   "source": [
    "p-value подсказывает нам отклонить H0."
   ],
   "metadata": {
    "collapsed": false,
    "pycharm": {
     "name": "#%% md\n"
    }
   }
  },
  {
   "cell_type": "code",
   "execution_count": 51,
   "outputs": [
    {
     "data": {
      "text/plain": "-2.821656215775177e-16"
     },
     "metadata": {},
     "output_type": "display_data"
    },
    {
     "data": {
      "text/plain": "-0.6592771236485152"
     },
     "metadata": {},
     "output_type": "display_data"
    }
   ],
   "source": [
    "display(df[df[\"exp_group\"] == 1][\"linearized_like\"].mean(), df[df[\"exp_group\"] == 2][\"linearized_like\"].mean())"
   ],
   "metadata": {
    "collapsed": false,
    "pycharm": {
     "name": "#%%\n"
    }
   }
  },
  {
   "cell_type": "markdown",
   "source": [
    "Здесь средние значения не очень понятные, ведь как может быть минусовое кол-во лайков. При этом в данной метрике гарантируется, что если она прокраситься, то и в оригинальной метрики есть изменения, так что есть смысмл посмотреть на среднее кол-во лайков в группах:"
   ],
   "metadata": {
    "collapsed": false,
    "pycharm": {
     "name": "#%% md\n"
    }
   }
  },
  {
   "cell_type": "code",
   "execution_count": 52,
   "outputs": [
    {
     "data": {
      "text/plain": "13.792142077587062"
     },
     "metadata": {},
     "output_type": "display_data"
    },
    {
     "data": {
      "text/plain": "13.101386655948554"
     },
     "metadata": {},
     "output_type": "display_data"
    }
   ],
   "source": [
    "display(df[df[\"exp_group\"] == 1][\"likes\"].mean(), df[df[\"exp_group\"] == 2][\"likes\"].mean())"
   ],
   "metadata": {
    "collapsed": false,
    "pycharm": {
     "name": "#%%\n"
    }
   }
  },
  {
   "cell_type": "markdown",
   "source": [
    "Здесь контроль также показывает большее кол-во средних лайков. При этом я также хочу посмотреть на медианное кол-во линеризированных лайков и для этого мне поможет параметрический boostrap, таким образом:\n",
    "- H0: медианное значение лайков в группах одинаковое."
   ],
   "metadata": {
    "collapsed": false,
    "pycharm": {
     "name": "#%% md\n"
    }
   }
  },
  {
   "cell_type": "code",
   "execution_count": 53,
   "outputs": [],
   "source": [
    "a_group_linearized_likes = np.array(df[df[\"exp_group\"] == 1][\"linearized_like\"])\n",
    "b_group_linearized_likes = np.array(df[df[\"exp_group\"] == 2][\"linearized_like\"])"
   ],
   "metadata": {
    "collapsed": false,
    "pycharm": {
     "name": "#%%\n"
    }
   }
  },
  {
   "cell_type": "code",
   "execution_count": 54,
   "outputs": [
    {
     "name": "stdout",
     "output_type": "stream",
     "text": [
      "-89.33155335475345    (-95.18920289334427, -85.10667215385801)\n"
     ]
    }
   ],
   "source": [
    "print(bs.bootstrap_ab(a_group_linearized_likes, b_group_linearized_likes, bs_stats.median, bs_compare.percent_change))"
   ],
   "metadata": {
    "collapsed": false,
    "pycharm": {
     "name": "#%%\n"
    }
   }
  },
  {
   "cell_type": "markdown",
   "source": [
    "- Доверительный интервал в boostrap также не позволяет нам принять H0;\n",
    "- Последнее что я бы хотел проверить - это распределения линеризованных лайков в группах, таким образом:\n",
    "- H0: распределения линеризованных лайков в группах одинаковое."
   ],
   "metadata": {
    "collapsed": false,
    "pycharm": {
     "name": "#%% md\n"
    }
   }
  },
  {
   "cell_type": "code",
   "execution_count": 55,
   "outputs": [
    {
     "data": {
      "text/plain": "MannwhitneyuResult(statistic=54534537.0, pvalue=9.404319579641738e-27)"
     },
     "execution_count": 55,
     "metadata": {},
     "output_type": "execute_result"
    }
   ],
   "source": [
    "stats.mannwhitneyu(np.array(df[df[\"exp_group\"] == 1][\"linearized_like\"]),\n",
    "                   np.array(df[df[\"exp_group\"] == 2][\"linearized_like\"]))"
   ],
   "metadata": {
    "collapsed": false,
    "pycharm": {
     "name": "#%%\n"
    }
   }
  },
  {
   "cell_type": "markdown",
   "source": [
    "Манна-Уитни также не позволяет нам принять H0."
   ],
   "metadata": {
    "collapsed": false,
    "pycharm": {
     "name": "#%% md\n"
    }
   }
  },
  {
   "cell_type": "markdown",
   "source": [
    "### Выводы по группе 1 и 2:\n",
    "1. Кол-во лайков в контроле(1 группе) будет больше и исходя из всех тестов, которые я провел выше. Можно сказать, что разница в группах есть как по среднему, медиане так и в целом по распределению;\n",
    "2. p-value при этом осталось также ниже вышеобговоренного уровня альфа(0.05).\n",
    "\n",
    "А теперь сделаю тоже самое, но для группы 0 и 3:\n",
    "____"
   ],
   "metadata": {
    "collapsed": false,
    "pycharm": {
     "name": "#%% md\n"
    }
   }
  },
  {
   "cell_type": "code",
   "execution_count": 56,
   "outputs": [
    {
     "data": {
      "text/plain": "   exp_group  user_id  likes  views       ctr\n0          3   115383      9     30  0.300000\n1          3   123580     13     48  0.270833\n2          0     4944      8     41  0.195122\n3          0     4504      5     15  0.333333\n4          0   121508     18     88  0.204545",
      "text/html": "<div>\n<style scoped>\n    .dataframe tbody tr th:only-of-type {\n        vertical-align: middle;\n    }\n\n    .dataframe tbody tr th {\n        vertical-align: top;\n    }\n\n    .dataframe thead th {\n        text-align: right;\n    }\n</style>\n<table border=\"1\" class=\"dataframe\">\n  <thead>\n    <tr style=\"text-align: right;\">\n      <th></th>\n      <th>exp_group</th>\n      <th>user_id</th>\n      <th>likes</th>\n      <th>views</th>\n      <th>ctr</th>\n    </tr>\n  </thead>\n  <tbody>\n    <tr>\n      <th>0</th>\n      <td>3</td>\n      <td>115383</td>\n      <td>9</td>\n      <td>30</td>\n      <td>0.300000</td>\n    </tr>\n    <tr>\n      <th>1</th>\n      <td>3</td>\n      <td>123580</td>\n      <td>13</td>\n      <td>48</td>\n      <td>0.270833</td>\n    </tr>\n    <tr>\n      <th>2</th>\n      <td>0</td>\n      <td>4944</td>\n      <td>8</td>\n      <td>41</td>\n      <td>0.195122</td>\n    </tr>\n    <tr>\n      <th>3</th>\n      <td>0</td>\n      <td>4504</td>\n      <td>5</td>\n      <td>15</td>\n      <td>0.333333</td>\n    </tr>\n    <tr>\n      <th>4</th>\n      <td>0</td>\n      <td>121508</td>\n      <td>18</td>\n      <td>88</td>\n      <td>0.204545</td>\n    </tr>\n  </tbody>\n</table>\n</div>"
     },
     "execution_count": 56,
     "metadata": {},
     "output_type": "execute_result"
    }
   ],
   "source": [
    "q = \"\"\"\n",
    "SELECT exp_group,\n",
    "    user_id,\n",
    "    sum(action = 'like') as likes,\n",
    "    sum(action = 'view') as views,\n",
    "    likes/views as ctr\n",
    "FROM simulator_20220720.feed_actions\n",
    "WHERE toDate(time) between '2022-06-13' and '2022-06-19'\n",
    "    and exp_group in (0,3)\n",
    "GROUP BY exp_group, user_id\n",
    "\"\"\"  #введем нужный запрос\n",
    "\n",
    "df = ph.read_clickhouse(q, connection=connection)\n",
    "df.head()"
   ],
   "metadata": {
    "collapsed": false,
    "pycharm": {
     "name": "#%%\n"
    }
   }
  },
  {
   "cell_type": "code",
   "execution_count": 57,
   "outputs": [
    {
     "data": {
      "text/plain": "exp_group       int8\nuser_id       uint32\nlikes         uint64\nviews         uint64\nctr          float64\ndtype: object"
     },
     "execution_count": 57,
     "metadata": {},
     "output_type": "execute_result"
    }
   ],
   "source": [
    "df.dtypes"
   ],
   "metadata": {
    "collapsed": false,
    "pycharm": {
     "name": "#%%\n"
    }
   }
  },
  {
   "cell_type": "code",
   "execution_count": 58,
   "outputs": [
    {
     "data": {
      "text/plain": "exp_group    0\nuser_id      0\nlikes        0\nviews        0\nctr          0\ndtype: int64"
     },
     "execution_count": 58,
     "metadata": {},
     "output_type": "execute_result"
    }
   ],
   "source": [
    "df.isna().sum()"
   ],
   "metadata": {
    "collapsed": false,
    "pycharm": {
     "name": "#%%\n"
    }
   }
  },
  {
   "cell_type": "markdown",
   "source": [
    "С типами данных проблем нету, а также пустых значений у нас не наблюдается. Также как и с прошлыми группами сделаю тоже самое."
   ],
   "metadata": {
    "collapsed": false,
    "pycharm": {
     "name": "#%% md\n"
    }
   }
  },
  {
   "cell_type": "code",
   "execution_count": 59,
   "outputs": [
    {
     "data": {
      "text/plain": "<Figure size 864x576 with 1 Axes>",
      "image/png": "[encoded data removed]"
     },
     "metadata": {},
     "output_type": "display_data"
    }
   ],
   "source": [
    "plt.figure(figsize=(12, 8))\n",
    "sns.histplot(data=df,\n",
    "             x='likes',\n",
    "             hue='exp_group',\n",
    "             palette=['r', 'b'],\n",
    "             alpha=0.5,\n",
    "             kde=False)\n",
    "sns.despine()"
   ],
   "metadata": {
    "collapsed": false,
    "pycharm": {
     "name": "#%%\n"
    }
   }
  },
  {
   "cell_type": "markdown",
   "source": [
    "- Как и в прошлый раз у нас явно есть экспоненциальное распределение влево;\n",
    "- Далее проверю гипотезу о равенстве среднего кол-во лайков у разных групп при помощи ttest и boostrap.\n",
    "- H0: среднее значение между группами не отличается."
   ],
   "metadata": {
    "collapsed": false,
    "pycharm": {
     "name": "#%% md\n"
    }
   }
  },
  {
   "cell_type": "code",
   "execution_count": 60,
   "outputs": [
    {
     "data": {
      "text/plain": "  0%|          | 0/2000 [00:00<?, ?it/s]",
      "application/vnd.jupyter.widget-view+json": {
       "version_major": 2,
       "version_minor": 0,
       "model_id": "f29d69bd113c44ac8b0b6b4d3b8617ab"
      }
     },
     "metadata": {},
     "output_type": "display_data"
    },
    {
     "data": {
      "text/plain": "<Figure size 432x288 with 1 Axes>",
      "image/png": "[encoded data removed]"
     },
     "metadata": {},
     "output_type": "display_data"
    }
   ],
   "source": [
    "bootstraped = get_bootstrap(df[df[\"exp_group\"] == 0][\"likes\"], df[df[\"exp_group\"] == 3][\"likes\"], boot_it=2000)"
   ],
   "metadata": {
    "collapsed": false,
    "pycharm": {
     "name": "#%%\n"
    }
   }
  },
  {
   "cell_type": "code",
   "execution_count": 61,
   "outputs": [
    {
     "data": {
      "text/plain": "0.0"
     },
     "execution_count": 61,
     "metadata": {},
     "output_type": "execute_result"
    }
   ],
   "source": [
    "bootstraped[\"p_value\"]"
   ],
   "metadata": {
    "collapsed": false,
    "pycharm": {
     "name": "#%%\n"
    }
   }
  },
  {
   "cell_type": "markdown",
   "source": [
    "Как и в прошлом эксперименте p-value не позволяет принять H0."
   ],
   "metadata": {
    "collapsed": false,
    "pycharm": {
     "name": "#%% md\n"
    }
   }
  },
  {
   "cell_type": "code",
   "execution_count": 62,
   "outputs": [
    {
     "data": {
      "text/plain": "Ttest_indResult(statistic=-6.706667855931314, pvalue=2.0442582488023223e-11)"
     },
     "execution_count": 62,
     "metadata": {},
     "output_type": "execute_result"
    }
   ],
   "source": [
    "stats.ttest_ind(df[df[\"exp_group\"] == 0][\"likes\"], df[df[\"exp_group\"] == 3][\"likes\"])"
   ],
   "metadata": {
    "collapsed": false,
    "pycharm": {
     "name": "#%%\n"
    }
   }
  },
  {
   "cell_type": "markdown",
   "source": [
    "И p-value тоже показывает, что не стоит принимать H0. При этом далее я хочу посмотреть на среднее значение лайков, а также создать метрику как линеризованные лайки."
   ],
   "metadata": {
    "collapsed": false,
    "pycharm": {
     "name": "#%% md\n"
    }
   }
  },
  {
   "cell_type": "code",
   "execution_count": 63,
   "outputs": [
    {
     "data": {
      "text/plain": "13.987598759875988"
     },
     "metadata": {},
     "output_type": "display_data"
    },
    {
     "data": {
      "text/plain": "14.962583341626033"
     },
     "metadata": {},
     "output_type": "display_data"
    }
   ],
   "source": [
    "display(df[df[\"exp_group\"] == 0][\"likes\"].mean(), df[df[\"exp_group\"] == 3][\"likes\"].mean())"
   ],
   "metadata": {
    "collapsed": false,
    "pycharm": {
     "name": "#%%\n"
    }
   }
  },
  {
   "cell_type": "markdown",
   "source": [
    "Как можно видеть, что в группе 3 среднее кол-во лайков отличается. Также хочу себе записать, что группа 3 - это тестовое группа, а 0 - контрольная."
   ],
   "metadata": {
    "collapsed": false,
    "pycharm": {
     "name": "#%% md\n"
    }
   }
  },
  {
   "cell_type": "code",
   "execution_count": 64,
   "outputs": [],
   "source": [
    "control_group_new = df[df[\"exp_group\"] == 0]\n",
    "ctr_control_new = control_group[\"likes\"].sum() / control_group[\"views\"].sum()"
   ],
   "metadata": {
    "collapsed": false,
    "pycharm": {
     "name": "#%%\n"
    }
   }
  },
  {
   "cell_type": "code",
   "execution_count": 65,
   "outputs": [
    {
     "data": {
      "text/plain": "0.20802680490126244"
     },
     "execution_count": 65,
     "metadata": {},
     "output_type": "execute_result"
    }
   ],
   "source": [
    "ctr_control_new"
   ],
   "metadata": {
    "collapsed": false,
    "pycharm": {
     "name": "#%%\n"
    }
   }
  },
  {
   "cell_type": "code",
   "execution_count": 66,
   "outputs": [],
   "source": [
    "df[\"linearized_like\"] = df[\"likes\"] - df[\"views\"] * ctr_control"
   ],
   "metadata": {
    "collapsed": false,
    "pycharm": {
     "name": "#%%\n"
    }
   }
  },
  {
   "cell_type": "markdown",
   "source": [
    "Теперь я хочу посмотреть на распределения линеризованных лайков:"
   ],
   "metadata": {
    "collapsed": false,
    "pycharm": {
     "name": "#%% md\n"
    }
   }
  },
  {
   "cell_type": "code",
   "execution_count": 67,
   "outputs": [
    {
     "data": {
      "text/plain": "<Figure size 864x576 with 1 Axes>",
      "image/png": "[encoded data removed]"
     },
     "metadata": {},
     "output_type": "display_data"
    }
   ],
   "source": [
    "plt.figure(figsize=(12, 8))\n",
    "sns.histplot(data=df,\n",
    "             x='linearized_like',\n",
    "             hue='exp_group',\n",
    "             palette=['r', 'b'],\n",
    "             alpha=0.5,\n",
    "             kde=False)\n",
    "sns.despine()"
   ],
   "metadata": {
    "collapsed": false,
    "pycharm": {
     "name": "#%%\n"
    }
   }
  },
  {
   "cell_type": "markdown",
   "source": [
    "Как и в прошлый раз распределение +- похоже на нормальное. В этот раз я использую для проверки ttest и таким образом:\n",
    "- H0: среднее кол-во лайках в группах не отличаются."
   ],
   "metadata": {
    "collapsed": false,
    "pycharm": {
     "name": "#%% md\n"
    }
   }
  },
  {
   "cell_type": "code",
   "execution_count": 68,
   "outputs": [
    {
     "data": {
      "text/plain": "Ttest_indResult(statistic=-15.21692351429564, pvalue=5.33281411712014e-52)"
     },
     "execution_count": 68,
     "metadata": {},
     "output_type": "execute_result"
    }
   ],
   "source": [
    "stats.ttest_ind(df[df[\"exp_group\"] == 0][\"linearized_like\"], df[df[\"exp_group\"] == 3][\"linearized_like\"])"
   ],
   "metadata": {
    "collapsed": false,
    "pycharm": {
     "name": "#%%\n"
    }
   }
  },
  {
   "cell_type": "markdown",
   "source": [
    "Исходя из p-value мы можем отклонить H0."
   ],
   "metadata": {
    "collapsed": false,
    "pycharm": {
     "name": "#%% md\n"
    }
   }
  },
  {
   "cell_type": "markdown",
   "source": [
    "### Выводы по группе 0 и 3:\n",
    "1. Кол-во лайков в тестовой группе(3) будет больше по сравнению с контрольной исходя из вышепроведенного исследования.\n",
    "2. При этом p-value был меньше уровня альфы как при сравнении гипотезы о средних на обычных лайках, так и на линеризованных."
   ],
   "metadata": {
    "collapsed": false,
    "pycharm": {
     "name": "#%% md\n"
    }
   }
  }
 ],
 "metadata": {
  "kernelspec": {
   "display_name": "Python 3",
   "language": "python",
   "name": "python3"
  },
  "language_info": {
   "codemirror_mode": {
    "name": "ipython",
    "version": 2
   },
   "file_extension": ".py",
   "mimetype": "text/x-python",
   "name": "python",
   "nbconvert_exporter": "python",
   "pygments_lexer": "ipython2",
   "version": "2.7.6"
  }
 },
 "nbformat": 4,
 "nbformat_minor": 0
}