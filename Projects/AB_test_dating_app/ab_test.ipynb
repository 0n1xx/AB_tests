{
 "cells": [
  {
   "cell_type": "markdown",
   "source": [
    "# Проект: вариант 3:\n",
    "\n",
    "\n",
    "Представьте, что вы работаете в крупном дейтинговом приложении.\n",
    "\n",
    "Помимо базовых функций, в приложении также имеется премиум-подписка, которая дает доступ к ряду важных дополнительных возможностей. Был проведен A/B тест, в рамках которого для новых пользователей из нескольких стран была изменена стоимость премиум-подписки* при покупке через две новые платежные системы. При этом стоимость пробного периода оставалась прежней.\n",
    "\n",
    "Проверьте:\n",
    "\n",
    "1. Был ли эксперимент успешен в целом.\n",
    "2. Проанализируйте, имеет ли нововведение смысл среди каких-либо конкретных групп пользователей.\n",
    "\n",
    "*Деньги за подписку списываются ежемесячно до тех пор, пока пользователь её не отменит."
   ],
   "metadata": {
    "collapsed": false,
    "pycharm": {
     "name": "#%% md\n"
    }
   }
  },
  {
   "cell_type": "markdown",
   "source": [
    "### Справка о данных:\n",
    "1. users_*.csv – информация о пользователях:\n",
    "\n",
    "    - uid – идентификатор пользователя\n",
    "    - age – возраст\n",
    "    - attraction_coeff – коэффициент привлекательности (от 0 до 1000, лайки/просмотры * 1000)\n",
    "    - coins – число монеток (внутренняя валюта)\n",
    "    - country – страна\n",
    "    - visit_days – в какие дни после регистрации пользователь посещал приложение (напр. в 1, затем в 7)\n",
    "    - gender – пол\n",
    "    - age_filter_start  – фильтр поиска, мин. значение\n",
    "    - age_filter_end  – фильтр поиска, макс. значение\n",
    "    - views_count – число полученных оценок\n",
    "    - was_premium – был ли когда-либо премиум (либо пробный период премиум-статуса, либо купленный за деньги)\n",
    "    - is_premium –  является ли премиум\n",
    "    - total_revenue – нормированная выручка\n",
    "\n",
    "\n",
    "2. transactions_*.csv – информация о платежах пользователей:\n",
    "\n",
    "    - uid – идентификатор пользователя\n",
    "    - country – страна\n",
    "    - joined_at – дата и время регистрации\n",
    "    - paid_at – дата и время покупки\n",
    "    - revenue – нормированная выручка\n",
    "    - payment_id – идентификатор платежа\n",
    "    - from_page – откуда пользователь перешел на страницу оплаты\n",
    "    - product_type – тип продукта (trial_premium – пробная премиум-подписка, premium_no_trial – премиум-подписка без пробной, coins – подписка за внутреннюю валюту, other_type – другое)"
   ],
   "metadata": {
    "collapsed": false,
    "pycharm": {
     "name": "#%% md\n"
    }
   }
  },
  {
   "cell_type": "code",
   "execution_count": 98,
   "outputs": [],
   "source": [
    "import pandas as pd\n",
    "import numpy as np\n",
    "import seaborn as sns\n",
    "from matplotlib import pyplot as plt\n",
    "from statsmodels.stats.proportion import proportions_ztest\n",
    "from scipy.stats import ttest_ind, norm, shapiro, levene\n",
    "import pingouin as pg\n",
    "from tqdm.auto import tqdm"
   ],
   "metadata": {
    "collapsed": false,
    "pycharm": {
     "name": "#%%\n"
    }
   }
  },
  {
   "cell_type": "markdown",
   "source": [
    "Все что буду использовать, вставлю в самое начало кода:"
   ],
   "metadata": {
    "collapsed": false,
    "pycharm": {
     "name": "#%% md\n"
    }
   }
  },
  {
   "cell_type": "code",
   "execution_count": 99,
   "outputs": [],
   "source": [
    "def get_bootstrap(\n",
    "        data_column_1,  # числовые значения первой выборки\n",
    "        data_column_2,  # числовые значения второй выборки\n",
    "        boot_it=1000,  # количество бутстрэп-подвыборок\n",
    "        statistic=np.mean,  # интересующая нас статистика\n",
    "        bootstrap_conf_level=0.95  # уровень значимости\n",
    "):\n",
    "    boot_len = max([len(data_column_1), len(data_column_2)])\n",
    "    boot_data = []\n",
    "    for i in tqdm(range(boot_it)):  # извлекаем подвыборки\n",
    "        samples_1 = data_column_1.sample(\n",
    "            boot_len,\n",
    "            replace=True  # параметр возвращения\n",
    "        ).values\n",
    "\n",
    "        samples_2 = data_column_2.sample(\n",
    "            boot_len,\n",
    "            replace=True\n",
    "        ).values\n",
    "\n",
    "        boot_data.append(statistic(samples_1 - samples_2))  # mean() - применяем статистику\n",
    "\n",
    "    pd_boot_data = pd.DataFrame(boot_data)\n",
    "\n",
    "    left_quant = (1 - bootstrap_conf_level) / 2\n",
    "    right_quant = 1 - (1 - bootstrap_conf_level) / 2\n",
    "    ci = pd_boot_data.quantile([left_quant, right_quant])\n",
    "\n",
    "    p_1 = norm.cdf(\n",
    "        x=0,\n",
    "        loc=np.mean(boot_data),\n",
    "        scale=np.std(boot_data)\n",
    "    )\n",
    "    p_2 = norm.cdf(\n",
    "        x=0,\n",
    "        loc=-np.mean(boot_data),\n",
    "        scale=np.std(boot_data)\n",
    "    )\n",
    "    p_value = min(p_1, p_2) * 2\n",
    "\n",
    "    # Визуализация\n",
    "    plt.hist(pd_boot_data[0], bins=50)\n",
    "\n",
    "    plt.style.use('ggplot')\n",
    "    plt.vlines(ci, ymin=0, ymax=50, linestyle='--')\n",
    "    plt.xlabel('boot_data')\n",
    "    plt.ylabel('frequency')\n",
    "    plt.title(\"Histogram of boot_data\")\n",
    "    plt.show()\n",
    "\n",
    "    return {\"boot_data\": boot_data,\n",
    "            \"ci\": ci,\n",
    "            \"p_value\": p_value}"
   ],
   "metadata": {
    "collapsed": false,
    "pycharm": {
     "name": "#%%\n"
    }
   }
  },
  {
   "cell_type": "markdown",
   "source": [
    "### Преподготовка данных:"
   ],
   "metadata": {
    "collapsed": false,
    "pycharm": {
     "name": "#%% md\n"
    }
   }
  },
  {
   "cell_type": "code",
   "execution_count": 100,
   "outputs": [],
   "source": [
    "user_test = pd.read_csv(\"user_test.csv\", sep=';')\n",
    "users_control1 = pd.read_csv(\"users_control1.csv\", sep=';')\n",
    "users_control2 = pd.read_csv(\"users_control2.csv\", sep=';')\n",
    "transaction_test = pd.read_csv(\"transaction_test.csv\", sep=';')\n",
    "transaction_control1 = pd.read_csv(\"transaction_control1.csv\", sep=';')\n",
    "transaction_control2 = pd.read_csv(\"transaction_control2.csv\", sep=';')"
   ],
   "metadata": {
    "collapsed": false,
    "pycharm": {
     "name": "#%%\n"
    }
   }
  },
  {
   "cell_type": "code",
   "execution_count": 101,
   "outputs": [
    {
     "data": {
      "text/plain": "         uid  age  attraction_coeff  coins                   country  \\\n0  892309896   27               685    NaN  United States of America   \n1  892044516   27                 0    NaN                   Germany   \n2  892185708   45                44    NaN                    Israel   \n3  892130292   32                 0    NaN  United States of America   \n4  891406035   27              1000    NaN                    France   \n\n                                          visit_days  gender  \\\n0                   1,2,3,4,5,6,7,8,9,10,11,12,16,17       1   \n1                                                NaN       1   \n2  1,3,4,6,7,8,10,11,12,13,14,15,16,17,18,19,20,2...       1   \n3                         1,2,3,4,5,6,7,8,9,10,11,12       1   \n4                                                NaN       1   \n\n   age_filter_start  age_filter_end  views_count  was_premium  is_premium  \\\n0                24              30           89          NaN         NaN   \n1                24              30            0          NaN         NaN   \n2                42              48           68          NaN         NaN   \n3                29              35            0          NaN         NaN   \n4                24              30            1          1.0         NaN   \n\n   total_revenue  \n0              0  \n1              0  \n2              0  \n3              0  \n4              0  ",
      "text/html": "<div>\n<style scoped>\n    .dataframe tbody tr th:only-of-type {\n        vertical-align: middle;\n    }\n\n    .dataframe tbody tr th {\n        vertical-align: top;\n    }\n\n    .dataframe thead th {\n        text-align: right;\n    }\n</style>\n<table border=\"1\" class=\"dataframe\">\n  <thead>\n    <tr style=\"text-align: right;\">\n      <th></th>\n      <th>uid</th>\n      <th>age</th>\n      <th>attraction_coeff</th>\n      <th>coins</th>\n      <th>country</th>\n      <th>visit_days</th>\n      <th>gender</th>\n      <th>age_filter_start</th>\n      <th>age_filter_end</th>\n      <th>views_count</th>\n      <th>was_premium</th>\n      <th>is_premium</th>\n      <th>total_revenue</th>\n    </tr>\n  </thead>\n  <tbody>\n    <tr>\n      <th>0</th>\n      <td>892309896</td>\n      <td>27</td>\n      <td>685</td>\n      <td>NaN</td>\n      <td>United States of America</td>\n      <td>1,2,3,4,5,6,7,8,9,10,11,12,16,17</td>\n      <td>1</td>\n      <td>24</td>\n      <td>30</td>\n      <td>89</td>\n      <td>NaN</td>\n      <td>NaN</td>\n      <td>0</td>\n    </tr>\n    <tr>\n      <th>1</th>\n      <td>892044516</td>\n      <td>27</td>\n      <td>0</td>\n      <td>NaN</td>\n      <td>Germany</td>\n      <td>NaN</td>\n      <td>1</td>\n      <td>24</td>\n      <td>30</td>\n      <td>0</td>\n      <td>NaN</td>\n      <td>NaN</td>\n      <td>0</td>\n    </tr>\n    <tr>\n      <th>2</th>\n      <td>892185708</td>\n      <td>45</td>\n      <td>44</td>\n      <td>NaN</td>\n      <td>Israel</td>\n      <td>1,3,4,6,7,8,10,11,12,13,14,15,16,17,18,19,20,2...</td>\n      <td>1</td>\n      <td>42</td>\n      <td>48</td>\n      <td>68</td>\n      <td>NaN</td>\n      <td>NaN</td>\n      <td>0</td>\n    </tr>\n    <tr>\n      <th>3</th>\n      <td>892130292</td>\n      <td>32</td>\n      <td>0</td>\n      <td>NaN</td>\n      <td>United States of America</td>\n      <td>1,2,3,4,5,6,7,8,9,10,11,12</td>\n      <td>1</td>\n      <td>29</td>\n      <td>35</td>\n      <td>0</td>\n      <td>NaN</td>\n      <td>NaN</td>\n      <td>0</td>\n    </tr>\n    <tr>\n      <th>4</th>\n      <td>891406035</td>\n      <td>27</td>\n      <td>1000</td>\n      <td>NaN</td>\n      <td>France</td>\n      <td>NaN</td>\n      <td>1</td>\n      <td>24</td>\n      <td>30</td>\n      <td>1</td>\n      <td>1.0</td>\n      <td>NaN</td>\n      <td>0</td>\n    </tr>\n  </tbody>\n</table>\n</div>"
     },
     "metadata": {},
     "output_type": "display_data"
    },
    {
     "data": {
      "text/plain": "         uid                   country            joined_at  \\\n0  891345942                     Italy  2017-05-11 13:00:00   \n1  892054251  United States of America  2017-10-22 00:33:00   \n2  892236423  United States of America  2017-10-18 01:09:00   \n3  892236423  United States of America  2017-10-18 01:09:00   \n4  892168170  United States of America  2017-10-19 17:10:00   \n\n               paid_at  revenue  payment_id        from_page   product_type  \n0  2017-11-13 15:04:00    12909         147  trial_vip_popup  trial_premium  \n1  2017-10-30 01:37:00    13923         147  trial_vip_popup  trial_premium  \n2  2017-10-23 00:15:00     3783          67             menu     other_type  \n3  2017-10-27 22:38:00     3783          67             menu     other_type  \n4  2017-10-27 19:10:00     9087         147  trial_vip_popup  trial_premium  ",
      "text/html": "<div>\n<style scoped>\n    .dataframe tbody tr th:only-of-type {\n        vertical-align: middle;\n    }\n\n    .dataframe tbody tr th {\n        vertical-align: top;\n    }\n\n    .dataframe thead th {\n        text-align: right;\n    }\n</style>\n<table border=\"1\" class=\"dataframe\">\n  <thead>\n    <tr style=\"text-align: right;\">\n      <th></th>\n      <th>uid</th>\n      <th>country</th>\n      <th>joined_at</th>\n      <th>paid_at</th>\n      <th>revenue</th>\n      <th>payment_id</th>\n      <th>from_page</th>\n      <th>product_type</th>\n    </tr>\n  </thead>\n  <tbody>\n    <tr>\n      <th>0</th>\n      <td>891345942</td>\n      <td>Italy</td>\n      <td>2017-05-11 13:00:00</td>\n      <td>2017-11-13 15:04:00</td>\n      <td>12909</td>\n      <td>147</td>\n      <td>trial_vip_popup</td>\n      <td>trial_premium</td>\n    </tr>\n    <tr>\n      <th>1</th>\n      <td>892054251</td>\n      <td>United States of America</td>\n      <td>2017-10-22 00:33:00</td>\n      <td>2017-10-30 01:37:00</td>\n      <td>13923</td>\n      <td>147</td>\n      <td>trial_vip_popup</td>\n      <td>trial_premium</td>\n    </tr>\n    <tr>\n      <th>2</th>\n      <td>892236423</td>\n      <td>United States of America</td>\n      <td>2017-10-18 01:09:00</td>\n      <td>2017-10-23 00:15:00</td>\n      <td>3783</td>\n      <td>67</td>\n      <td>menu</td>\n      <td>other_type</td>\n    </tr>\n    <tr>\n      <th>3</th>\n      <td>892236423</td>\n      <td>United States of America</td>\n      <td>2017-10-18 01:09:00</td>\n      <td>2017-10-27 22:38:00</td>\n      <td>3783</td>\n      <td>67</td>\n      <td>menu</td>\n      <td>other_type</td>\n    </tr>\n    <tr>\n      <th>4</th>\n      <td>892168170</td>\n      <td>United States of America</td>\n      <td>2017-10-19 17:10:00</td>\n      <td>2017-10-27 19:10:00</td>\n      <td>9087</td>\n      <td>147</td>\n      <td>trial_vip_popup</td>\n      <td>trial_premium</td>\n    </tr>\n  </tbody>\n</table>\n</div>"
     },
     "metadata": {},
     "output_type": "display_data"
    }
   ],
   "source": [
    "display(user_test.head(), transaction_test.head())"
   ],
   "metadata": {
    "collapsed": false,
    "pycharm": {
     "name": "#%%\n"
    }
   }
  },
  {
   "cell_type": "code",
   "execution_count": 102,
   "outputs": [
    {
     "data": {
      "text/plain": "uid             630\ncountry         630\njoined_at         0\npaid_at           0\nrevenue         630\npayment_id      630\nfrom_page       630\nproduct_type    630\ndtype: int64"
     },
     "execution_count": 102,
     "metadata": {},
     "output_type": "execute_result"
    }
   ],
   "source": [
    "transaction_control1.isna().sum()"
   ],
   "metadata": {
    "collapsed": false,
    "pycharm": {
     "name": "#%%\n"
    }
   }
  },
  {
   "cell_type": "code",
   "execution_count": 103,
   "outputs": [],
   "source": [
    "transaction_control1 = transaction_control1.dropna()"
   ],
   "metadata": {
    "collapsed": false,
    "pycharm": {
     "name": "#%%\n"
    }
   }
  },
  {
   "cell_type": "code",
   "execution_count": 104,
   "outputs": [],
   "source": [
    "user_test['coins'] = user_test['coins'].fillna(0)\n",
    "users_control1['coins'] = users_control1['coins'].fillna(0)\n",
    "users_control2['coins'] = users_control2['coins'].fillna(0)"
   ],
   "metadata": {
    "collapsed": false,
    "pycharm": {
     "name": "#%%\n"
    }
   }
  },
  {
   "cell_type": "code",
   "execution_count": 105,
   "outputs": [],
   "source": [
    "user_test['was_premium'] = user_test['was_premium'].fillna(0)\n",
    "users_control1['was_premium'] = users_control1['was_premium'].fillna(0)\n",
    "users_control2['was_premium'] = users_control2['was_premium'].fillna(0)\n",
    "\n",
    "user_test['is_premium'] = user_test['is_premium'].fillna(0)\n",
    "users_control1['is_premium'] = users_control1['is_premium'].fillna(0)\n",
    "users_control2['is_premium'] = users_control2['is_premium'].fillna(0)"
   ],
   "metadata": {
    "collapsed": false,
    "pycharm": {
     "name": "#%%\n"
    }
   }
  },
  {
   "cell_type": "markdown",
   "source": [
    "##### Был ли эксперимент успешен в целом:\n",
    "____\n",
    "Сначала посмотрю на выбросы и удалю их в случае выявления:"
   ],
   "metadata": {
    "collapsed": false,
    "pycharm": {
     "name": "#%% md\n"
    }
   }
  },
  {
   "cell_type": "code",
   "execution_count": 106,
   "outputs": [
    {
     "data": {
      "text/plain": "<Figure size 432x288 with 1 Axes>",
      "image/png": "[encoded data removed]"
     },
     "metadata": {},
     "output_type": "display_data"
    }
   ],
   "source": [
    "users_A1 = users_control1.assign(Group=\"A1\")\n",
    "users_A2 = users_control2.assign(Group=\"A2\")\n",
    "users_B = user_test.assign(Group=\"B\")\n",
    "\n",
    "# New dataframe Groups 3in1\n",
    "u = pd.concat([users_A1, users_A2, users_B])\n",
    "\n",
    "sns.boxplot(x=\"Group\", y=\"total_revenue\", data=u).set_title('Total Revenue')\n",
    "sns.despine()"
   ],
   "metadata": {
    "collapsed": false,
    "pycharm": {
     "name": "#%%\n"
    }
   }
  },
  {
   "cell_type": "code",
   "execution_count": 107,
   "outputs": [
    {
     "data": {
      "text/plain": "12912"
     },
     "execution_count": 107,
     "metadata": {},
     "output_type": "execute_result"
    }
   ],
   "source": [
    "u.shape[0]"
   ],
   "metadata": {
    "collapsed": false,
    "pycharm": {
     "name": "#%%\n"
    }
   }
  },
  {
   "cell_type": "markdown",
   "source": [
    "В группах A1 и A2 есть выбросы и от них лучше всего избавиться."
   ],
   "metadata": {
    "collapsed": false,
    "pycharm": {
     "name": "#%% md\n"
    }
   }
  },
  {
   "cell_type": "code",
   "execution_count": 108,
   "outputs": [
    {
     "data": {
      "text/plain": "            uid  age  attraction_coeff   coins country        visit_days  \\\n1427  892333905   22               175  3608.0   Italy  1,2,3,4,5,6,7,15   \n\n      gender  age_filter_start  age_filter_end  views_count  was_premium  \\\n1427       1                19              25          575          1.0   \n\n      is_premium  total_revenue Group  \n1427         1.0         486330    A1  ",
      "text/html": "<div>\n<style scoped>\n    .dataframe tbody tr th:only-of-type {\n        vertical-align: middle;\n    }\n\n    .dataframe tbody tr th {\n        vertical-align: top;\n    }\n\n    .dataframe thead th {\n        text-align: right;\n    }\n</style>\n<table border=\"1\" class=\"dataframe\">\n  <thead>\n    <tr style=\"text-align: right;\">\n      <th></th>\n      <th>uid</th>\n      <th>age</th>\n      <th>attraction_coeff</th>\n      <th>coins</th>\n      <th>country</th>\n      <th>visit_days</th>\n      <th>gender</th>\n      <th>age_filter_start</th>\n      <th>age_filter_end</th>\n      <th>views_count</th>\n      <th>was_premium</th>\n      <th>is_premium</th>\n      <th>total_revenue</th>\n      <th>Group</th>\n    </tr>\n  </thead>\n  <tbody>\n    <tr>\n      <th>1427</th>\n      <td>892333905</td>\n      <td>22</td>\n      <td>175</td>\n      <td>3608.0</td>\n      <td>Italy</td>\n      <td>1,2,3,4,5,6,7,15</td>\n      <td>1</td>\n      <td>19</td>\n      <td>25</td>\n      <td>575</td>\n      <td>1.0</td>\n      <td>1.0</td>\n      <td>486330</td>\n      <td>A1</td>\n    </tr>\n  </tbody>\n</table>\n</div>"
     },
     "execution_count": 108,
     "metadata": {},
     "output_type": "execute_result"
    }
   ],
   "source": [
    "users_A1.query(\"total_revenue > 200000\")"
   ],
   "metadata": {
    "collapsed": false,
    "pycharm": {
     "name": "#%%\n"
    }
   }
  },
  {
   "cell_type": "code",
   "execution_count": 109,
   "outputs": [],
   "source": [
    "u = u.query('uid != 892333905')\n",
    "transaction_control1 = transaction_control1.query('uid != 892333905')\n",
    "users_control1 = users_control1.query('uid != 892333905')"
   ],
   "metadata": {
    "collapsed": false,
    "pycharm": {
     "name": "#%%\n"
    }
   }
  },
  {
   "cell_type": "code",
   "execution_count": 110,
   "outputs": [
    {
     "data": {
      "text/plain": "12911"
     },
     "execution_count": 110,
     "metadata": {},
     "output_type": "execute_result"
    }
   ],
   "source": [
    "u.shape[0]"
   ],
   "metadata": {
    "collapsed": false,
    "pycharm": {
     "name": "#%%\n"
    }
   }
  },
  {
   "cell_type": "code",
   "execution_count": 113,
   "outputs": [],
   "source": [
    "ctr1 = users_control1.query(\"total_revenue > 0\")\n",
    "ctr2 = users_control2.query(\"total_revenue > 0\")\n",
    "test1 = user_test.query(\"total_revenue > 0\")"
   ],
   "metadata": {
    "collapsed": false,
    "pycharm": {
     "name": "#%%\n"
    }
   }
  },
  {
   "cell_type": "markdown",
   "source": [
    "А теперь можно посмотреть удачно ли у нас был проведен A/A тест и для этого H0 = A1 == A2, а H1 что A1 != A2, но когда я пытаюсь объяснить что это такое, то просто показываю данный мем:\n",
    "\n",
    "<img src=\"https://raw.githubusercontent.com/CloudChaoszero/Presentations/d641be8e1d90dda482f9cc2a955990b1497277b2/PyBayTalks/2019/AB-Testing-Python/Resources/Images/a_a_test_meme.png\">"
   ],
   "metadata": {
    "collapsed": false,
    "pycharm": {
     "name": "#%% md\n"
    }
   }
  },
  {
   "cell_type": "code",
   "execution_count": 114,
   "outputs": [
    {
     "data": {
      "text/plain": "  0%|          | 0/1000 [00:00<?, ?it/s]",
      "application/vnd.jupyter.widget-view+json": {
       "version_major": 2,
       "version_minor": 0,
       "model_id": "21fe3a433f80440ba51d44d23e1fe2e1"
      }
     },
     "metadata": {},
     "output_type": "display_data"
    },
    {
     "data": {
      "text/plain": "<Figure size 864x576 with 1 Axes>",
      "image/png": "[encoded data removed]"
     },
     "metadata": {},
     "output_type": "display_data"
    },
    {
     "data": {
      "text/plain": "0.022"
     },
     "execution_count": 114,
     "metadata": {},
     "output_type": "execute_result"
    }
   ],
   "source": [
    "n = 100000\n",
    "simulations = 1000\n",
    "n_s = 1000\n",
    "res = []\n",
    "# Запуск симуляций A/A теста\n",
    "for i in tqdm(range(simulations)):\n",
    "    s1 = users_control1.total_revenue.sample(n_s, replace=False).values\n",
    "    s2 = users_control2.total_revenue.sample(n_s, replace=False).values\n",
    "    res.append(ttest_ind(s1, s2, equal_var=False)[1])  # сохраняем pvalue\n",
    "\n",
    "plt.figure(figsize=(12, 8))\n",
    "plt.hist(res, bins=50)\n",
    "plt.style.use('ggplot')\n",
    "plt.xlabel('pvalues')\n",
    "plt.ylabel('frequency')\n",
    "plt.title(\"Histogram of ttest A/A simulations \")\n",
    "plt.show()\n",
    "# Проверяем, что количество ложноположительных случаев не превышает альфа\n",
    "sum(np.array(res) < 0.05) / simulations"
   ],
   "metadata": {
    "collapsed": false,
    "pycharm": {
     "name": "#%%\n"
    }
   }
  },
  {
   "cell_type": "markdown",
   "source": [
    "FPR < 0.05, а именно такую границу обычно берут и значит сплитовалка работает корректно;\n",
    "\n",
    "При этом перед этим я бы хотел немного поэскплорить данные и я начну с построение боксплотов и других графиков\n",
    "Также спасибо, что направил меня, так как у меня правда была неуверенность в таких задачках, но я понял, что стоит лишь начать экспериментировать и это возможно к чему-то приведет :)"
   ],
   "metadata": {
    "collapsed": false,
    "pycharm": {
     "name": "#%% md\n"
    }
   }
  },
  {
   "cell_type": "code",
   "execution_count": 115,
   "outputs": [
    {
     "data": {
      "text/plain": "<Figure size 864x576 with 1 Axes>",
      "image/png": "[encoded data removed]"
     },
     "metadata": {},
     "output_type": "display_data"
    }
   ],
   "source": [
    "plt.figure(figsize=(12, 8))\n",
    "sns.histplot(ctr1.total_revenue)\n",
    "sns.despine()"
   ],
   "metadata": {
    "collapsed": false,
    "pycharm": {
     "name": "#%%\n"
    }
   }
  },
  {
   "cell_type": "code",
   "execution_count": 116,
   "outputs": [
    {
     "data": {
      "text/plain": "<Figure size 864x576 with 1 Axes>",
      "image/png": "[encoded data removed]"
     },
     "metadata": {},
     "output_type": "display_data"
    }
   ],
   "source": [
    "plt.figure(figsize=(12, 8))\n",
    "sns.histplot(ctr2.total_revenue)\n",
    "sns.despine()"
   ],
   "metadata": {
    "collapsed": false,
    "pycharm": {
     "name": "#%%\n"
    }
   }
  },
  {
   "cell_type": "code",
   "execution_count": 117,
   "outputs": [
    {
     "data": {
      "text/plain": "<Figure size 864x576 with 1 Axes>",
      "image/png": "[encoded data removed]"
     },
     "metadata": {},
     "output_type": "display_data"
    }
   ],
   "source": [
    "plt.figure(figsize=(12, 8))\n",
    "sns.histplot(test1.total_revenue)\n",
    "sns.despine()"
   ],
   "metadata": {
    "collapsed": false,
    "pycharm": {
     "name": "#%%\n"
    }
   }
  },
  {
   "cell_type": "markdown",
   "source": [
    "Здесь стоит проверить данные на нормальность, но при этом это не главное условие перед применением t-test, а главный условием является гомогенность дисперсий, а вот это уже можно проверить при помощи критерия Левена или критерия Фишера:"
   ],
   "metadata": {
    "collapsed": false,
    "pycharm": {
     "name": "#%% md\n"
    }
   }
  },
  {
   "cell_type": "code",
   "execution_count": 118,
   "outputs": [],
   "source": [
    "all_ctrl = pd.concat([ctr1, ctr2])"
   ],
   "metadata": {
    "collapsed": false,
    "pycharm": {
     "name": "#%%\n"
    }
   }
  },
  {
   "cell_type": "code",
   "execution_count": 119,
   "outputs": [
    {
     "name": "stdout",
     "output_type": "stream",
     "text": [
      "0.00836366975630691\n"
     ]
    }
   ],
   "source": [
    "stat, p = levene(all_ctrl.total_revenue, test1.total_revenue)\n",
    "print(p)"
   ],
   "metadata": {
    "collapsed": false,
    "pycharm": {
     "name": "#%%\n"
    }
   }
  },
  {
   "cell_type": "markdown",
   "source": [
    "Добавим колонку с буквой, вдруг это нам понадобиться, а также гипотезу о равенстве гипотез между 3 групп:"
   ],
   "metadata": {
    "collapsed": false,
    "pycharm": {
     "name": "#%% md\n"
    }
   }
  },
  {
   "cell_type": "code",
   "execution_count": 120,
   "outputs": [],
   "source": [
    "test1.insert(13, 'A/B_group', \"B\")"
   ],
   "metadata": {
    "collapsed": false,
    "pycharm": {
     "name": "#%%\n"
    }
   }
  },
  {
   "cell_type": "code",
   "execution_count": 121,
   "outputs": [],
   "source": [
    "ctr1.insert(13, 'A/B_group', \"A1\")\n",
    "ctr2.insert(13, 'A/B_group', \"A2\")"
   ],
   "metadata": {
    "collapsed": false,
    "pycharm": {
     "name": "#%%\n"
    }
   }
  },
  {
   "cell_type": "code",
   "execution_count": 122,
   "outputs": [],
   "source": [
    "all_groups = pd.concat([test1, ctr1, ctr2])"
   ],
   "metadata": {
    "collapsed": false,
    "pycharm": {
     "name": "#%%\n"
    }
   }
  },
  {
   "cell_type": "code",
   "execution_count": 123,
   "outputs": [
    {
     "data": {
      "text/plain": "           uid                   country  age  total_revenue A/B_group\n20   891152790                     Spain   29          12597         B\n35   892333656  United States of America   50            897         B\n44   891589239                     Italy   21          37817         B\n100  891343671                    France   26          21580         B\n105  892430988  United States of America   28          12727         B",
      "text/html": "<div>\n<style scoped>\n    .dataframe tbody tr th:only-of-type {\n        vertical-align: middle;\n    }\n\n    .dataframe tbody tr th {\n        vertical-align: top;\n    }\n\n    .dataframe thead th {\n        text-align: right;\n    }\n</style>\n<table border=\"1\" class=\"dataframe\">\n  <thead>\n    <tr style=\"text-align: right;\">\n      <th></th>\n      <th>uid</th>\n      <th>country</th>\n      <th>age</th>\n      <th>total_revenue</th>\n      <th>A/B_group</th>\n    </tr>\n  </thead>\n  <tbody>\n    <tr>\n      <th>20</th>\n      <td>891152790</td>\n      <td>Spain</td>\n      <td>29</td>\n      <td>12597</td>\n      <td>B</td>\n    </tr>\n    <tr>\n      <th>35</th>\n      <td>892333656</td>\n      <td>United States of America</td>\n      <td>50</td>\n      <td>897</td>\n      <td>B</td>\n    </tr>\n    <tr>\n      <th>44</th>\n      <td>891589239</td>\n      <td>Italy</td>\n      <td>21</td>\n      <td>37817</td>\n      <td>B</td>\n    </tr>\n    <tr>\n      <th>100</th>\n      <td>891343671</td>\n      <td>France</td>\n      <td>26</td>\n      <td>21580</td>\n      <td>B</td>\n    </tr>\n    <tr>\n      <th>105</th>\n      <td>892430988</td>\n      <td>United States of America</td>\n      <td>28</td>\n      <td>12727</td>\n      <td>B</td>\n    </tr>\n  </tbody>\n</table>\n</div>"
     },
     "execution_count": 123,
     "metadata": {},
     "output_type": "execute_result"
    }
   ],
   "source": [
    "all_groups = all_groups[[\"uid\", \"country\", \"age\", \"total_revenue\", \"A/B_group\"]]  #оставим лишь нужные колонки\n",
    "all_groups.head()"
   ],
   "metadata": {
    "collapsed": false,
    "pycharm": {
     "name": "#%%\n"
    }
   }
  },
  {
   "cell_type": "code",
   "execution_count": 124,
   "outputs": [
    {
     "data": {
      "text/plain": "               W      pval  equal_var\nlevene  3.505458  0.030743      False",
      "text/html": "<div>\n<style scoped>\n    .dataframe tbody tr th:only-of-type {\n        vertical-align: middle;\n    }\n\n    .dataframe tbody tr th {\n        vertical-align: top;\n    }\n\n    .dataframe thead th {\n        text-align: right;\n    }\n</style>\n<table border=\"1\" class=\"dataframe\">\n  <thead>\n    <tr style=\"text-align: right;\">\n      <th></th>\n      <th>W</th>\n      <th>pval</th>\n      <th>equal_var</th>\n    </tr>\n  </thead>\n  <tbody>\n    <tr>\n      <th>levene</th>\n      <td>3.505458</td>\n      <td>0.030743</td>\n      <td>False</td>\n    </tr>\n  </tbody>\n</table>\n</div>"
     },
     "execution_count": 124,
     "metadata": {},
     "output_type": "execute_result"
    }
   ],
   "source": [
    "pg.homoscedasticity(data=all_groups, dv='total_revenue',\n",
    "                    group='A/B_group')  #Здесь я использовал другой пакет, но он мне также понадобиться при использовании непараметрической anova в дальнейшем:"
   ],
   "metadata": {
    "collapsed": false,
    "pycharm": {
     "name": "#%%\n"
    }
   }
  },
  {
   "cell_type": "markdown",
   "source": [
    "Маленькое p-value говорит нам о разности в дисперсиях в группах;\n",
    "А теперь можно посмотреть на суммы по странам и по возрастной категории:"
   ],
   "metadata": {
    "collapsed": false,
    "pycharm": {
     "name": "#%% md\n"
    }
   }
  },
  {
   "cell_type": "code",
   "execution_count": 125,
   "outputs": [],
   "source": [
    "all_ctr = pd.concat([ctr1, ctr2])  #на время соединю контрольные группы"
   ],
   "metadata": {
    "collapsed": false,
    "pycharm": {
     "name": "#%%\n"
    }
   }
  },
  {
   "cell_type": "code",
   "execution_count": 126,
   "outputs": [],
   "source": [
    "country_revenue_control = all_ctr.groupby(\"country\", as_index=False)\\\n",
    "    .agg({\"total_revenue\": \"sum\"})\\\n",
    "    .sort_values(\"total_revenue\", ascending=False)"
   ],
   "metadata": {
    "collapsed": false,
    "pycharm": {
     "name": "#%%\n"
    }
   }
  },
  {
   "cell_type": "code",
   "execution_count": 127,
   "outputs": [],
   "source": [
    "country_revenue_test = test1.groupby(\"country\", as_index=False)\\\n",
    "    .agg({\"total_revenue\": \"sum\"})\\\n",
    "    .sort_values(\"total_revenue\", ascending=False)"
   ],
   "metadata": {
    "collapsed": false,
    "pycharm": {
     "name": "#%%\n"
    }
   }
  },
  {
   "cell_type": "code",
   "execution_count": 128,
   "outputs": [
    {
     "data": {
      "text/plain": "<Figure size 864x576 with 1 Axes>",
      "image/png": "[encoded data removed]"
     },
     "metadata": {},
     "output_type": "display_data"
    }
   ],
   "source": [
    "### Такую заготовку я заранее сделал и теперь использую всегда, когда мне нужен barplot:\n",
    "\n",
    "sns.set_palette(sns.color_palette(\"Paired\"))\n",
    "\n",
    "#Устанавливаем размер и строим сам график\n",
    "plt.figure(figsize=(12, 8))\n",
    "ax1 = sns.barplot(x=\"country\", y=\"total_revenue\", data=country_revenue_control, palette=\"cubehelix\")\n",
    "ax1.set_xticklabels(ax1.get_xticklabels(), rotation=90, fontdict={'fontsize': 14})\n",
    "\n",
    "#Устанавливаем заголовки\n",
    "ax1.set_title(\"Выручка по каждой стране в контрольных группах\", fontdict={'fontsize': 20, 'fontweight': 'medium'})\n",
    "ax1.set_xlabel(\"Страны\", fontdict={'fontsize': 14, 'fontweight': 'medium'})\n",
    "ax1.set_ylabel(\"Выручка\", fontdict={'fontsize': 14, 'fontweight': 'medium'})\n",
    "\n",
    "#Удаление лишнего при выводе и сам вывод\n",
    "sns.despine()\n",
    "plt.show()"
   ],
   "metadata": {
    "collapsed": false,
    "pycharm": {
     "name": "#%%\n"
    }
   }
  },
  {
   "cell_type": "code",
   "execution_count": 129,
   "outputs": [
    {
     "data": {
      "text/plain": "<Figure size 864x576 with 1 Axes>",
      "image/png": "[encoded data removed]"
     },
     "metadata": {},
     "output_type": "display_data"
    }
   ],
   "source": [
    "#Устанавливаем политру\n",
    "needed_palette = sns.set_palette(\"icefire\")\n",
    "\n",
    "#Устанавливаем размер и строим сам график\n",
    "plt.figure(figsize=(12, 8))\n",
    "ax1 = sns.barplot(x=\"country\", y=\"total_revenue\", data=country_revenue_test, palette=\"cubehelix\")\n",
    "ax1.set_xticklabels(ax1.get_xticklabels(), rotation=90, fontdict={'fontsize': 14})\n",
    "\n",
    "#Устанавливаем заголовки\n",
    "ax1.set_title(\"Выручка по каждой стране в тестовой группе\", fontdict={'fontsize': 20, 'fontweight': 'medium'})\n",
    "ax1.set_xlabel(\"Страны\", fontdict={'fontsize': 14, 'fontweight': 'medium'})\n",
    "ax1.set_ylabel(\"Выручка\", fontdict={'fontsize': 14, 'fontweight': 'medium'})\n",
    "\n",
    "#Удаление лишнего при выводе и сам вывод\n",
    "sns.despine()\n",
    "plt.show()"
   ],
   "metadata": {
    "collapsed": false,
    "pycharm": {
     "name": "#%%\n"
    }
   }
  },
  {
   "cell_type": "markdown",
   "source": [
    "##### Идеи для проверки гипотез по ab:\n",
    "1. Смотреть на страны явно есть смысл;\n",
    "2. Можно посмотреть на возраст. Далее  рассортировать наших покупателей по возрастным категориям и посмотреть где можно повнимательнее изучить данные;\n",
    "3.  Также хочу почекать конверсию в покупку."
   ],
   "metadata": {
    "collapsed": false,
    "pycharm": {
     "name": "#%% md\n"
    }
   }
  },
  {
   "cell_type": "code",
   "execution_count": 130,
   "outputs": [
    {
     "data": {
      "text/plain": "<Figure size 864x576 with 1 Axes>",
      "image/png": "[encoded data removed]"
     },
     "metadata": {},
     "output_type": "display_data"
    }
   ],
   "source": [
    "plt.figure(figsize=(12, 8))\n",
    "sns.histplot(all_ctr.age)\n",
    "sns.despine()"
   ],
   "metadata": {
    "collapsed": false,
    "pycharm": {
     "name": "#%%\n"
    }
   }
  },
  {
   "cell_type": "code",
   "execution_count": 131,
   "outputs": [
    {
     "data": {
      "text/plain": "<Figure size 864x576 with 1 Axes>",
      "image/png": "[encoded data removed]"
     },
     "metadata": {},
     "output_type": "display_data"
    }
   ],
   "source": [
    "plt.figure(figsize=(12, 8))\n",
    "sns.histplot(test1.age)\n",
    "sns.despine()"
   ],
   "metadata": {
    "collapsed": false,
    "pycharm": {
     "name": "#%%\n"
    }
   }
  },
  {
   "cell_type": "code",
   "execution_count": 132,
   "outputs": [
    {
     "data": {
      "text/plain": "33.0"
     },
     "execution_count": 132,
     "metadata": {},
     "output_type": "execute_result"
    }
   ],
   "source": [
    "test1.age.median()"
   ],
   "metadata": {
    "collapsed": false,
    "pycharm": {
     "name": "#%%\n"
    }
   }
  },
  {
   "cell_type": "markdown",
   "source": [
    "Здесь я хочу написать функцию, которая бы сегментировала наших пользователей на 4 группы:"
   ],
   "metadata": {
    "collapsed": false,
    "pycharm": {
     "name": "#%% md\n"
    }
   }
  },
  {
   "cell_type": "code",
   "execution_count": 133,
   "outputs": [],
   "source": [
    "def age_group(df):\n",
    "    #0 - первая группа, 1 - вторая, 2 - третья и 3 - четвертая, группы идут снизу вверх, то есть снизу 0 группа - это группа, где пользователи самые молодые\n",
    "    age_lst = []\n",
    "    for i in df.age:\n",
    "        if 16 <= i <= 30:\n",
    "            age_lst.append(0)\n",
    "        elif 30 < i <= 40:\n",
    "            age_lst.append(1)\n",
    "        elif 40 < i <= 50:\n",
    "            age_lst.append(2)\n",
    "        elif i > 50:\n",
    "            age_lst.append(3)\n",
    "\n",
    "    df[\"age_group\"] = age_lst\n",
    "    return df"
   ],
   "metadata": {
    "collapsed": false,
    "pycharm": {
     "name": "#%%\n"
    }
   }
  },
  {
   "cell_type": "code",
   "execution_count": 134,
   "outputs": [
    {
     "name": "stderr",
     "output_type": "stream",
     "text": [
      "/tmp/ipykernel_4390/1829293622.py:14: SettingWithCopyWarning: \n",
      "A value is trying to be set on a copy of a slice from a DataFrame.\n",
      "Try using .loc[row_indexer,col_indexer] = value instead\n",
      "\n",
      "See the caveats in the documentation: https://pandas.pydata.org/pandas-docs/stable/user_guide/indexing.html#returning-a-view-versus-a-copy\n",
      "  df[\"age_group\"] = age_lst\n"
     ]
    },
    {
     "data": {
      "text/plain": "            uid  age  attraction_coeff  coins                   country  \\\n20    891152790   29               769    0.0                     Spain   \n35    892333656   50               436    4.0  United States of America   \n44    891589239   21               303   37.0                     Italy   \n100   891343671   26                 0   24.0                    France   \n105   892430988   28               181    0.0  United States of America   \n...         ...  ...               ...    ...                       ...   \n4128  891226275   36               384    0.0  United States of America   \n4136  891718167   24               473    0.0                     Chile   \n4173  891969984   39               166    0.0                 Argentina   \n4176  892107222   32               400    0.0  United States of America   \n4298  891291531   43               372    0.0                   Germany   \n\n                                     visit_days  gender  age_filter_start  \\\n20                                        2,5,6       1                16   \n35                                      1,2,3,4       1                47   \n44                            1,2,3,4,5,6,7,8,9       1                18   \n100                           1,2,3,4,5,6,7,8,9       1                23   \n105                                         1,2       1                25   \n...                                         ...     ...               ...   \n4128                                        1,2       1                21   \n4136  1,2,3,4,5,6,7,8,9,10,11,12,13,14,15,16,17       1                16   \n4173                                        1,1       1                26   \n4176                                        1,2       1                29   \n4298                              1,2,3,4,5,6,7       1                40   \n\n      age_filter_end  views_count  was_premium  is_premium  total_revenue  \\\n20                32           13          1.0         1.0          12597   \n35                53          126          0.0         0.0            897   \n44                24          181          1.0         1.0          37817   \n100               35           37          1.0         1.0          21580   \n105               31           22          1.0         1.0          12727   \n...              ...          ...          ...         ...            ...   \n4128              39           13          1.0         1.0          12727   \n4136              30           19          1.0         1.0           8164   \n4173              43           12          1.0         1.0           5330   \n4176              35           20          1.0         1.0           9087   \n4298              46           59          1.0         1.0           4056   \n\n     A/B_group  age_group  \n20           B          0  \n35           B          2  \n44           B          0  \n100          B          0  \n105          B          0  \n...        ...        ...  \n4128         B          1  \n4136         B          0  \n4173         B          1  \n4176         B          1  \n4298         B          2  \n\n[146 rows x 15 columns]",
      "text/html": "<div>\n<style scoped>\n    .dataframe tbody tr th:only-of-type {\n        vertical-align: middle;\n    }\n\n    .dataframe tbody tr th {\n        vertical-align: top;\n    }\n\n    .dataframe thead th {\n        text-align: right;\n    }\n</style>\n<table border=\"1\" class=\"dataframe\">\n  <thead>\n    <tr style=\"text-align: right;\">\n      <th></th>\n      <th>uid</th>\n      <th>age</th>\n      <th>attraction_coeff</th>\n      <th>coins</th>\n      <th>country</th>\n      <th>visit_days</th>\n      <th>gender</th>\n      <th>age_filter_start</th>\n      <th>age_filter_end</th>\n      <th>views_count</th>\n      <th>was_premium</th>\n      <th>is_premium</th>\n      <th>total_revenue</th>\n      <th>A/B_group</th>\n      <th>age_group</th>\n    </tr>\n  </thead>\n  <tbody>\n    <tr>\n      <th>20</th>\n      <td>891152790</td>\n      <td>29</td>\n      <td>769</td>\n      <td>0.0</td>\n      <td>Spain</td>\n      <td>2,5,6</td>\n      <td>1</td>\n      <td>16</td>\n      <td>32</td>\n      <td>13</td>\n      <td>1.0</td>\n      <td>1.0</td>\n      <td>12597</td>\n      <td>B</td>\n      <td>0</td>\n    </tr>\n    <tr>\n      <th>35</th>\n      <td>892333656</td>\n      <td>50</td>\n      <td>436</td>\n      <td>4.0</td>\n      <td>United States of America</td>\n      <td>1,2,3,4</td>\n      <td>1</td>\n      <td>47</td>\n      <td>53</td>\n      <td>126</td>\n      <td>0.0</td>\n      <td>0.0</td>\n      <td>897</td>\n      <td>B</td>\n      <td>2</td>\n    </tr>\n    <tr>\n      <th>44</th>\n      <td>891589239</td>\n      <td>21</td>\n      <td>303</td>\n      <td>37.0</td>\n      <td>Italy</td>\n      <td>1,2,3,4,5,6,7,8,9</td>\n      <td>1</td>\n      <td>18</td>\n      <td>24</td>\n      <td>181</td>\n      <td>1.0</td>\n      <td>1.0</td>\n      <td>37817</td>\n      <td>B</td>\n      <td>0</td>\n    </tr>\n    <tr>\n      <th>100</th>\n      <td>891343671</td>\n      <td>26</td>\n      <td>0</td>\n      <td>24.0</td>\n      <td>France</td>\n      <td>1,2,3,4,5,6,7,8,9</td>\n      <td>1</td>\n      <td>23</td>\n      <td>35</td>\n      <td>37</td>\n      <td>1.0</td>\n      <td>1.0</td>\n      <td>21580</td>\n      <td>B</td>\n      <td>0</td>\n    </tr>\n    <tr>\n      <th>105</th>\n      <td>892430988</td>\n      <td>28</td>\n      <td>181</td>\n      <td>0.0</td>\n      <td>United States of America</td>\n      <td>1,2</td>\n      <td>1</td>\n      <td>25</td>\n      <td>31</td>\n      <td>22</td>\n      <td>1.0</td>\n      <td>1.0</td>\n      <td>12727</td>\n      <td>B</td>\n      <td>0</td>\n    </tr>\n    <tr>\n      <th>...</th>\n      <td>...</td>\n      <td>...</td>\n      <td>...</td>\n      <td>...</td>\n      <td>...</td>\n      <td>...</td>\n      <td>...</td>\n      <td>...</td>\n      <td>...</td>\n      <td>...</td>\n      <td>...</td>\n      <td>...</td>\n      <td>...</td>\n      <td>...</td>\n      <td>...</td>\n    </tr>\n    <tr>\n      <th>4128</th>\n      <td>891226275</td>\n      <td>36</td>\n      <td>384</td>\n      <td>0.0</td>\n      <td>United States of America</td>\n      <td>1,2</td>\n      <td>1</td>\n      <td>21</td>\n      <td>39</td>\n      <td>13</td>\n      <td>1.0</td>\n      <td>1.0</td>\n      <td>12727</td>\n      <td>B</td>\n      <td>1</td>\n    </tr>\n    <tr>\n      <th>4136</th>\n      <td>891718167</td>\n      <td>24</td>\n      <td>473</td>\n      <td>0.0</td>\n      <td>Chile</td>\n      <td>1,2,3,4,5,6,7,8,9,10,11,12,13,14,15,16,17</td>\n      <td>1</td>\n      <td>16</td>\n      <td>30</td>\n      <td>19</td>\n      <td>1.0</td>\n      <td>1.0</td>\n      <td>8164</td>\n      <td>B</td>\n      <td>0</td>\n    </tr>\n    <tr>\n      <th>4173</th>\n      <td>891969984</td>\n      <td>39</td>\n      <td>166</td>\n      <td>0.0</td>\n      <td>Argentina</td>\n      <td>1,1</td>\n      <td>1</td>\n      <td>26</td>\n      <td>43</td>\n      <td>12</td>\n      <td>1.0</td>\n      <td>1.0</td>\n      <td>5330</td>\n      <td>B</td>\n      <td>1</td>\n    </tr>\n    <tr>\n      <th>4176</th>\n      <td>892107222</td>\n      <td>32</td>\n      <td>400</td>\n      <td>0.0</td>\n      <td>United States of America</td>\n      <td>1,2</td>\n      <td>1</td>\n      <td>29</td>\n      <td>35</td>\n      <td>20</td>\n      <td>1.0</td>\n      <td>1.0</td>\n      <td>9087</td>\n      <td>B</td>\n      <td>1</td>\n    </tr>\n    <tr>\n      <th>4298</th>\n      <td>891291531</td>\n      <td>43</td>\n      <td>372</td>\n      <td>0.0</td>\n      <td>Germany</td>\n      <td>1,2,3,4,5,6,7</td>\n      <td>1</td>\n      <td>40</td>\n      <td>46</td>\n      <td>59</td>\n      <td>1.0</td>\n      <td>1.0</td>\n      <td>4056</td>\n      <td>B</td>\n      <td>2</td>\n    </tr>\n  </tbody>\n</table>\n<p>146 rows × 15 columns</p>\n</div>"
     },
     "execution_count": 134,
     "metadata": {},
     "output_type": "execute_result"
    }
   ],
   "source": [
    "age_group(test1)"
   ],
   "metadata": {
    "collapsed": false,
    "pycharm": {
     "name": "#%%\n"
    }
   }
  },
  {
   "cell_type": "code",
   "execution_count": 135,
   "outputs": [
    {
     "data": {
      "text/plain": "            uid  age  attraction_coeff  coins                   country  \\\n5     891497961   28               400   28.0                     Chile   \n107   892380033   29               535    0.0  United States of America   \n174   891292845   22                 0    0.0                     Italy   \n181   892336797   24               255    0.0  United States of America   \n187   891264903   19               239    0.0  United States of America   \n...         ...  ...               ...    ...                       ...   \n4163  892186737   30               250    0.0                     Chile   \n4182  891333651   34                 0    0.0                    France   \n4190  891452592   49               127    0.0                    France   \n4233  891213609   26               363    0.0  United States of America   \n4234  891937068   26               214   16.0                  Portugal   \n\n                                             visit_days  gender  \\\n5                                                   1,2       1   \n107   1,2,3,4,5,6,7,8,9,10,11,12,13,14,15,16,17,18,1...       1   \n174                                                 NaN       1   \n181                                 1,6,7,9,10,11,13,14       1   \n187                                     2,3,4,5,6,7,8,9       1   \n...                                                 ...     ...   \n4163             1,2,3,4,5,6,7,8,9,10,11,12,13,14,15,16       1   \n4182                                              2,3,4       1   \n4190                         1,2,3,4,5,6,7,8,9,10,11,12       1   \n4233                                                NaN       1   \n4234                                    1,2,3,4,5,6,7,8       1   \n\n      age_filter_start  age_filter_end  views_count  was_premium  is_premium  \\\n5                   25              31           25          0.0         0.0   \n107                 25              31          142          1.0         1.0   \n174                 19              40            0          1.0         1.0   \n181                 21              27           43          1.0         0.0   \n187                 16              22           46          1.0         1.0   \n...                ...             ...          ...          ...         ...   \n4163                27              33            8          1.0         1.0   \n4182                31              37            0          0.0         0.0   \n4190                39              48          837          1.0         1.0   \n4233                23              29           11          1.0         1.0   \n4234                19              49           14          1.0         0.0   \n\n      total_revenue A/B_group  age_group  \n5              6396        A1          0  \n107            4732        A1          0  \n174            1898        A1          0  \n181            6292        A1          0  \n187            7761        A1          0  \n...             ...       ...        ...  \n4163           4732        A2          0  \n4182           1456        A2          1  \n4190          15626        A2          2  \n4233           6292        A2          0  \n4234           6045        A2          0  \n\n[378 rows x 15 columns]",
      "text/html": "<div>\n<style scoped>\n    .dataframe tbody tr th:only-of-type {\n        vertical-align: middle;\n    }\n\n    .dataframe tbody tr th {\n        vertical-align: top;\n    }\n\n    .dataframe thead th {\n        text-align: right;\n    }\n</style>\n<table border=\"1\" class=\"dataframe\">\n  <thead>\n    <tr style=\"text-align: right;\">\n      <th></th>\n      <th>uid</th>\n      <th>age</th>\n      <th>attraction_coeff</th>\n      <th>coins</th>\n      <th>country</th>\n      <th>visit_days</th>\n      <th>gender</th>\n      <th>age_filter_start</th>\n      <th>age_filter_end</th>\n      <th>views_count</th>\n      <th>was_premium</th>\n      <th>is_premium</th>\n      <th>total_revenue</th>\n      <th>A/B_group</th>\n      <th>age_group</th>\n    </tr>\n  </thead>\n  <tbody>\n    <tr>\n      <th>5</th>\n      <td>891497961</td>\n      <td>28</td>\n      <td>400</td>\n      <td>28.0</td>\n      <td>Chile</td>\n      <td>1,2</td>\n      <td>1</td>\n      <td>25</td>\n      <td>31</td>\n      <td>25</td>\n      <td>0.0</td>\n      <td>0.0</td>\n      <td>6396</td>\n      <td>A1</td>\n      <td>0</td>\n    </tr>\n    <tr>\n      <th>107</th>\n      <td>892380033</td>\n      <td>29</td>\n      <td>535</td>\n      <td>0.0</td>\n      <td>United States of America</td>\n      <td>1,2,3,4,5,6,7,8,9,10,11,12,13,14,15,16,17,18,1...</td>\n      <td>1</td>\n      <td>25</td>\n      <td>31</td>\n      <td>142</td>\n      <td>1.0</td>\n      <td>1.0</td>\n      <td>4732</td>\n      <td>A1</td>\n      <td>0</td>\n    </tr>\n    <tr>\n      <th>174</th>\n      <td>891292845</td>\n      <td>22</td>\n      <td>0</td>\n      <td>0.0</td>\n      <td>Italy</td>\n      <td>NaN</td>\n      <td>1</td>\n      <td>19</td>\n      <td>40</td>\n      <td>0</td>\n      <td>1.0</td>\n      <td>1.0</td>\n      <td>1898</td>\n      <td>A1</td>\n      <td>0</td>\n    </tr>\n    <tr>\n      <th>181</th>\n      <td>892336797</td>\n      <td>24</td>\n      <td>255</td>\n      <td>0.0</td>\n      <td>United States of America</td>\n      <td>1,6,7,9,10,11,13,14</td>\n      <td>1</td>\n      <td>21</td>\n      <td>27</td>\n      <td>43</td>\n      <td>1.0</td>\n      <td>0.0</td>\n      <td>6292</td>\n      <td>A1</td>\n      <td>0</td>\n    </tr>\n    <tr>\n      <th>187</th>\n      <td>891264903</td>\n      <td>19</td>\n      <td>239</td>\n      <td>0.0</td>\n      <td>United States of America</td>\n      <td>2,3,4,5,6,7,8,9</td>\n      <td>1</td>\n      <td>16</td>\n      <td>22</td>\n      <td>46</td>\n      <td>1.0</td>\n      <td>1.0</td>\n      <td>7761</td>\n      <td>A1</td>\n      <td>0</td>\n    </tr>\n    <tr>\n      <th>...</th>\n      <td>...</td>\n      <td>...</td>\n      <td>...</td>\n      <td>...</td>\n      <td>...</td>\n      <td>...</td>\n      <td>...</td>\n      <td>...</td>\n      <td>...</td>\n      <td>...</td>\n      <td>...</td>\n      <td>...</td>\n      <td>...</td>\n      <td>...</td>\n      <td>...</td>\n    </tr>\n    <tr>\n      <th>4163</th>\n      <td>892186737</td>\n      <td>30</td>\n      <td>250</td>\n      <td>0.0</td>\n      <td>Chile</td>\n      <td>1,2,3,4,5,6,7,8,9,10,11,12,13,14,15,16</td>\n      <td>1</td>\n      <td>27</td>\n      <td>33</td>\n      <td>8</td>\n      <td>1.0</td>\n      <td>1.0</td>\n      <td>4732</td>\n      <td>A2</td>\n      <td>0</td>\n    </tr>\n    <tr>\n      <th>4182</th>\n      <td>891333651</td>\n      <td>34</td>\n      <td>0</td>\n      <td>0.0</td>\n      <td>France</td>\n      <td>2,3,4</td>\n      <td>1</td>\n      <td>31</td>\n      <td>37</td>\n      <td>0</td>\n      <td>0.0</td>\n      <td>0.0</td>\n      <td>1456</td>\n      <td>A2</td>\n      <td>1</td>\n    </tr>\n    <tr>\n      <th>4190</th>\n      <td>891452592</td>\n      <td>49</td>\n      <td>127</td>\n      <td>0.0</td>\n      <td>France</td>\n      <td>1,2,3,4,5,6,7,8,9,10,11,12</td>\n      <td>1</td>\n      <td>39</td>\n      <td>48</td>\n      <td>837</td>\n      <td>1.0</td>\n      <td>1.0</td>\n      <td>15626</td>\n      <td>A2</td>\n      <td>2</td>\n    </tr>\n    <tr>\n      <th>4233</th>\n      <td>891213609</td>\n      <td>26</td>\n      <td>363</td>\n      <td>0.0</td>\n      <td>United States of America</td>\n      <td>NaN</td>\n      <td>1</td>\n      <td>23</td>\n      <td>29</td>\n      <td>11</td>\n      <td>1.0</td>\n      <td>1.0</td>\n      <td>6292</td>\n      <td>A2</td>\n      <td>0</td>\n    </tr>\n    <tr>\n      <th>4234</th>\n      <td>891937068</td>\n      <td>26</td>\n      <td>214</td>\n      <td>16.0</td>\n      <td>Portugal</td>\n      <td>1,2,3,4,5,6,7,8</td>\n      <td>1</td>\n      <td>19</td>\n      <td>49</td>\n      <td>14</td>\n      <td>1.0</td>\n      <td>0.0</td>\n      <td>6045</td>\n      <td>A2</td>\n      <td>0</td>\n    </tr>\n  </tbody>\n</table>\n<p>378 rows × 15 columns</p>\n</div>"
     },
     "execution_count": 135,
     "metadata": {},
     "output_type": "execute_result"
    }
   ],
   "source": [
    "age_group(all_ctr)"
   ],
   "metadata": {
    "collapsed": false,
    "pycharm": {
     "name": "#%%\n"
    }
   }
  },
  {
   "cell_type": "markdown",
   "source": [
    "Теперь я хочу посмотреть распределение стран и возрастов с использованием boxplot, при этом я думаю лучше бы оставить лишь 6 ключевых стран, чтобы график отображался нормально:"
   ],
   "metadata": {
    "collapsed": false,
    "pycharm": {
     "name": "#%% md\n"
    }
   }
  },
  {
   "cell_type": "code",
   "execution_count": 136,
   "outputs": [],
   "source": [
    "needed_countries = [\"United States of America\", \"Spain\", \"France\", \"United Arab Emirates\", \"Argentina\",\n",
    "                    \"United Kingdom (Great Britain)|\"]"
   ],
   "metadata": {
    "collapsed": false,
    "pycharm": {
     "name": "#%%\n"
    }
   }
  },
  {
   "cell_type": "code",
   "execution_count": 137,
   "outputs": [],
   "source": [
    "for_visualisation_test = test1.iloc[np.where(np.isin(test1[\"country\"], needed_countries) == True)]\n",
    "for_visualisation_control = all_ctr.iloc[np.where(np.isin(all_ctr[\"country\"], needed_countries) == True)]"
   ],
   "metadata": {
    "collapsed": false,
    "pycharm": {
     "name": "#%%\n"
    }
   }
  },
  {
   "cell_type": "code",
   "execution_count": 138,
   "outputs": [
    {
     "data": {
      "text/plain": "            uid  age  attraction_coeff  coins                   country  \\\n107   892380033   29               535    0.0  United States of America   \n181   892336797   24               255    0.0  United States of America   \n187   891264903   19               239    0.0  United States of America   \n208   891973917   25               125    0.0                    France   \n284   892421277   22               446   62.0  United States of America   \n...         ...  ...               ...    ...                       ...   \n4135  892395564   32               439    0.0  United States of America   \n4162  892385232   23               548    0.0  United States of America   \n4182  891333651   34                 0    0.0                    France   \n4190  891452592   49               127    0.0                    France   \n4233  891213609   26               363    0.0  United States of America   \n\n                                             visit_days  gender  \\\n107   1,2,3,4,5,6,7,8,9,10,11,12,13,14,15,16,17,18,1...       1   \n181                                 1,6,7,9,10,11,13,14       1   \n187                                     2,3,4,5,6,7,8,9       1   \n208                 2,3,5,6,7,9,10,12,13,14,16,18,20,22       1   \n284   1,2,3,4,5,6,7,8,9,10,11,12,13,14,15,16,17,18,1...       1   \n...                                                 ...     ...   \n4135                                              1,2,3       0   \n4162          1,2,3,4,5,6,7,8,9,10,11,15,22,25,27,29,30       1   \n4182                                              2,3,4       1   \n4190                         1,2,3,4,5,6,7,8,9,10,11,12       1   \n4233                                                NaN       1   \n\n      age_filter_start  age_filter_end  views_count  was_premium  is_premium  \\\n107                 25              31          142          1.0         1.0   \n181                 21              27           43          1.0         0.0   \n187                 16              22           46          1.0         1.0   \n208                 22              28            8          1.0         1.0   \n284                 16              35          130          1.0         1.0   \n...                ...             ...          ...          ...         ...   \n4135                29              35          878          0.0         0.0   \n4162                18              32           31          1.0         0.0   \n4182                31              37            0          0.0         0.0   \n4190                39              48          837          1.0         1.0   \n4233                23              29           11          1.0         1.0   \n\n      total_revenue A/B_group  age_group  \n107            4732        A1          0  \n181            6292        A1          0  \n187            7761        A1          0  \n208            6344        A1          0  \n284           60333        A1          0  \n...             ...       ...        ...  \n4135           2730        A2          1  \n4162           6292        A2          0  \n4182           1456        A2          1  \n4190          15626        A2          2  \n4233           6292        A2          0  \n\n[219 rows x 15 columns]",
      "text/html": "<div>\n<style scoped>\n    .dataframe tbody tr th:only-of-type {\n        vertical-align: middle;\n    }\n\n    .dataframe tbody tr th {\n        vertical-align: top;\n    }\n\n    .dataframe thead th {\n        text-align: right;\n    }\n</style>\n<table border=\"1\" class=\"dataframe\">\n  <thead>\n    <tr style=\"text-align: right;\">\n      <th></th>\n      <th>uid</th>\n      <th>age</th>\n      <th>attraction_coeff</th>\n      <th>coins</th>\n      <th>country</th>\n      <th>visit_days</th>\n      <th>gender</th>\n      <th>age_filter_start</th>\n      <th>age_filter_end</th>\n      <th>views_count</th>\n      <th>was_premium</th>\n      <th>is_premium</th>\n      <th>total_revenue</th>\n      <th>A/B_group</th>\n      <th>age_group</th>\n    </tr>\n  </thead>\n  <tbody>\n    <tr>\n      <th>107</th>\n      <td>892380033</td>\n      <td>29</td>\n      <td>535</td>\n      <td>0.0</td>\n      <td>United States of America</td>\n      <td>1,2,3,4,5,6,7,8,9,10,11,12,13,14,15,16,17,18,1...</td>\n      <td>1</td>\n      <td>25</td>\n      <td>31</td>\n      <td>142</td>\n      <td>1.0</td>\n      <td>1.0</td>\n      <td>4732</td>\n      <td>A1</td>\n      <td>0</td>\n    </tr>\n    <tr>\n      <th>181</th>\n      <td>892336797</td>\n      <td>24</td>\n      <td>255</td>\n      <td>0.0</td>\n      <td>United States of America</td>\n      <td>1,6,7,9,10,11,13,14</td>\n      <td>1</td>\n      <td>21</td>\n      <td>27</td>\n      <td>43</td>\n      <td>1.0</td>\n      <td>0.0</td>\n      <td>6292</td>\n      <td>A1</td>\n      <td>0</td>\n    </tr>\n    <tr>\n      <th>187</th>\n      <td>891264903</td>\n      <td>19</td>\n      <td>239</td>\n      <td>0.0</td>\n      <td>United States of America</td>\n      <td>2,3,4,5,6,7,8,9</td>\n      <td>1</td>\n      <td>16</td>\n      <td>22</td>\n      <td>46</td>\n      <td>1.0</td>\n      <td>1.0</td>\n      <td>7761</td>\n      <td>A1</td>\n      <td>0</td>\n    </tr>\n    <tr>\n      <th>208</th>\n      <td>891973917</td>\n      <td>25</td>\n      <td>125</td>\n      <td>0.0</td>\n      <td>France</td>\n      <td>2,3,5,6,7,9,10,12,13,14,16,18,20,22</td>\n      <td>1</td>\n      <td>22</td>\n      <td>28</td>\n      <td>8</td>\n      <td>1.0</td>\n      <td>1.0</td>\n      <td>6344</td>\n      <td>A1</td>\n      <td>0</td>\n    </tr>\n    <tr>\n      <th>284</th>\n      <td>892421277</td>\n      <td>22</td>\n      <td>446</td>\n      <td>62.0</td>\n      <td>United States of America</td>\n      <td>1,2,3,4,5,6,7,8,9,10,11,12,13,14,15,16,17,18,1...</td>\n      <td>1</td>\n      <td>16</td>\n      <td>35</td>\n      <td>130</td>\n      <td>1.0</td>\n      <td>1.0</td>\n      <td>60333</td>\n      <td>A1</td>\n      <td>0</td>\n    </tr>\n    <tr>\n      <th>...</th>\n      <td>...</td>\n      <td>...</td>\n      <td>...</td>\n      <td>...</td>\n      <td>...</td>\n      <td>...</td>\n      <td>...</td>\n      <td>...</td>\n      <td>...</td>\n      <td>...</td>\n      <td>...</td>\n      <td>...</td>\n      <td>...</td>\n      <td>...</td>\n      <td>...</td>\n    </tr>\n    <tr>\n      <th>4135</th>\n      <td>892395564</td>\n      <td>32</td>\n      <td>439</td>\n      <td>0.0</td>\n      <td>United States of America</td>\n      <td>1,2,3</td>\n      <td>0</td>\n      <td>29</td>\n      <td>35</td>\n      <td>878</td>\n      <td>0.0</td>\n      <td>0.0</td>\n      <td>2730</td>\n      <td>A2</td>\n      <td>1</td>\n    </tr>\n    <tr>\n      <th>4162</th>\n      <td>892385232</td>\n      <td>23</td>\n      <td>548</td>\n      <td>0.0</td>\n      <td>United States of America</td>\n      <td>1,2,3,4,5,6,7,8,9,10,11,15,22,25,27,29,30</td>\n      <td>1</td>\n      <td>18</td>\n      <td>32</td>\n      <td>31</td>\n      <td>1.0</td>\n      <td>0.0</td>\n      <td>6292</td>\n      <td>A2</td>\n      <td>0</td>\n    </tr>\n    <tr>\n      <th>4182</th>\n      <td>891333651</td>\n      <td>34</td>\n      <td>0</td>\n      <td>0.0</td>\n      <td>France</td>\n      <td>2,3,4</td>\n      <td>1</td>\n      <td>31</td>\n      <td>37</td>\n      <td>0</td>\n      <td>0.0</td>\n      <td>0.0</td>\n      <td>1456</td>\n      <td>A2</td>\n      <td>1</td>\n    </tr>\n    <tr>\n      <th>4190</th>\n      <td>891452592</td>\n      <td>49</td>\n      <td>127</td>\n      <td>0.0</td>\n      <td>France</td>\n      <td>1,2,3,4,5,6,7,8,9,10,11,12</td>\n      <td>1</td>\n      <td>39</td>\n      <td>48</td>\n      <td>837</td>\n      <td>1.0</td>\n      <td>1.0</td>\n      <td>15626</td>\n      <td>A2</td>\n      <td>2</td>\n    </tr>\n    <tr>\n      <th>4233</th>\n      <td>891213609</td>\n      <td>26</td>\n      <td>363</td>\n      <td>0.0</td>\n      <td>United States of America</td>\n      <td>NaN</td>\n      <td>1</td>\n      <td>23</td>\n      <td>29</td>\n      <td>11</td>\n      <td>1.0</td>\n      <td>1.0</td>\n      <td>6292</td>\n      <td>A2</td>\n      <td>0</td>\n    </tr>\n  </tbody>\n</table>\n<p>219 rows × 15 columns</p>\n</div>"
     },
     "execution_count": 138,
     "metadata": {},
     "output_type": "execute_result"
    }
   ],
   "source": [
    "for_visualisation_control"
   ],
   "metadata": {
    "collapsed": false,
    "pycharm": {
     "name": "#%%\n"
    }
   }
  },
  {
   "cell_type": "code",
   "execution_count": 139,
   "outputs": [
    {
     "data": {
      "text/plain": "<Figure size 864x576 with 1 Axes>",
      "image/png": "[encoded data removed]"
     },
     "metadata": {},
     "output_type": "display_data"
    }
   ],
   "source": [
    "plt.figure(figsize=(12, 8))\n",
    "sns.boxplot(x=\"age_group\", y=\"total_revenue\", hue=\"country\", data=for_visualisation_control)\n",
    "sns.despine()"
   ],
   "metadata": {
    "collapsed": false,
    "pycharm": {
     "name": "#%%\n"
    }
   }
  },
  {
   "cell_type": "code",
   "execution_count": 140,
   "outputs": [
    {
     "data": {
      "text/plain": "<Figure size 864x576 with 1 Axes>",
      "image/png": "[encoded data removed]"
     },
     "metadata": {},
     "output_type": "display_data"
    }
   ],
   "source": [
    "plt.figure(figsize=(12, 8))\n",
    "sns.boxplot(x=\"age_group\", y=\"total_revenue\", hue=\"country\", data=for_visualisation_test)\n",
    "sns.despine()"
   ],
   "metadata": {
    "collapsed": false,
    "pycharm": {
     "name": "#%%\n"
    }
   }
  },
  {
   "cell_type": "markdown",
   "source": [
    "Выводы по визуализациям:\n",
    "1. Во 2 и 3 группе в обоих группах пользователи находятся лишь в США;\n",
    "2.  Сразу заметны различия по странам и в разных возрастных группах."
   ],
   "metadata": {
    "collapsed": false,
    "pycharm": {
     "name": "#%% md\n"
    }
   }
  },
  {
   "cell_type": "code",
   "execution_count": 141,
   "outputs": [],
   "source": [
    "all_ctr = all_ctr[[\"uid\", \"age\", \"country\", \"total_revenue\", \"age_group\", \"A/B_group\"]]\n",
    "test1 = test1[[\"uid\", \"age\", \"country\", \"total_revenue\", \"age_group\", \"A/B_group\"]]"
   ],
   "metadata": {
    "collapsed": false,
    "pycharm": {
     "name": "#%%\n"
    }
   }
  },
  {
   "cell_type": "code",
   "execution_count": 142,
   "outputs": [],
   "source": [
    "test1.insert(6, \"variant\", \"test\")"
   ],
   "metadata": {
    "collapsed": false,
    "pycharm": {
     "name": "#%%\n"
    }
   }
  },
  {
   "cell_type": "code",
   "execution_count": 143,
   "outputs": [],
   "source": [
    "all_ctr.insert(6, \"variant\", \"control\")"
   ],
   "metadata": {
    "collapsed": false,
    "pycharm": {
     "name": "#%%\n"
    }
   }
  },
  {
   "cell_type": "code",
   "execution_count": 144,
   "outputs": [
    {
     "data": {
      "text/plain": "         uid  age                   country  total_revenue  age_group  \\\n0  891152790   29                     Spain          12597          0   \n1  892333656   50  United States of America            897          2   \n2  891589239   21                     Italy          37817          0   \n3  891343671   26                    France          21580          0   \n4  892430988   28  United States of America          12727          0   \n\n  A/B_group variant  \n0         B    test  \n1         B    test  \n2         B    test  \n3         B    test  \n4         B    test  ",
      "text/html": "<div>\n<style scoped>\n    .dataframe tbody tr th:only-of-type {\n        vertical-align: middle;\n    }\n\n    .dataframe tbody tr th {\n        vertical-align: top;\n    }\n\n    .dataframe thead th {\n        text-align: right;\n    }\n</style>\n<table border=\"1\" class=\"dataframe\">\n  <thead>\n    <tr style=\"text-align: right;\">\n      <th></th>\n      <th>uid</th>\n      <th>age</th>\n      <th>country</th>\n      <th>total_revenue</th>\n      <th>age_group</th>\n      <th>A/B_group</th>\n      <th>variant</th>\n    </tr>\n  </thead>\n  <tbody>\n    <tr>\n      <th>0</th>\n      <td>891152790</td>\n      <td>29</td>\n      <td>Spain</td>\n      <td>12597</td>\n      <td>0</td>\n      <td>B</td>\n      <td>test</td>\n    </tr>\n    <tr>\n      <th>1</th>\n      <td>892333656</td>\n      <td>50</td>\n      <td>United States of America</td>\n      <td>897</td>\n      <td>2</td>\n      <td>B</td>\n      <td>test</td>\n    </tr>\n    <tr>\n      <th>2</th>\n      <td>891589239</td>\n      <td>21</td>\n      <td>Italy</td>\n      <td>37817</td>\n      <td>0</td>\n      <td>B</td>\n      <td>test</td>\n    </tr>\n    <tr>\n      <th>3</th>\n      <td>891343671</td>\n      <td>26</td>\n      <td>France</td>\n      <td>21580</td>\n      <td>0</td>\n      <td>B</td>\n      <td>test</td>\n    </tr>\n    <tr>\n      <th>4</th>\n      <td>892430988</td>\n      <td>28</td>\n      <td>United States of America</td>\n      <td>12727</td>\n      <td>0</td>\n      <td>B</td>\n      <td>test</td>\n    </tr>\n  </tbody>\n</table>\n</div>"
     },
     "execution_count": 144,
     "metadata": {},
     "output_type": "execute_result"
    }
   ],
   "source": [
    "all_groups = pd.concat([test1, all_ctr])\n",
    "all_groups.reset_index(inplace=True, drop=True)  #для красоты, так как мне привычно когда индексы идут по порядку\n",
    "all_groups.head()"
   ],
   "metadata": {
    "collapsed": false,
    "pycharm": {
     "name": "#%%\n"
    }
   }
  },
  {
   "cell_type": "code",
   "execution_count": 145,
   "outputs": [
    {
     "data": {
      "text/plain": "0    61\n1    57\n2    19\n3     9\nName: age_group, dtype: int64"
     },
     "execution_count": 145,
     "metadata": {},
     "output_type": "execute_result"
    }
   ],
   "source": [
    "all_groups.query(\"variant == 'test'\").age_group.value_counts()"
   ],
   "metadata": {
    "collapsed": false,
    "pycharm": {
     "name": "#%%\n"
    }
   }
  },
  {
   "cell_type": "code",
   "execution_count": 146,
   "outputs": [
    {
     "data": {
      "text/plain": "0    217\n1     88\n2     56\n3     17\nName: age_group, dtype: int64"
     },
     "execution_count": 146,
     "metadata": {},
     "output_type": "execute_result"
    }
   ],
   "source": [
    "all_groups.query(\"variant == 'control'\").age_group.value_counts()"
   ],
   "metadata": {
    "collapsed": false,
    "pycharm": {
     "name": "#%%\n"
    }
   }
  },
  {
   "cell_type": "markdown",
   "source": [
    "\n",
    "Датасет к проверке первых гипотез готов, начнем проверку с такой гипотезы:\n",
    "- H0 - разницы между средний total_revenue в тестовой и контрольной группы нету, и проверим мы эту гипотезу с помощью критерий Геймса-Хоувелла так как у между группами у нас различия в дисперсиях:"
   ],
   "metadata": {
    "collapsed": false,
    "pycharm": {
     "name": "#%% md\n"
    }
   }
  },
  {
   "cell_type": "code",
   "execution_count": 147,
   "outputs": [
    {
     "data": {
      "text/plain": "    A   B       mean(A)       mean(B)         diff           se         T  \\\n0  A1  A2  10968.256545  10269.721925   698.534619   990.251581  0.705411   \n1  A1   B  10968.256545  15759.027397 -4790.770853  1659.609047 -2.886686   \n2  A2   B  10269.721925  15759.027397 -5489.305472  1641.145809 -3.344801   \n\n           df      pval    hedges  \n0  375.004890  0.760441  0.072424  \n1  211.715485  0.011914 -0.316627  \n2  204.105443  0.002806 -0.368561  ",
      "text/html": "<div>\n<style scoped>\n    .dataframe tbody tr th:only-of-type {\n        vertical-align: middle;\n    }\n\n    .dataframe tbody tr th {\n        vertical-align: top;\n    }\n\n    .dataframe thead th {\n        text-align: right;\n    }\n</style>\n<table border=\"1\" class=\"dataframe\">\n  <thead>\n    <tr style=\"text-align: right;\">\n      <th></th>\n      <th>A</th>\n      <th>B</th>\n      <th>mean(A)</th>\n      <th>mean(B)</th>\n      <th>diff</th>\n      <th>se</th>\n      <th>T</th>\n      <th>df</th>\n      <th>pval</th>\n      <th>hedges</th>\n    </tr>\n  </thead>\n  <tbody>\n    <tr>\n      <th>0</th>\n      <td>A1</td>\n      <td>A2</td>\n      <td>10968.256545</td>\n      <td>10269.721925</td>\n      <td>698.534619</td>\n      <td>990.251581</td>\n      <td>0.705411</td>\n      <td>375.004890</td>\n      <td>0.760441</td>\n      <td>0.072424</td>\n    </tr>\n    <tr>\n      <th>1</th>\n      <td>A1</td>\n      <td>B</td>\n      <td>10968.256545</td>\n      <td>15759.027397</td>\n      <td>-4790.770853</td>\n      <td>1659.609047</td>\n      <td>-2.886686</td>\n      <td>211.715485</td>\n      <td>0.011914</td>\n      <td>-0.316627</td>\n    </tr>\n    <tr>\n      <th>2</th>\n      <td>A2</td>\n      <td>B</td>\n      <td>10269.721925</td>\n      <td>15759.027397</td>\n      <td>-5489.305472</td>\n      <td>1641.145809</td>\n      <td>-3.344801</td>\n      <td>204.105443</td>\n      <td>0.002806</td>\n      <td>-0.368561</td>\n    </tr>\n  </tbody>\n</table>\n</div>"
     },
     "execution_count": 147,
     "metadata": {},
     "output_type": "execute_result"
    }
   ],
   "source": [
    "pg.pairwise_gameshowell(data=all_groups, dv=\"total_revenue\", between=\"A/B_group\")"
   ],
   "metadata": {
    "collapsed": false,
    "pycharm": {
     "name": "#%%\n"
    }
   }
  },
  {
   "cell_type": "markdown",
   "source": [
    "p-value дает нам знак, что как и первой контрольной так и во второй группе отличается от тестовой и стоит отклонить H0"
   ],
   "metadata": {
    "collapsed": false,
    "pycharm": {
     "name": "#%% md\n"
    }
   }
  },
  {
   "cell_type": "code",
   "execution_count": 148,
   "outputs": [
    {
     "data": {
      "text/plain": "15759.027397260274"
     },
     "execution_count": 148,
     "metadata": {},
     "output_type": "execute_result"
    }
   ],
   "source": [
    "all_groups[all_groups[\"A/B_group\"] == 'B'].total_revenue.mean()"
   ],
   "metadata": {
    "collapsed": false,
    "pycharm": {
     "name": "#%%\n"
    }
   }
  },
  {
   "cell_type": "code",
   "execution_count": 149,
   "outputs": [
    {
     "data": {
      "text/plain": "10968.256544502618"
     },
     "execution_count": 149,
     "metadata": {},
     "output_type": "execute_result"
    }
   ],
   "source": [
    "all_groups[all_groups[\"A/B_group\"] == 'A1'].total_revenue.mean()"
   ],
   "metadata": {
    "collapsed": false,
    "pycharm": {
     "name": "#%%\n"
    }
   }
  },
  {
   "cell_type": "code",
   "execution_count": 150,
   "outputs": [
    {
     "data": {
      "text/plain": "10269.72192513369"
     },
     "execution_count": 150,
     "metadata": {},
     "output_type": "execute_result"
    }
   ],
   "source": [
    "all_groups[all_groups[\"A/B_group\"] == 'A2'].total_revenue.mean()"
   ],
   "metadata": {
    "collapsed": false,
    "pycharm": {
     "name": "#%%\n"
    }
   }
  },
  {
   "cell_type": "markdown",
   "source": [
    "Но лишь одной метрики в одном разрезе нам недостаточно, теперь я хочу попарно посмотреть по странам и по группам данный эксперимент:\n",
    "- H0 - что разницы между средний total_revenue в тестовой и контрольной группой в возрастной группе 2 нету"
   ],
   "metadata": {
    "collapsed": false,
    "pycharm": {
     "name": "#%% md\n"
    }
   }
  },
  {
   "cell_type": "code",
   "execution_count": 151,
   "outputs": [
    {
     "data": {
      "text/plain": "    A   B       mean(A)       mean(B)         diff           se         T  \\\n0  A1  A2  12142.000000  11049.566667  1092.433333  2201.516870  0.496218   \n1  A1   B  12142.000000  18390.210526 -6248.210526  6795.396208 -0.919477   \n2  A2   B  11049.566667  18390.210526 -7340.643860  6509.273729 -1.127721   \n\n          df      pval    hedges  \n0  30.983958  0.873637  0.131104  \n1  21.746884  0.634084 -0.272645  \n2  18.448277  0.509660 -0.325341  ",
      "text/html": "<div>\n<style scoped>\n    .dataframe tbody tr th:only-of-type {\n        vertical-align: middle;\n    }\n\n    .dataframe tbody tr th {\n        vertical-align: top;\n    }\n\n    .dataframe thead th {\n        text-align: right;\n    }\n</style>\n<table border=\"1\" class=\"dataframe\">\n  <thead>\n    <tr style=\"text-align: right;\">\n      <th></th>\n      <th>A</th>\n      <th>B</th>\n      <th>mean(A)</th>\n      <th>mean(B)</th>\n      <th>diff</th>\n      <th>se</th>\n      <th>T</th>\n      <th>df</th>\n      <th>pval</th>\n      <th>hedges</th>\n    </tr>\n  </thead>\n  <tbody>\n    <tr>\n      <th>0</th>\n      <td>A1</td>\n      <td>A2</td>\n      <td>12142.000000</td>\n      <td>11049.566667</td>\n      <td>1092.433333</td>\n      <td>2201.516870</td>\n      <td>0.496218</td>\n      <td>30.983958</td>\n      <td>0.873637</td>\n      <td>0.131104</td>\n    </tr>\n    <tr>\n      <th>1</th>\n      <td>A1</td>\n      <td>B</td>\n      <td>12142.000000</td>\n      <td>18390.210526</td>\n      <td>-6248.210526</td>\n      <td>6795.396208</td>\n      <td>-0.919477</td>\n      <td>21.746884</td>\n      <td>0.634084</td>\n      <td>-0.272645</td>\n    </tr>\n    <tr>\n      <th>2</th>\n      <td>A2</td>\n      <td>B</td>\n      <td>11049.566667</td>\n      <td>18390.210526</td>\n      <td>-7340.643860</td>\n      <td>6509.273729</td>\n      <td>-1.127721</td>\n      <td>18.448277</td>\n      <td>0.509660</td>\n      <td>-0.325341</td>\n    </tr>\n  </tbody>\n</table>\n</div>"
     },
     "execution_count": 151,
     "metadata": {},
     "output_type": "execute_result"
    }
   ],
   "source": [
    "pg.pairwise_gameshowell(data=all_groups[all_groups[\"age_group\"] == 2], dv=\"total_revenue\", between=\"A/B_group\")"
   ],
   "metadata": {
    "collapsed": false,
    "pycharm": {
     "name": "#%%\n"
    }
   }
  },
  {
   "cell_type": "markdown",
   "source": [
    "Здесь p-value показывает что нам не следует отклонять H0, теперь давайте проведем тоже самое для первой группы:"
   ],
   "metadata": {
    "collapsed": false,
    "pycharm": {
     "name": "#%% md\n"
    }
   }
  },
  {
   "cell_type": "code",
   "execution_count": 152,
   "outputs": [
    {
     "data": {
      "text/plain": "    A   B       mean(A)       mean(B)         diff           se         T  \\\n0  A1  A2  10334.395349  10938.200000  -603.804651  1590.168487 -0.379711   \n1  A1   B  10334.395349  14513.473684 -4179.078335  1950.402060 -2.142675   \n2  A2   B  10938.200000  14513.473684 -3575.273684  2035.446287 -1.756506   \n\n          df      pval    hedges  \n0  84.956492  0.923678 -0.080267  \n1  90.664213  0.087003 -0.429477  \n2  96.543463  0.189838 -0.347639  ",
      "text/html": "<div>\n<style scoped>\n    .dataframe tbody tr th:only-of-type {\n        vertical-align: middle;\n    }\n\n    .dataframe tbody tr th {\n        vertical-align: top;\n    }\n\n    .dataframe thead th {\n        text-align: right;\n    }\n</style>\n<table border=\"1\" class=\"dataframe\">\n  <thead>\n    <tr style=\"text-align: right;\">\n      <th></th>\n      <th>A</th>\n      <th>B</th>\n      <th>mean(A)</th>\n      <th>mean(B)</th>\n      <th>diff</th>\n      <th>se</th>\n      <th>T</th>\n      <th>df</th>\n      <th>pval</th>\n      <th>hedges</th>\n    </tr>\n  </thead>\n  <tbody>\n    <tr>\n      <th>0</th>\n      <td>A1</td>\n      <td>A2</td>\n      <td>10334.395349</td>\n      <td>10938.200000</td>\n      <td>-603.804651</td>\n      <td>1590.168487</td>\n      <td>-0.379711</td>\n      <td>84.956492</td>\n      <td>0.923678</td>\n      <td>-0.080267</td>\n    </tr>\n    <tr>\n      <th>1</th>\n      <td>A1</td>\n      <td>B</td>\n      <td>10334.395349</td>\n      <td>14513.473684</td>\n      <td>-4179.078335</td>\n      <td>1950.402060</td>\n      <td>-2.142675</td>\n      <td>90.664213</td>\n      <td>0.087003</td>\n      <td>-0.429477</td>\n    </tr>\n    <tr>\n      <th>2</th>\n      <td>A2</td>\n      <td>B</td>\n      <td>10938.200000</td>\n      <td>14513.473684</td>\n      <td>-3575.273684</td>\n      <td>2035.446287</td>\n      <td>-1.756506</td>\n      <td>96.543463</td>\n      <td>0.189838</td>\n      <td>-0.347639</td>\n    </tr>\n  </tbody>\n</table>\n</div>"
     },
     "execution_count": 152,
     "metadata": {},
     "output_type": "execute_result"
    }
   ],
   "source": [
    "pg.pairwise_gameshowell(data=all_groups[all_groups[\"age_group\"] == 1], dv=\"total_revenue\", between=\"A/B_group\")"
   ],
   "metadata": {
    "collapsed": false,
    "pycharm": {
     "name": "#%%\n"
    }
   }
  },
  {
   "cell_type": "markdown",
   "source": [
    "Здесь p-value показывает что нам не следует отклонять H0. Очень интересно ведь это наши 2 ключевые группы, а обе они говорят что не нужно отклонять H0. Хочу попробовать удалить 3 и 4 возрастную группу и посмотреть что будет:\n"
   ],
   "metadata": {
    "collapsed": false,
    "pycharm": {
     "name": "#%% md\n"
    }
   }
  },
  {
   "cell_type": "code",
   "execution_count": 153,
   "outputs": [
    {
     "data": {
      "text/plain": "    A   B       mean(A)       mean(B)         diff           se         T  \\\n0  A1  A2  11082.535912  10150.544444   931.991467  1027.366544  0.907165   \n1  A1   B  11082.535912  15823.277372 -4740.741461  1742.891125 -2.720045   \n2  A2   B  10150.544444  15823.277372 -5672.732928  1715.287413 -3.307162   \n\n           df      pval    hedges  \n0  356.262657  0.636127  0.095292  \n1  198.796611  0.019377 -0.307296  \n2  188.745643  0.003223 -0.374070  ",
      "text/html": "<div>\n<style scoped>\n    .dataframe tbody tr th:only-of-type {\n        vertical-align: middle;\n    }\n\n    .dataframe tbody tr th {\n        vertical-align: top;\n    }\n\n    .dataframe thead th {\n        text-align: right;\n    }\n</style>\n<table border=\"1\" class=\"dataframe\">\n  <thead>\n    <tr style=\"text-align: right;\">\n      <th></th>\n      <th>A</th>\n      <th>B</th>\n      <th>mean(A)</th>\n      <th>mean(B)</th>\n      <th>diff</th>\n      <th>se</th>\n      <th>T</th>\n      <th>df</th>\n      <th>pval</th>\n      <th>hedges</th>\n    </tr>\n  </thead>\n  <tbody>\n    <tr>\n      <th>0</th>\n      <td>A1</td>\n      <td>A2</td>\n      <td>11082.535912</td>\n      <td>10150.544444</td>\n      <td>931.991467</td>\n      <td>1027.366544</td>\n      <td>0.907165</td>\n      <td>356.262657</td>\n      <td>0.636127</td>\n      <td>0.095292</td>\n    </tr>\n    <tr>\n      <th>1</th>\n      <td>A1</td>\n      <td>B</td>\n      <td>11082.535912</td>\n      <td>15823.277372</td>\n      <td>-4740.741461</td>\n      <td>1742.891125</td>\n      <td>-2.720045</td>\n      <td>198.796611</td>\n      <td>0.019377</td>\n      <td>-0.307296</td>\n    </tr>\n    <tr>\n      <th>2</th>\n      <td>A2</td>\n      <td>B</td>\n      <td>10150.544444</td>\n      <td>15823.277372</td>\n      <td>-5672.732928</td>\n      <td>1715.287413</td>\n      <td>-3.307162</td>\n      <td>188.745643</td>\n      <td>0.003223</td>\n      <td>-0.374070</td>\n    </tr>\n  </tbody>\n</table>\n</div>"
     },
     "execution_count": 153,
     "metadata": {},
     "output_type": "execute_result"
    }
   ],
   "source": [
    "pg.pairwise_gameshowell(data=all_groups[all_groups[\"age_group\"] < 3], dv=\"total_revenue\", between=\"A/B_group\")"
   ],
   "metadata": {
    "collapsed": false,
    "pycharm": {
     "name": "#%%\n"
    }
   }
  },
  {
   "cell_type": "code",
   "execution_count": 154,
   "outputs": [],
   "source": [
    "all_groups_usa = all_groups.query(\"country == 'United States of America'\")"
   ],
   "metadata": {
    "collapsed": false,
    "pycharm": {
     "name": "#%%\n"
    }
   }
  },
  {
   "cell_type": "code",
   "execution_count": 155,
   "outputs": [
    {
     "data": {
      "text/plain": "0    22\n1    19\n2     9\n3     2\nName: age_group, dtype: int64"
     },
     "execution_count": 155,
     "metadata": {},
     "output_type": "execute_result"
    }
   ],
   "source": [
    "all_groups_usa[all_groups_usa[\"variant\"] == \"test\"].age_group.value_counts()"
   ],
   "metadata": {
    "collapsed": false,
    "pycharm": {
     "name": "#%%\n"
    }
   }
  },
  {
   "cell_type": "code",
   "execution_count": 156,
   "outputs": [
    {
     "data": {
      "text/plain": "0    76\n1    25\n2    18\n3     4\nName: age_group, dtype: int64"
     },
     "execution_count": 156,
     "metadata": {},
     "output_type": "execute_result"
    }
   ],
   "source": [
    "all_groups_usa[all_groups_usa[\"variant\"] == \"control\"].age_group.value_counts()"
   ],
   "metadata": {
    "collapsed": false,
    "pycharm": {
     "name": "#%%\n"
    }
   }
  },
  {
   "cell_type": "markdown",
   "source": [
    "Вот здесь стоит посмотреть в разрезе на первую группу:"
   ],
   "metadata": {
    "collapsed": false,
    "pycharm": {
     "name": "#%% md\n"
    }
   }
  },
  {
   "cell_type": "code",
   "execution_count": 157,
   "outputs": [
    {
     "data": {
      "text/plain": "    A   B       mean(A)       mean(B)         diff           se         T  \\\n0  A1  A2  12373.000000   9794.416667  2578.583333  3034.369238  0.849792   \n1  A1   B  12373.000000  12519.000000  -146.000000  2510.074587 -0.058166   \n2  A2   B   9794.416667  12519.000000 -2724.583333  2531.885550 -1.076108   \n\n          df      pval    hedges  \n0  22.929437  0.676534  0.328974  \n1  20.950905  0.998137 -0.020408  \n2  19.171251  0.539782 -0.386447  ",
      "text/html": "<div>\n<style scoped>\n    .dataframe tbody tr th:only-of-type {\n        vertical-align: middle;\n    }\n\n    .dataframe tbody tr th {\n        vertical-align: top;\n    }\n\n    .dataframe thead th {\n        text-align: right;\n    }\n</style>\n<table border=\"1\" class=\"dataframe\">\n  <thead>\n    <tr style=\"text-align: right;\">\n      <th></th>\n      <th>A</th>\n      <th>B</th>\n      <th>mean(A)</th>\n      <th>mean(B)</th>\n      <th>diff</th>\n      <th>se</th>\n      <th>T</th>\n      <th>df</th>\n      <th>pval</th>\n      <th>hedges</th>\n    </tr>\n  </thead>\n  <tbody>\n    <tr>\n      <th>0</th>\n      <td>A1</td>\n      <td>A2</td>\n      <td>12373.000000</td>\n      <td>9794.416667</td>\n      <td>2578.583333</td>\n      <td>3034.369238</td>\n      <td>0.849792</td>\n      <td>22.929437</td>\n      <td>0.676534</td>\n      <td>0.328974</td>\n    </tr>\n    <tr>\n      <th>1</th>\n      <td>A1</td>\n      <td>B</td>\n      <td>12373.000000</td>\n      <td>12519.000000</td>\n      <td>-146.000000</td>\n      <td>2510.074587</td>\n      <td>-0.058166</td>\n      <td>20.950905</td>\n      <td>0.998137</td>\n      <td>-0.020408</td>\n    </tr>\n    <tr>\n      <th>2</th>\n      <td>A2</td>\n      <td>B</td>\n      <td>9794.416667</td>\n      <td>12519.000000</td>\n      <td>-2724.583333</td>\n      <td>2531.885550</td>\n      <td>-1.076108</td>\n      <td>19.171251</td>\n      <td>0.539782</td>\n      <td>-0.386447</td>\n    </tr>\n  </tbody>\n</table>\n</div>"
     },
     "execution_count": 157,
     "metadata": {},
     "output_type": "execute_result"
    }
   ],
   "source": [
    "pg.pairwise_gameshowell(data=all_groups_usa[all_groups_usa[\"age_group\"] == 1], dv=\"total_revenue\", between=\"A/B_group\")"
   ],
   "metadata": {
    "collapsed": false,
    "pycharm": {
     "name": "#%%\n"
    }
   }
  },
  {
   "cell_type": "markdown",
   "source": [
    "В данном случае мне кажется, что лучше довериться срезам, но при этом данная метрика(ARPPU) неоднозначная.\n",
    "При этом я думаю можно посмотреть на конверсию, а также на ARPU, но сначала хочу посмотреть на данные о транзакциях:"
   ],
   "metadata": {
    "collapsed": false,
    "pycharm": {
     "name": "#%% md\n"
    }
   }
  },
  {
   "cell_type": "code",
   "execution_count": 158,
   "outputs": [
    {
     "data": {
      "text/plain": "         uid                   country            joined_at  \\\n0  891345942                     Italy  2017-05-11 13:00:00   \n1  892054251  United States of America  2017-10-22 00:33:00   \n2  892236423  United States of America  2017-10-18 01:09:00   \n3  892236423  United States of America  2017-10-18 01:09:00   \n4  892168170  United States of America  2017-10-19 17:10:00   \n\n               paid_at  revenue  payment_id        from_page   product_type  \n0  2017-11-13 15:04:00    12909         147  trial_vip_popup  trial_premium  \n1  2017-10-30 01:37:00    13923         147  trial_vip_popup  trial_premium  \n2  2017-10-23 00:15:00     3783          67             menu     other_type  \n3  2017-10-27 22:38:00     3783          67             menu     other_type  \n4  2017-10-27 19:10:00     9087         147  trial_vip_popup  trial_premium  ",
      "text/html": "<div>\n<style scoped>\n    .dataframe tbody tr th:only-of-type {\n        vertical-align: middle;\n    }\n\n    .dataframe tbody tr th {\n        vertical-align: top;\n    }\n\n    .dataframe thead th {\n        text-align: right;\n    }\n</style>\n<table border=\"1\" class=\"dataframe\">\n  <thead>\n    <tr style=\"text-align: right;\">\n      <th></th>\n      <th>uid</th>\n      <th>country</th>\n      <th>joined_at</th>\n      <th>paid_at</th>\n      <th>revenue</th>\n      <th>payment_id</th>\n      <th>from_page</th>\n      <th>product_type</th>\n    </tr>\n  </thead>\n  <tbody>\n    <tr>\n      <th>0</th>\n      <td>891345942</td>\n      <td>Italy</td>\n      <td>2017-05-11 13:00:00</td>\n      <td>2017-11-13 15:04:00</td>\n      <td>12909</td>\n      <td>147</td>\n      <td>trial_vip_popup</td>\n      <td>trial_premium</td>\n    </tr>\n    <tr>\n      <th>1</th>\n      <td>892054251</td>\n      <td>United States of America</td>\n      <td>2017-10-22 00:33:00</td>\n      <td>2017-10-30 01:37:00</td>\n      <td>13923</td>\n      <td>147</td>\n      <td>trial_vip_popup</td>\n      <td>trial_premium</td>\n    </tr>\n    <tr>\n      <th>2</th>\n      <td>892236423</td>\n      <td>United States of America</td>\n      <td>2017-10-18 01:09:00</td>\n      <td>2017-10-23 00:15:00</td>\n      <td>3783</td>\n      <td>67</td>\n      <td>menu</td>\n      <td>other_type</td>\n    </tr>\n    <tr>\n      <th>3</th>\n      <td>892236423</td>\n      <td>United States of America</td>\n      <td>2017-10-18 01:09:00</td>\n      <td>2017-10-27 22:38:00</td>\n      <td>3783</td>\n      <td>67</td>\n      <td>menu</td>\n      <td>other_type</td>\n    </tr>\n    <tr>\n      <th>4</th>\n      <td>892168170</td>\n      <td>United States of America</td>\n      <td>2017-10-19 17:10:00</td>\n      <td>2017-10-27 19:10:00</td>\n      <td>9087</td>\n      <td>147</td>\n      <td>trial_vip_popup</td>\n      <td>trial_premium</td>\n    </tr>\n  </tbody>\n</table>\n</div>"
     },
     "metadata": {},
     "output_type": "display_data"
    },
    {
     "data": {
      "text/plain": "           uid country            joined_at              paid_at  revenue  \\\n0  891319275.0  France  2017-05-11 19:57:00  2017-12-11 21:57:00  12727.0   \n1  892421826.0  Israel  2017-10-14 12:46:00  2017-10-23 12:54:00  14586.0   \n2  891822480.0   Italy  2017-10-26 22:27:00  2017-12-11 20:59:00   1911.0   \n3  891367521.0   Italy  2017-05-11 02:37:00  2017-06-11 19:15:00   1456.0   \n4  892207959.0  France  2017-10-18 18:30:00  2017-12-11 12:03:00   1261.0   \n\n   payment_id        from_page   product_type  \n0       147.0  trial_vip_popup  trial_premium  \n1       147.0  trial_vip_popup  trial_premium  \n2        19.0             none          coins  \n3       127.0         sympathy     other_type  \n4        19.0      empty_likes          coins  ",
      "text/html": "<div>\n<style scoped>\n    .dataframe tbody tr th:only-of-type {\n        vertical-align: middle;\n    }\n\n    .dataframe tbody tr th {\n        vertical-align: top;\n    }\n\n    .dataframe thead th {\n        text-align: right;\n    }\n</style>\n<table border=\"1\" class=\"dataframe\">\n  <thead>\n    <tr style=\"text-align: right;\">\n      <th></th>\n      <th>uid</th>\n      <th>country</th>\n      <th>joined_at</th>\n      <th>paid_at</th>\n      <th>revenue</th>\n      <th>payment_id</th>\n      <th>from_page</th>\n      <th>product_type</th>\n    </tr>\n  </thead>\n  <tbody>\n    <tr>\n      <th>0</th>\n      <td>891319275.0</td>\n      <td>France</td>\n      <td>2017-05-11 19:57:00</td>\n      <td>2017-12-11 21:57:00</td>\n      <td>12727.0</td>\n      <td>147.0</td>\n      <td>trial_vip_popup</td>\n      <td>trial_premium</td>\n    </tr>\n    <tr>\n      <th>1</th>\n      <td>892421826.0</td>\n      <td>Israel</td>\n      <td>2017-10-14 12:46:00</td>\n      <td>2017-10-23 12:54:00</td>\n      <td>14586.0</td>\n      <td>147.0</td>\n      <td>trial_vip_popup</td>\n      <td>trial_premium</td>\n    </tr>\n    <tr>\n      <th>2</th>\n      <td>891822480.0</td>\n      <td>Italy</td>\n      <td>2017-10-26 22:27:00</td>\n      <td>2017-12-11 20:59:00</td>\n      <td>1911.0</td>\n      <td>19.0</td>\n      <td>none</td>\n      <td>coins</td>\n    </tr>\n    <tr>\n      <th>3</th>\n      <td>891367521.0</td>\n      <td>Italy</td>\n      <td>2017-05-11 02:37:00</td>\n      <td>2017-06-11 19:15:00</td>\n      <td>1456.0</td>\n      <td>127.0</td>\n      <td>sympathy</td>\n      <td>other_type</td>\n    </tr>\n    <tr>\n      <th>4</th>\n      <td>892207959.0</td>\n      <td>France</td>\n      <td>2017-10-18 18:30:00</td>\n      <td>2017-12-11 12:03:00</td>\n      <td>1261.0</td>\n      <td>19.0</td>\n      <td>empty_likes</td>\n      <td>coins</td>\n    </tr>\n  </tbody>\n</table>\n</div>"
     },
     "metadata": {},
     "output_type": "display_data"
    },
    {
     "data": {
      "text/plain": "         uid                   country            joined_at  \\\n0  891266616                 Argentina  2017-06-11 15:25:00   \n1  892186737                     Chile  2017-10-19 06:03:00   \n2  891959004  United States of America  2017-10-24 00:12:00   \n3  892115478                     Spain  2017-10-20 20:39:00   \n4  891592941               Switzerland  2017-10-31 12:40:00   \n\n               paid_at  revenue  payment_id        from_page      product_type  \n0  2017-10-11 17:35:00     6305          19       autorefill             coins  \n1  2017-04-11 08:53:00     4732         147         promo_09  premium_no_trial  \n2  2017-10-31 02:12:00    10153         147  trial_vip_popup     trial_premium  \n3  2017-10-26 06:26:00     2366          67      empty_likes        other_type  \n4  2017-03-11 16:25:00     6292         147         promo_09  premium_no_trial  ",
      "text/html": "<div>\n<style scoped>\n    .dataframe tbody tr th:only-of-type {\n        vertical-align: middle;\n    }\n\n    .dataframe tbody tr th {\n        vertical-align: top;\n    }\n\n    .dataframe thead th {\n        text-align: right;\n    }\n</style>\n<table border=\"1\" class=\"dataframe\">\n  <thead>\n    <tr style=\"text-align: right;\">\n      <th></th>\n      <th>uid</th>\n      <th>country</th>\n      <th>joined_at</th>\n      <th>paid_at</th>\n      <th>revenue</th>\n      <th>payment_id</th>\n      <th>from_page</th>\n      <th>product_type</th>\n    </tr>\n  </thead>\n  <tbody>\n    <tr>\n      <th>0</th>\n      <td>891266616</td>\n      <td>Argentina</td>\n      <td>2017-06-11 15:25:00</td>\n      <td>2017-10-11 17:35:00</td>\n      <td>6305</td>\n      <td>19</td>\n      <td>autorefill</td>\n      <td>coins</td>\n    </tr>\n    <tr>\n      <th>1</th>\n      <td>892186737</td>\n      <td>Chile</td>\n      <td>2017-10-19 06:03:00</td>\n      <td>2017-04-11 08:53:00</td>\n      <td>4732</td>\n      <td>147</td>\n      <td>promo_09</td>\n      <td>premium_no_trial</td>\n    </tr>\n    <tr>\n      <th>2</th>\n      <td>891959004</td>\n      <td>United States of America</td>\n      <td>2017-10-24 00:12:00</td>\n      <td>2017-10-31 02:12:00</td>\n      <td>10153</td>\n      <td>147</td>\n      <td>trial_vip_popup</td>\n      <td>trial_premium</td>\n    </tr>\n    <tr>\n      <th>3</th>\n      <td>892115478</td>\n      <td>Spain</td>\n      <td>2017-10-20 20:39:00</td>\n      <td>2017-10-26 06:26:00</td>\n      <td>2366</td>\n      <td>67</td>\n      <td>empty_likes</td>\n      <td>other_type</td>\n    </tr>\n    <tr>\n      <th>4</th>\n      <td>891592941</td>\n      <td>Switzerland</td>\n      <td>2017-10-31 12:40:00</td>\n      <td>2017-03-11 16:25:00</td>\n      <td>6292</td>\n      <td>147</td>\n      <td>promo_09</td>\n      <td>premium_no_trial</td>\n    </tr>\n  </tbody>\n</table>\n</div>"
     },
     "metadata": {},
     "output_type": "display_data"
    }
   ],
   "source": [
    "display(transaction_test.head(),transaction_control1.head(),transaction_control2.head())"
   ],
   "metadata": {
    "collapsed": false,
    "pycharm": {
     "name": "#%%\n"
    }
   }
  },
  {
   "cell_type": "markdown",
   "source": [
    "Также как и в 2 датасетах по информации о пользователях, я также хочу посмотреть на A/A тест для инфы по транзакциям:"
   ],
   "metadata": {
    "collapsed": false,
    "pycharm": {
     "name": "#%% md\n"
    }
   }
  },
  {
   "cell_type": "code",
   "execution_count": 159,
   "outputs": [
    {
     "data": {
      "text/plain": "  0%|          | 0/10000 [00:00<?, ?it/s]",
      "application/vnd.jupyter.widget-view+json": {
       "version_major": 2,
       "version_minor": 0,
       "model_id": "952672ec3f9e4e58b84afcd912850760"
      }
     },
     "metadata": {},
     "output_type": "display_data"
    },
    {
     "data": {
      "text/plain": "<Figure size 864x576 with 1 Axes>",
      "image/png": "[encoded data removed]"
     },
     "metadata": {},
     "output_type": "display_data"
    },
    {
     "data": {
      "text/plain": "0.028"
     },
     "execution_count": 159,
     "metadata": {},
     "output_type": "execute_result"
    }
   ],
   "source": [
    "n = 100000\n",
    "simulations = 10000\n",
    "n_s = 100\n",
    "new_res = []\n",
    "# Запуск симуляций A/A теста\n",
    "for i in tqdm(range(simulations)):\n",
    "    s1 = transaction_control1.revenue.sample(n_s, replace=False).values\n",
    "    s2 = transaction_control2.revenue.sample(n_s, replace=False).values\n",
    "    res.append(ttest_ind(s1, s2, equal_var=False)[1])  # сохраняем pvalue\n",
    "\n",
    "plt.figure(figsize=(12, 8))\n",
    "plt.hist(res, bins=50)\n",
    "plt.style.use('ggplot')\n",
    "plt.xlabel('pvalues')\n",
    "plt.ylabel('frequency')\n",
    "plt.title(\"Histogram of ttest A/A simulations \")\n",
    "plt.show()\n",
    "# Проверяем, что количество ложноположительных случаев не превышает альфа\n",
    "sum(np.array(res) < 0.05) / simulations"
   ],
   "metadata": {
    "collapsed": false,
    "pycharm": {
     "name": "#%%\n"
    }
   }
  },
  {
   "cell_type": "markdown",
   "source": [
    "Так как значений у нас здесь поменьше, я поставил поменьше значение n_s, но при этом увеличил число итераций и как можно заметить A/A тест успешно был проведен."
   ],
   "metadata": {
    "collapsed": false,
    "pycharm": {
     "name": "#%% md\n"
    }
   }
  },
  {
   "cell_type": "code",
   "execution_count": 160,
   "outputs": [],
   "source": [
    "transaction_test.insert(8,\"A/B_group\",\"B\")"
   ],
   "metadata": {
    "collapsed": false,
    "pycharm": {
     "name": "#%%\n"
    }
   }
  },
  {
   "cell_type": "code",
   "execution_count": 161,
   "outputs": [],
   "source": [
    "transaction_control1.insert(8,\"A/B_group\",\"A1\")"
   ],
   "metadata": {
    "collapsed": false,
    "pycharm": {
     "name": "#%%\n"
    }
   }
  },
  {
   "cell_type": "code",
   "execution_count": 162,
   "outputs": [],
   "source": [
    "transaction_control2.insert(8,\"A/B_group\",\"A2\")"
   ],
   "metadata": {
    "collapsed": false,
    "pycharm": {
     "name": "#%%\n"
    }
   }
  },
  {
   "cell_type": "code",
   "execution_count": 163,
   "outputs": [],
   "source": [
    "transaction_control = pd.concat([transaction_control1,transaction_control2])\n",
    "transaction_control.insert(9,\"variant\",\"control\")"
   ],
   "metadata": {
    "collapsed": false,
    "pycharm": {
     "name": "#%%\n"
    }
   }
  },
  {
   "cell_type": "code",
   "execution_count": 164,
   "outputs": [],
   "source": [
    "transaction_test.insert(9,\"variant\",\"test\")"
   ],
   "metadata": {
    "collapsed": false,
    "pycharm": {
     "name": "#%%\n"
    }
   }
  },
  {
   "cell_type": "code",
   "execution_count": 165,
   "outputs": [],
   "source": [
    "all_transactions = pd.concat([transaction_test,transaction_control])"
   ],
   "metadata": {
    "collapsed": false,
    "pycharm": {
     "name": "#%%\n"
    }
   }
  },
  {
   "cell_type": "code",
   "execution_count": 166,
   "outputs": [
    {
     "data": {
      "text/plain": "           uid                   country            joined_at  \\\n0  891345942.0                     Italy  2017-05-11 13:00:00   \n1  892054251.0  United States of America  2017-10-22 00:33:00   \n2  892236423.0  United States of America  2017-10-18 01:09:00   \n3  892236423.0  United States of America  2017-10-18 01:09:00   \n4  892168170.0  United States of America  2017-10-19 17:10:00   \n\n               paid_at  revenue  payment_id        from_page   product_type  \\\n0  2017-11-13 15:04:00  12909.0       147.0  trial_vip_popup  trial_premium   \n1  2017-10-30 01:37:00  13923.0       147.0  trial_vip_popup  trial_premium   \n2  2017-10-23 00:15:00   3783.0        67.0             menu     other_type   \n3  2017-10-27 22:38:00   3783.0        67.0             menu     other_type   \n4  2017-10-27 19:10:00   9087.0       147.0  trial_vip_popup  trial_premium   \n\n  A/B_group variant  \n0         B    test  \n1         B    test  \n2         B    test  \n3         B    test  \n4         B    test  ",
      "text/html": "<div>\n<style scoped>\n    .dataframe tbody tr th:only-of-type {\n        vertical-align: middle;\n    }\n\n    .dataframe tbody tr th {\n        vertical-align: top;\n    }\n\n    .dataframe thead th {\n        text-align: right;\n    }\n</style>\n<table border=\"1\" class=\"dataframe\">\n  <thead>\n    <tr style=\"text-align: right;\">\n      <th></th>\n      <th>uid</th>\n      <th>country</th>\n      <th>joined_at</th>\n      <th>paid_at</th>\n      <th>revenue</th>\n      <th>payment_id</th>\n      <th>from_page</th>\n      <th>product_type</th>\n      <th>A/B_group</th>\n      <th>variant</th>\n    </tr>\n  </thead>\n  <tbody>\n    <tr>\n      <th>0</th>\n      <td>891345942.0</td>\n      <td>Italy</td>\n      <td>2017-05-11 13:00:00</td>\n      <td>2017-11-13 15:04:00</td>\n      <td>12909.0</td>\n      <td>147.0</td>\n      <td>trial_vip_popup</td>\n      <td>trial_premium</td>\n      <td>B</td>\n      <td>test</td>\n    </tr>\n    <tr>\n      <th>1</th>\n      <td>892054251.0</td>\n      <td>United States of America</td>\n      <td>2017-10-22 00:33:00</td>\n      <td>2017-10-30 01:37:00</td>\n      <td>13923.0</td>\n      <td>147.0</td>\n      <td>trial_vip_popup</td>\n      <td>trial_premium</td>\n      <td>B</td>\n      <td>test</td>\n    </tr>\n    <tr>\n      <th>2</th>\n      <td>892236423.0</td>\n      <td>United States of America</td>\n      <td>2017-10-18 01:09:00</td>\n      <td>2017-10-23 00:15:00</td>\n      <td>3783.0</td>\n      <td>67.0</td>\n      <td>menu</td>\n      <td>other_type</td>\n      <td>B</td>\n      <td>test</td>\n    </tr>\n    <tr>\n      <th>3</th>\n      <td>892236423.0</td>\n      <td>United States of America</td>\n      <td>2017-10-18 01:09:00</td>\n      <td>2017-10-27 22:38:00</td>\n      <td>3783.0</td>\n      <td>67.0</td>\n      <td>menu</td>\n      <td>other_type</td>\n      <td>B</td>\n      <td>test</td>\n    </tr>\n    <tr>\n      <th>4</th>\n      <td>892168170.0</td>\n      <td>United States of America</td>\n      <td>2017-10-19 17:10:00</td>\n      <td>2017-10-27 19:10:00</td>\n      <td>9087.0</td>\n      <td>147.0</td>\n      <td>trial_vip_popup</td>\n      <td>trial_premium</td>\n      <td>B</td>\n      <td>test</td>\n    </tr>\n  </tbody>\n</table>\n</div>"
     },
     "execution_count": 166,
     "metadata": {},
     "output_type": "execute_result"
    }
   ],
   "source": [
    "all_transactions.head()"
   ],
   "metadata": {
    "collapsed": false,
    "pycharm": {
     "name": "#%%\n"
    }
   }
  },
  {
   "cell_type": "markdown",
   "source": [
    "### Продолжаем генить гипотезы:\n",
    "____\n",
    "Давайте проверим гипотезу:\n",
    " H0 - что ARPU в тестовой и контрольной группе одинаковое;"
   ],
   "metadata": {
    "collapsed": false,
    "pycharm": {
     "name": "#%% md\n"
    }
   }
  },
  {
   "cell_type": "code",
   "execution_count": 167,
   "outputs": [],
   "source": [
    "users_control1.insert(13,\"A/B_group\",\"A1\")\n",
    "users_control2.insert(13,\"A/B_group\",\"A2\")"
   ],
   "metadata": {
    "collapsed": false,
    "pycharm": {
     "name": "#%%\n"
    }
   }
  },
  {
   "cell_type": "code",
   "execution_count": 168,
   "outputs": [],
   "source": [
    "users_control1.insert(14,\"variant\",\"control\")\n",
    "users_control2.insert(14,\"variant\",\"control\")"
   ],
   "metadata": {
    "collapsed": false,
    "pycharm": {
     "name": "#%%\n"
    }
   }
  },
  {
   "cell_type": "code",
   "execution_count": 169,
   "outputs": [
    {
     "data": {
      "text/plain": "         uid  age  attraction_coeff  coins                   country  \\\n0  892319115   25               435    0.0  United States of America   \n1  891248523   29               500    0.0  United States of America   \n2  891670932   33               800    0.0                    France   \n3  891060786   26                 0    0.0                 Argentina   \n4  892006554   35               294    0.0  United States of America   \n\n                          visit_days  gender  age_filter_start  \\\n0                        1,2,3,4,5,6       0                22   \n1                                1,2       1                26   \n2             1,2,3,5,6,8,9,11,13,16       1                30   \n3                          1,2,3,4,5       1                23   \n4  1,2,3,5,6,7,8,9,10,12,15,16,17,19       1                30   \n\n   age_filter_end  views_count  was_premium  is_premium  total_revenue  \\\n0              32          982          0.0         0.0              0   \n1              32           12          0.0         0.0              0   \n2              36            5          0.0         0.0              0   \n3              29            0          0.0         0.0              0   \n4              40           17          0.0         0.0              0   \n\n  A/B_group  variant  \n0        A1  control  \n1        A1  control  \n2        A1  control  \n3        A1  control  \n4        A1  control  ",
      "text/html": "<div>\n<style scoped>\n    .dataframe tbody tr th:only-of-type {\n        vertical-align: middle;\n    }\n\n    .dataframe tbody tr th {\n        vertical-align: top;\n    }\n\n    .dataframe thead th {\n        text-align: right;\n    }\n</style>\n<table border=\"1\" class=\"dataframe\">\n  <thead>\n    <tr style=\"text-align: right;\">\n      <th></th>\n      <th>uid</th>\n      <th>age</th>\n      <th>attraction_coeff</th>\n      <th>coins</th>\n      <th>country</th>\n      <th>visit_days</th>\n      <th>gender</th>\n      <th>age_filter_start</th>\n      <th>age_filter_end</th>\n      <th>views_count</th>\n      <th>was_premium</th>\n      <th>is_premium</th>\n      <th>total_revenue</th>\n      <th>A/B_group</th>\n      <th>variant</th>\n    </tr>\n  </thead>\n  <tbody>\n    <tr>\n      <th>0</th>\n      <td>892319115</td>\n      <td>25</td>\n      <td>435</td>\n      <td>0.0</td>\n      <td>United States of America</td>\n      <td>1,2,3,4,5,6</td>\n      <td>0</td>\n      <td>22</td>\n      <td>32</td>\n      <td>982</td>\n      <td>0.0</td>\n      <td>0.0</td>\n      <td>0</td>\n      <td>A1</td>\n      <td>control</td>\n    </tr>\n    <tr>\n      <th>1</th>\n      <td>891248523</td>\n      <td>29</td>\n      <td>500</td>\n      <td>0.0</td>\n      <td>United States of America</td>\n      <td>1,2</td>\n      <td>1</td>\n      <td>26</td>\n      <td>32</td>\n      <td>12</td>\n      <td>0.0</td>\n      <td>0.0</td>\n      <td>0</td>\n      <td>A1</td>\n      <td>control</td>\n    </tr>\n    <tr>\n      <th>2</th>\n      <td>891670932</td>\n      <td>33</td>\n      <td>800</td>\n      <td>0.0</td>\n      <td>France</td>\n      <td>1,2,3,5,6,8,9,11,13,16</td>\n      <td>1</td>\n      <td>30</td>\n      <td>36</td>\n      <td>5</td>\n      <td>0.0</td>\n      <td>0.0</td>\n      <td>0</td>\n      <td>A1</td>\n      <td>control</td>\n    </tr>\n    <tr>\n      <th>3</th>\n      <td>891060786</td>\n      <td>26</td>\n      <td>0</td>\n      <td>0.0</td>\n      <td>Argentina</td>\n      <td>1,2,3,4,5</td>\n      <td>1</td>\n      <td>23</td>\n      <td>29</td>\n      <td>0</td>\n      <td>0.0</td>\n      <td>0.0</td>\n      <td>0</td>\n      <td>A1</td>\n      <td>control</td>\n    </tr>\n    <tr>\n      <th>4</th>\n      <td>892006554</td>\n      <td>35</td>\n      <td>294</td>\n      <td>0.0</td>\n      <td>United States of America</td>\n      <td>1,2,3,5,6,7,8,9,10,12,15,16,17,19</td>\n      <td>1</td>\n      <td>30</td>\n      <td>40</td>\n      <td>17</td>\n      <td>0.0</td>\n      <td>0.0</td>\n      <td>0</td>\n      <td>A1</td>\n      <td>control</td>\n    </tr>\n  </tbody>\n</table>\n</div>"
     },
     "execution_count": 169,
     "metadata": {},
     "output_type": "execute_result"
    }
   ],
   "source": [
    "users_control = pd.concat([users_control1,users_control2])\n",
    "users_control.head()"
   ],
   "metadata": {
    "collapsed": false,
    "pycharm": {
     "name": "#%%\n"
    }
   }
  },
  {
   "cell_type": "code",
   "execution_count": 170,
   "outputs": [
    {
     "data": {
      "text/plain": "         uid  age  attraction_coeff  coins                   country  \\\n0  892309896   27               685    0.0  United States of America   \n1  892044516   27                 0    0.0                   Germany   \n2  892185708   45                44    0.0                    Israel   \n3  892130292   32                 0    0.0  United States of America   \n4  891406035   27              1000    0.0                    France   \n\n                                          visit_days  gender  \\\n0                   1,2,3,4,5,6,7,8,9,10,11,12,16,17       1   \n1                                                NaN       1   \n2  1,3,4,6,7,8,10,11,12,13,14,15,16,17,18,19,20,2...       1   \n3                         1,2,3,4,5,6,7,8,9,10,11,12       1   \n4                                                NaN       1   \n\n   age_filter_start  age_filter_end  views_count  was_premium  is_premium  \\\n0                24              30           89          0.0         0.0   \n1                24              30            0          0.0         0.0   \n2                42              48           68          0.0         0.0   \n3                29              35            0          0.0         0.0   \n4                24              30            1          1.0         0.0   \n\n   total_revenue  \n0              0  \n1              0  \n2              0  \n3              0  \n4              0  ",
      "text/html": "<div>\n<style scoped>\n    .dataframe tbody tr th:only-of-type {\n        vertical-align: middle;\n    }\n\n    .dataframe tbody tr th {\n        vertical-align: top;\n    }\n\n    .dataframe thead th {\n        text-align: right;\n    }\n</style>\n<table border=\"1\" class=\"dataframe\">\n  <thead>\n    <tr style=\"text-align: right;\">\n      <th></th>\n      <th>uid</th>\n      <th>age</th>\n      <th>attraction_coeff</th>\n      <th>coins</th>\n      <th>country</th>\n      <th>visit_days</th>\n      <th>gender</th>\n      <th>age_filter_start</th>\n      <th>age_filter_end</th>\n      <th>views_count</th>\n      <th>was_premium</th>\n      <th>is_premium</th>\n      <th>total_revenue</th>\n    </tr>\n  </thead>\n  <tbody>\n    <tr>\n      <th>0</th>\n      <td>892309896</td>\n      <td>27</td>\n      <td>685</td>\n      <td>0.0</td>\n      <td>United States of America</td>\n      <td>1,2,3,4,5,6,7,8,9,10,11,12,16,17</td>\n      <td>1</td>\n      <td>24</td>\n      <td>30</td>\n      <td>89</td>\n      <td>0.0</td>\n      <td>0.0</td>\n      <td>0</td>\n    </tr>\n    <tr>\n      <th>1</th>\n      <td>892044516</td>\n      <td>27</td>\n      <td>0</td>\n      <td>0.0</td>\n      <td>Germany</td>\n      <td>NaN</td>\n      <td>1</td>\n      <td>24</td>\n      <td>30</td>\n      <td>0</td>\n      <td>0.0</td>\n      <td>0.0</td>\n      <td>0</td>\n    </tr>\n    <tr>\n      <th>2</th>\n      <td>892185708</td>\n      <td>45</td>\n      <td>44</td>\n      <td>0.0</td>\n      <td>Israel</td>\n      <td>1,3,4,6,7,8,10,11,12,13,14,15,16,17,18,19,20,2...</td>\n      <td>1</td>\n      <td>42</td>\n      <td>48</td>\n      <td>68</td>\n      <td>0.0</td>\n      <td>0.0</td>\n      <td>0</td>\n    </tr>\n    <tr>\n      <th>3</th>\n      <td>892130292</td>\n      <td>32</td>\n      <td>0</td>\n      <td>0.0</td>\n      <td>United States of America</td>\n      <td>1,2,3,4,5,6,7,8,9,10,11,12</td>\n      <td>1</td>\n      <td>29</td>\n      <td>35</td>\n      <td>0</td>\n      <td>0.0</td>\n      <td>0.0</td>\n      <td>0</td>\n    </tr>\n    <tr>\n      <th>4</th>\n      <td>891406035</td>\n      <td>27</td>\n      <td>1000</td>\n      <td>0.0</td>\n      <td>France</td>\n      <td>NaN</td>\n      <td>1</td>\n      <td>24</td>\n      <td>30</td>\n      <td>1</td>\n      <td>1.0</td>\n      <td>0.0</td>\n      <td>0</td>\n    </tr>\n  </tbody>\n</table>\n</div>"
     },
     "execution_count": 170,
     "metadata": {},
     "output_type": "execute_result"
    }
   ],
   "source": [
    "user_test.head()"
   ],
   "metadata": {
    "collapsed": false,
    "pycharm": {
     "name": "#%%\n"
    }
   }
  },
  {
   "cell_type": "code",
   "execution_count": 171,
   "outputs": [],
   "source": [
    "user_test.insert(13,\"A/B_group\",\"B\")\n",
    "user_test.insert(14,\"variant\",\"test\")"
   ],
   "metadata": {
    "collapsed": false,
    "pycharm": {
     "name": "#%%\n"
    }
   }
  },
  {
   "cell_type": "code",
   "execution_count": 172,
   "outputs": [],
   "source": [
    "all_users = pd.concat([user_test,users_control])"
   ],
   "metadata": {
    "collapsed": false,
    "pycharm": {
     "name": "#%%\n"
    }
   }
  },
  {
   "cell_type": "code",
   "execution_count": 173,
   "outputs": [
    {
     "data": {
      "text/plain": "         uid  age                   country  total_revenue A/B_group variant\n0  892309896   27  United States of America              0         B    test\n1  892044516   27                   Germany              0         B    test\n2  892185708   45                    Israel              0         B    test\n3  892130292   32  United States of America              0         B    test\n4  891406035   27                    France              0         B    test",
      "text/html": "<div>\n<style scoped>\n    .dataframe tbody tr th:only-of-type {\n        vertical-align: middle;\n    }\n\n    .dataframe tbody tr th {\n        vertical-align: top;\n    }\n\n    .dataframe thead th {\n        text-align: right;\n    }\n</style>\n<table border=\"1\" class=\"dataframe\">\n  <thead>\n    <tr style=\"text-align: right;\">\n      <th></th>\n      <th>uid</th>\n      <th>age</th>\n      <th>country</th>\n      <th>total_revenue</th>\n      <th>A/B_group</th>\n      <th>variant</th>\n    </tr>\n  </thead>\n  <tbody>\n    <tr>\n      <th>0</th>\n      <td>892309896</td>\n      <td>27</td>\n      <td>United States of America</td>\n      <td>0</td>\n      <td>B</td>\n      <td>test</td>\n    </tr>\n    <tr>\n      <th>1</th>\n      <td>892044516</td>\n      <td>27</td>\n      <td>Germany</td>\n      <td>0</td>\n      <td>B</td>\n      <td>test</td>\n    </tr>\n    <tr>\n      <th>2</th>\n      <td>892185708</td>\n      <td>45</td>\n      <td>Israel</td>\n      <td>0</td>\n      <td>B</td>\n      <td>test</td>\n    </tr>\n    <tr>\n      <th>3</th>\n      <td>892130292</td>\n      <td>32</td>\n      <td>United States of America</td>\n      <td>0</td>\n      <td>B</td>\n      <td>test</td>\n    </tr>\n    <tr>\n      <th>4</th>\n      <td>891406035</td>\n      <td>27</td>\n      <td>France</td>\n      <td>0</td>\n      <td>B</td>\n      <td>test</td>\n    </tr>\n  </tbody>\n</table>\n</div>"
     },
     "execution_count": 173,
     "metadata": {},
     "output_type": "execute_result"
    }
   ],
   "source": [
    "all_users = all_users[[\"uid\",\"age\",\"country\",\"total_revenue\",\"A/B_group\",\"variant\"]]\n",
    "all_users.head()"
   ],
   "metadata": {
    "collapsed": false,
    "pycharm": {
     "name": "#%%\n"
    }
   }
  },
  {
   "cell_type": "code",
   "execution_count": 174,
   "outputs": [
    {
     "data": {
      "text/plain": "               W      pval  equal_var\nlevene  0.623986  0.535821       True",
      "text/html": "<div>\n<style scoped>\n    .dataframe tbody tr th:only-of-type {\n        vertical-align: middle;\n    }\n\n    .dataframe tbody tr th {\n        vertical-align: top;\n    }\n\n    .dataframe thead th {\n        text-align: right;\n    }\n</style>\n<table border=\"1\" class=\"dataframe\">\n  <thead>\n    <tr style=\"text-align: right;\">\n      <th></th>\n      <th>W</th>\n      <th>pval</th>\n      <th>equal_var</th>\n    </tr>\n  </thead>\n  <tbody>\n    <tr>\n      <th>levene</th>\n      <td>0.623986</td>\n      <td>0.535821</td>\n      <td>True</td>\n    </tr>\n  </tbody>\n</table>\n</div>"
     },
     "execution_count": 174,
     "metadata": {},
     "output_type": "execute_result"
    }
   ],
   "source": [
    "pg.homoscedasticity(data=all_users, dv='total_revenue',group='A/B_group')"
   ],
   "metadata": {
    "collapsed": false,
    "pycharm": {
     "name": "#%%\n"
    }
   }
  },
  {
   "cell_type": "markdown",
   "source": [
    "Дисперсия в группах равна, а теперь я хочу использовать попарный критерий Тьюки, а также использую bootstrap:\n",
    "В первом опыте:\n",
    "- H0 - среднее в total_revenue(ARPU) не отличается в зависимости от группы эксперимента."
   ],
   "metadata": {
    "collapsed": false,
    "pycharm": {
     "name": "#%% md\n"
    }
   }
  },
  {
   "cell_type": "code",
   "execution_count": 175,
   "outputs": [
    {
     "data": {
      "text/plain": "    A   B     mean(A)     mean(B)       diff         se         T   p-tukey  \\\n0  A1  A2  482.815626  450.384146  32.431479  75.450439  0.429838  0.903189   \n1  A1   B  482.815626  534.080316 -51.264690  75.255854 -0.681205  0.774464   \n2  A2   B  450.384146  534.080316 -83.696169  75.584869 -1.107314  0.509539   \n\n     hedges  \n0  0.009268  \n1 -0.014650  \n2 -0.023918  ",
      "text/html": "<div>\n<style scoped>\n    .dataframe tbody tr th:only-of-type {\n        vertical-align: middle;\n    }\n\n    .dataframe tbody tr th {\n        vertical-align: top;\n    }\n\n    .dataframe thead th {\n        text-align: right;\n    }\n</style>\n<table border=\"1\" class=\"dataframe\">\n  <thead>\n    <tr style=\"text-align: right;\">\n      <th></th>\n      <th>A</th>\n      <th>B</th>\n      <th>mean(A)</th>\n      <th>mean(B)</th>\n      <th>diff</th>\n      <th>se</th>\n      <th>T</th>\n      <th>p-tukey</th>\n      <th>hedges</th>\n    </tr>\n  </thead>\n  <tbody>\n    <tr>\n      <th>0</th>\n      <td>A1</td>\n      <td>A2</td>\n      <td>482.815626</td>\n      <td>450.384146</td>\n      <td>32.431479</td>\n      <td>75.450439</td>\n      <td>0.429838</td>\n      <td>0.903189</td>\n      <td>0.009268</td>\n    </tr>\n    <tr>\n      <th>1</th>\n      <td>A1</td>\n      <td>B</td>\n      <td>482.815626</td>\n      <td>534.080316</td>\n      <td>-51.264690</td>\n      <td>75.255854</td>\n      <td>-0.681205</td>\n      <td>0.774464</td>\n      <td>-0.014650</td>\n    </tr>\n    <tr>\n      <th>2</th>\n      <td>A2</td>\n      <td>B</td>\n      <td>450.384146</td>\n      <td>534.080316</td>\n      <td>-83.696169</td>\n      <td>75.584869</td>\n      <td>-1.107314</td>\n      <td>0.509539</td>\n      <td>-0.023918</td>\n    </tr>\n  </tbody>\n</table>\n</div>"
     },
     "execution_count": 175,
     "metadata": {},
     "output_type": "execute_result"
    }
   ],
   "source": [
    "pg.pairwise_tukey(data=all_users, dv=\"total_revenue\", between=\"A/B_group\")"
   ],
   "metadata": {
    "collapsed": false,
    "pycharm": {
     "name": "#%%\n"
    }
   }
  },
  {
   "cell_type": "markdown",
   "source": [
    "- Тест подсказывает нам не отклонять H0, а именно, что различие между не зависимо какой контрольной группы и тестовой группой нету. -\n",
    "- Теперь попробуем немного другую гипотезу, H0 - что в тестовой и контрольной группе различий нету."
   ],
   "metadata": {
    "collapsed": false,
    "pycharm": {
     "name": "#%% md\n"
    }
   }
  },
  {
   "cell_type": "code",
   "execution_count": 177,
   "outputs": [],
   "source": [
    "test = all_users[all_users[\"variant\"] == 'test']\n",
    "control = all_users[all_users[\"variant\"] == 'control']"
   ],
   "metadata": {
    "collapsed": false,
    "pycharm": {
     "name": "#%%\n"
    }
   }
  },
  {
   "cell_type": "code",
   "execution_count": 178,
   "outputs": [
    {
     "data": {
      "text/plain": "  0%|          | 0/1000 [00:00<?, ?it/s]",
      "application/vnd.jupyter.widget-view+json": {
       "version_major": 2,
       "version_minor": 0,
       "model_id": "7cd63a1b96ea43c5a7e0a230590f83b2"
      }
     },
     "metadata": {},
     "output_type": "display_data"
    },
    {
     "data": {
      "text/plain": "<Figure size 432x288 with 1 Axes>",
      "image/png": "[encoded data removed]"
     },
     "metadata": {},
     "output_type": "display_data"
    }
   ],
   "source": [
    "bootstraped_data = get_bootstrap(test.total_revenue,control.total_revenue)"
   ],
   "metadata": {
    "collapsed": false,
    "pycharm": {
     "name": "#%%\n"
    }
   }
  },
  {
   "cell_type": "code",
   "execution_count": 179,
   "outputs": [
    {
     "data": {
      "text/plain": "0.22645111683858932"
     },
     "execution_count": 179,
     "metadata": {},
     "output_type": "execute_result"
    }
   ],
   "source": [
    "bootstraped_data[\"p_value\"]"
   ],
   "metadata": {
    "collapsed": false,
    "pycharm": {
     "name": "#%%\n"
    }
   }
  },
  {
   "cell_type": "markdown",
   "source": [
    "- И p-value и на самом графике видно, что интервал пересекает 0, поэтому нам стоит не отклонять H0;\n",
    "- Остается лишь проверить конверсию, а проверять буду на конверсию в любую подписку с помощью z-test, где Нулевая гипотеза (H0) для теста состоит в том, что пропорции одинаковы. Альтернативная гипотеза (H1) заключается в том, что пропорции не совпадают и в нашем случае первая пропорция меньше."
   ],
   "metadata": {
    "collapsed": false,
    "pycharm": {
     "name": "#%% md\n"
    }
   }
  },
  {
   "cell_type": "code",
   "execution_count": 180,
   "outputs": [],
   "source": [
    "stat, pval = proportions_ztest((test1.shape[0], ctr1.shape[0]),\n",
    "                               (user_test.shape[0], users_control1.shape[0]),\n",
    "                               alternative='smaller')"
   ],
   "metadata": {
    "collapsed": false,
    "pycharm": {
     "name": "#%%\n"
    }
   }
  },
  {
   "cell_type": "code",
   "execution_count": 181,
   "outputs": [
    {
     "name": "stdout",
     "output_type": "stream",
     "text": [
      "Конверсия в любую покупку test:control_1: 0.00748\n"
     ]
    }
   ],
   "source": [
    "print('Конверсия в любую покупку test:control_1: '+'{0:0.5f}'.format(pval))"
   ],
   "metadata": {
    "collapsed": false,
    "pycharm": {
     "name": "#%%\n"
    }
   }
  },
  {
   "cell_type": "code",
   "execution_count": 182,
   "outputs": [
    {
     "name": "stdout",
     "output_type": "stream",
     "text": [
      "Конверсия в любую покупку test:control_2: 0.008\n"
     ]
    }
   ],
   "source": [
    "stat, pval = proportions_ztest((test1.shape[0], ctr2.shape[0]),\n",
    "                               (user_test.shape[0], users_control2.shape[0]),\n",
    "                               alternative='smaller')\n",
    "print('Конверсия в любую покупку test:control_2: '+'{0:0.3f}'.format(pval))"
   ],
   "metadata": {
    "collapsed": false,
    "pycharm": {
     "name": "#%%\n"
    }
   }
  },
  {
   "cell_type": "markdown",
   "source": [
    "p-value подталкивает нас отклонить H0, при этом как мы можем видеть конверсия снизилась."
   ],
   "metadata": {
    "collapsed": false,
    "pycharm": {
     "name": "#%% md\n"
    }
   }
  },
  {
   "cell_type": "markdown",
   "source": [
    "### Выводы:\n",
    "____\n",
    "\n",
    "В ходе исследований я считаю что данный эксперимент не стоит вводить так как:\n",
    "1. ARPU - не показал никаких различий;\n",
    "2. ARPPU - не показал никаких различий в разрезах по возрастной группе и по стране;\n",
    "3. Снизилась конверсия в любую покупку.\n",
    "\n",
    "На основе вышеперечисленных фактов, я думаю, что нам точно не стоит вводить фичу, которую мы тестировали в данном эксперименте."
   ],
   "metadata": {
    "collapsed": false,
    "pycharm": {
     "name": "#%% md\n"
    }
   }
  }
 ],
 "metadata": {
  "kernelspec": {
   "display_name": "Python 3",
   "language": "python",
   "name": "python3"
  },
  "language_info": {
   "codemirror_mode": {
    "name": "ipython",
    "version": 2
   },
   "file_extension": ".py",
   "mimetype": "text/x-python",
   "name": "python",
   "nbconvert_exporter": "python",
   "pygments_lexer": "ipython2",
   "version": "2.7.6"
  }
 },
 "nbformat": 4,
 "nbformat_minor": 0
}