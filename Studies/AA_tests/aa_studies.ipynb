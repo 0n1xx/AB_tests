{
 "cells": [
  {
   "cell_type": "markdown",
   "source": [
    "### A/A тесты и проверка качества систем сплитования:\n",
    "____"
   ],
   "metadata": {
    "collapsed": false,
    "pycharm": {
     "name": "#%% md\n"
    }
   }
  },
  {
   "cell_type": "markdown",
   "source": [
    "![](a_a_test_meme.png)"
   ],
   "metadata": {
    "collapsed": false,
    "pycharm": {
     "name": "#%% md\n"
    }
   }
  },
  {
   "cell_type": "markdown",
   "source": [
    "##### Главная идея:\n",
    "____\n",
    "- Перед тем как проводить A/B тест, нам следует провести A/A тест так как именно он покажет грамотная ли у нас система сплитования пользователей, потому что если в результате нашего теста мы получим отрицательный ответ на данный вопрос, то большинство A/B тестов пойдут в пустую так как мы проверяем наличие различий в совершенно неодинаково разделённых выборках."
   ],
   "metadata": {
    "collapsed": false,
    "pycharm": {
     "name": "#%% md\n"
    }
   }
  },
  {
   "cell_type": "code",
   "execution_count": 1,
   "outputs": [],
   "source": [
    "import numpy as np\n",
    "import pandas as pd\n",
    "from scipy import stats\n",
    "import matplotlib.pyplot as plt\n",
    "\n",
    "from tqdm.auto import tqdm"
   ],
   "metadata": {
    "collapsed": false,
    "pycharm": {
     "name": "#%%\n"
    }
   }
  },
  {
   "cell_type": "markdown",
   "source": [
    "А теперь давайте разберём что же такое FPR:\n",
    "\n",
    "![](fpr_formula.png)\n",
    "\n",
    "FP — False Positive или I{P≤α}, I — индикаторная функция, P — полученные p-value на каждой итерации синтетического теста, α — уровень альфа, TN — True Negative.\n",
    "\n",
    "По сути, необходимо проверять FPR на каждом уровне значимости: частота ложных прокрасов не должна быть выше заданного уровня значимости. FPR не должен превышать 0.05 для alpha = 0.05. Соответственно, это должно соблюдаться и для 0.01, 0.005 и т.д.\n",
    "Также снизу представлена правильная форма рспределение p-values при хорошей системе сплитования и в обратном случае:\n",
    "\n",
    "![](different_fpr.png)"
   ],
   "metadata": {
    "collapsed": false,
    "pycharm": {
     "name": "#%% md\n"
    }
   }
  },
  {
   "cell_type": "code",
   "execution_count": 2,
   "outputs": [
    {
     "data": {
      "text/plain": "                                uid  experimentVariant version  purchase\n0  c4ca4238a0b923820dcc509a6f75849b                  1  v2.8.0         0\n1  c81e728d9d4c2f636f067f89cc14862c                  0  v2.9.0         0\n2  eccbc87e4b5ce2fe28308fd9f2a7baf3                  1  v2.9.0         0\n3  a87ff679a2f3e71d9181a67b7542122c                  1  v2.8.0         0\n4  e4da3b7fbbce2345d7772b0674a318d5                  1  v2.8.0         0",
      "text/html": "<div>\n<style scoped>\n    .dataframe tbody tr th:only-of-type {\n        vertical-align: middle;\n    }\n\n    .dataframe tbody tr th {\n        vertical-align: top;\n    }\n\n    .dataframe thead th {\n        text-align: right;\n    }\n</style>\n<table border=\"1\" class=\"dataframe\">\n  <thead>\n    <tr style=\"text-align: right;\">\n      <th></th>\n      <th>uid</th>\n      <th>experimentVariant</th>\n      <th>version</th>\n      <th>purchase</th>\n    </tr>\n  </thead>\n  <tbody>\n    <tr>\n      <th>0</th>\n      <td>c4ca4238a0b923820dcc509a6f75849b</td>\n      <td>1</td>\n      <td>v2.8.0</td>\n      <td>0</td>\n    </tr>\n    <tr>\n      <th>1</th>\n      <td>c81e728d9d4c2f636f067f89cc14862c</td>\n      <td>0</td>\n      <td>v2.9.0</td>\n      <td>0</td>\n    </tr>\n    <tr>\n      <th>2</th>\n      <td>eccbc87e4b5ce2fe28308fd9f2a7baf3</td>\n      <td>1</td>\n      <td>v2.9.0</td>\n      <td>0</td>\n    </tr>\n    <tr>\n      <th>3</th>\n      <td>a87ff679a2f3e71d9181a67b7542122c</td>\n      <td>1</td>\n      <td>v2.8.0</td>\n      <td>0</td>\n    </tr>\n    <tr>\n      <th>4</th>\n      <td>e4da3b7fbbce2345d7772b0674a318d5</td>\n      <td>1</td>\n      <td>v2.8.0</td>\n      <td>0</td>\n    </tr>\n  </tbody>\n</table>\n</div>"
     },
     "execution_count": 2,
     "metadata": {},
     "output_type": "execute_result"
    }
   ],
   "source": [
    "df = pd.read_csv(\"hw_aa.csv\",sep= \";\")\n",
    "df.drop(\"Unnamed: 0\",axis=1,inplace=True)\n",
    "df.dropna(inplace=True)\n",
    "df.head()"
   ],
   "metadata": {
    "collapsed": false,
    "pycharm": {
     "name": "#%%\n"
    }
   }
  },
  {
   "cell_type": "code",
   "execution_count": 3,
   "outputs": [
    {
     "data": {
      "text/plain": "508072"
     },
     "execution_count": 3,
     "metadata": {},
     "output_type": "execute_result"
    }
   ],
   "source": [
    "df.size"
   ],
   "metadata": {
    "collapsed": false,
    "pycharm": {
     "name": "#%%\n"
    }
   }
  },
  {
   "cell_type": "markdown",
   "source": [
    "Выгрузка данных была успешна выполнена,  а теперь давайте зайймёмся A/A тестом, при этом пару слов о цикле:\n",
    "1. В replace стоит False, чтобы выбранные значения он уже не возвращал;\n",
    "2. Кол-во итераций ставим не меньше 1000, это моё империческое число, но оно полность соглашается с ограничениями, наложеннные на A/A тест.\n",
    "____\n",
    "##### Также, давайте сразу разберём ограничения, наложенные на A/A тест:\n",
    "1. А/А желательно проводить как можно дольше, чтобы достичь достаточной репрезентативности (охватить недельную сезонность и разные группы пользователей).\n",
    "2. В случае если нет возможности ждать, то не рекомендуется использовать долгоиграющие метрики для проверки сплита (например, С2).\n",
    "3. Постсимуляции нужно делать без возвращения наблюдений в сплитах."
   ],
   "metadata": {
    "collapsed": false,
    "pycharm": {
     "name": "#%% md\n"
    }
   }
  },
  {
   "cell_type": "code",
   "execution_count": 5,
   "outputs": [
    {
     "data": {
      "text/plain": "  0%|          | 0/1000 [00:00<?, ?it/s]",
      "application/vnd.jupyter.widget-view+json": {
       "version_major": 2,
       "version_minor": 0,
       "model_id": "a8c05d180d404f8c83840afcfd9718ac"
      }
     },
     "metadata": {},
     "output_type": "display_data"
    },
    {
     "data": {
      "text/plain": "<Figure size 864x576 with 1 Axes>",
      "image/png": "[encoded data removed]"
     },
     "metadata": {},
     "output_type": "display_data"
    },
    {
     "data": {
      "text/plain": "0.931"
     },
     "execution_count": 5,
     "metadata": {},
     "output_type": "execute_result"
    }
   ],
   "source": [
    "n = 100000\n",
    "simulations = 1000\n",
    "n_s = 1000\n",
    "res = []\n",
    "# Запуск симуляций A/A теста\n",
    "for i in tqdm(range(simulations)):\n",
    "    s1 = df[df[\"experimentVariant\"] == 1][\"purchase\"].sample(n_s, replace = False).values\n",
    "    s2 = df[df[\"experimentVariant\"] == 0][\"purchase\"].sample(n_s, replace = False).values\n",
    "    res.append(stats.ttest_ind(s1, s2, equal_var = False)[1]) # сохраняем pvalue\n",
    "\n",
    "plt.figure(figsize=(12,8))\n",
    "plt.hist(res, bins = 50)\n",
    "plt.style.use('ggplot')\n",
    "plt.xlabel('pvalues')\n",
    "plt.ylabel('frequency')\n",
    "plt.title(\"Histogram of ttest A/A simulations \")\n",
    "plt.show()\n",
    "# Проверяем, что количество ложноположительных случаев не превышает альфа\n",
    "sum(np.array(res) <0.05) / simulations"
   ],
   "metadata": {
    "collapsed": false,
    "pycharm": {
     "name": "#%%\n"
    }
   }
  },
  {
   "cell_type": "markdown",
   "source": [
    "Исходя из нашего теста мы видим, что наши p-values распределены ненормальным образом, а также наш FPR явно больше 0.05, а теперь давайте изучим наши данные как настоящий исследователь:"
   ],
   "metadata": {
    "collapsed": false,
    "pycharm": {
     "name": "#%% md\n"
    }
   }
  },
  {
   "cell_type": "code",
   "execution_count": 6,
   "outputs": [
    {
     "data": {
      "text/plain": "   experimentVariant  purchase\n0                  0  0.023945\n1                  1  0.053242",
      "text/html": "<div>\n<style scoped>\n    .dataframe tbody tr th:only-of-type {\n        vertical-align: middle;\n    }\n\n    .dataframe tbody tr th {\n        vertical-align: top;\n    }\n\n    .dataframe thead th {\n        text-align: right;\n    }\n</style>\n<table border=\"1\" class=\"dataframe\">\n  <thead>\n    <tr style=\"text-align: right;\">\n      <th></th>\n      <th>experimentVariant</th>\n      <th>purchase</th>\n    </tr>\n  </thead>\n  <tbody>\n    <tr>\n      <th>0</th>\n      <td>0</td>\n      <td>0.023945</td>\n    </tr>\n    <tr>\n      <th>1</th>\n      <td>1</td>\n      <td>0.053242</td>\n    </tr>\n  </tbody>\n</table>\n</div>"
     },
     "execution_count": 6,
     "metadata": {},
     "output_type": "execute_result"
    }
   ],
   "source": [
    "df.groupby(\"experimentVariant\",as_index=False).agg({\"purchase\":\"mean\"})"
   ],
   "metadata": {
    "collapsed": false,
    "pycharm": {
     "name": "#%%\n"
    }
   }
  },
  {
   "cell_type": "markdown",
   "source": [
    "Это уже немного настораживает, ведь наши различия в первой и во второй группе довольно сильно отличаются и надо копать дальше, но это ли не круто изучать наши данные изнутри, что в них вообще творится :)\n",
    "Наиболее очевидный вариант просто сделать двойную группировку, а агрегацию оставить такой же:"
   ],
   "metadata": {
    "collapsed": false,
    "pycharm": {
     "name": "#%% md\n"
    }
   }
  },
  {
   "cell_type": "code",
   "execution_count": 7,
   "outputs": [
    {
     "data": {
      "text/plain": "   experimentVariant   version  purchase\n0                  0    v2.8.0  0.000993\n1                  0    v2.9.0  0.074658\n2                  0  v3.7.4.0  0.059943\n3                  0  v3.8.0.0  0.057604\n4                  1    v2.8.0  0.045606\n5                  1    v2.9.0  0.071304\n6                  1  v3.7.4.0  0.063018\n7                  1  v3.8.0.0  0.062848",
      "text/html": "<div>\n<style scoped>\n    .dataframe tbody tr th:only-of-type {\n        vertical-align: middle;\n    }\n\n    .dataframe tbody tr th {\n        vertical-align: top;\n    }\n\n    .dataframe thead th {\n        text-align: right;\n    }\n</style>\n<table border=\"1\" class=\"dataframe\">\n  <thead>\n    <tr style=\"text-align: right;\">\n      <th></th>\n      <th>experimentVariant</th>\n      <th>version</th>\n      <th>purchase</th>\n    </tr>\n  </thead>\n  <tbody>\n    <tr>\n      <th>0</th>\n      <td>0</td>\n      <td>v2.8.0</td>\n      <td>0.000993</td>\n    </tr>\n    <tr>\n      <th>1</th>\n      <td>0</td>\n      <td>v2.9.0</td>\n      <td>0.074658</td>\n    </tr>\n    <tr>\n      <th>2</th>\n      <td>0</td>\n      <td>v3.7.4.0</td>\n      <td>0.059943</td>\n    </tr>\n    <tr>\n      <th>3</th>\n      <td>0</td>\n      <td>v3.8.0.0</td>\n      <td>0.057604</td>\n    </tr>\n    <tr>\n      <th>4</th>\n      <td>1</td>\n      <td>v2.8.0</td>\n      <td>0.045606</td>\n    </tr>\n    <tr>\n      <th>5</th>\n      <td>1</td>\n      <td>v2.9.0</td>\n      <td>0.071304</td>\n    </tr>\n    <tr>\n      <th>6</th>\n      <td>1</td>\n      <td>v3.7.4.0</td>\n      <td>0.063018</td>\n    </tr>\n    <tr>\n      <th>7</th>\n      <td>1</td>\n      <td>v3.8.0.0</td>\n      <td>0.062848</td>\n    </tr>\n  </tbody>\n</table>\n</div>"
     },
     "execution_count": 7,
     "metadata": {},
     "output_type": "execute_result"
    }
   ],
   "source": [
    "df.groupby([\"experimentVariant\",\"version\"],as_index=False).agg({\"purchase\":\"mean\"})"
   ],
   "metadata": {
    "collapsed": false,
    "pycharm": {
     "name": "#%%\n"
    }
   }
  },
  {
   "cell_type": "markdown",
   "source": [
    "А вот и наша аномалия, всего лишь надо было немного поглубже посмотреть на наши данные как тут уже становится очевидно, что шум в нашем A/A тесте добавляет версия приложения \"v2.8.0\", а теперь давайте проведём наш A/A тест, не используя данную версию в нашем тестировании:"
   ],
   "metadata": {
    "collapsed": false,
    "pycharm": {
     "name": "#%% md\n"
    }
   }
  },
  {
   "cell_type": "code",
   "execution_count": 8,
   "outputs": [
    {
     "data": {
      "text/plain": "176732"
     },
     "execution_count": 8,
     "metadata": {},
     "output_type": "execute_result"
    }
   ],
   "source": [
    "df_new = df.query(\"version != 'v2.8.0'\")\n",
    "df_new.size"
   ],
   "metadata": {
    "collapsed": false,
    "pycharm": {
     "name": "#%%\n"
    }
   }
  },
  {
   "cell_type": "markdown",
   "source": [
    "Также как мы видим наш размер данных сильно изменился, но с вопросом по системе сплитования нам лучше уже обратиться к разрабам, кто её делал или если мы её делали, то сделать ревью нашего кода.\n",
    "А теперь давайте проверим наши средние значения в зависимости от группы в нашем новом датасете."
   ],
   "metadata": {
    "collapsed": false,
    "pycharm": {
     "name": "#%% md\n"
    }
   }
  },
  {
   "cell_type": "code",
   "execution_count": 9,
   "outputs": [
    {
     "data": {
      "text/plain": "   experimentVariant  purchase\n0                  0  0.067372\n1                  1  0.067430",
      "text/html": "<div>\n<style scoped>\n    .dataframe tbody tr th:only-of-type {\n        vertical-align: middle;\n    }\n\n    .dataframe tbody tr th {\n        vertical-align: top;\n    }\n\n    .dataframe thead th {\n        text-align: right;\n    }\n</style>\n<table border=\"1\" class=\"dataframe\">\n  <thead>\n    <tr style=\"text-align: right;\">\n      <th></th>\n      <th>experimentVariant</th>\n      <th>purchase</th>\n    </tr>\n  </thead>\n  <tbody>\n    <tr>\n      <th>0</th>\n      <td>0</td>\n      <td>0.067372</td>\n    </tr>\n    <tr>\n      <th>1</th>\n      <td>1</td>\n      <td>0.067430</td>\n    </tr>\n  </tbody>\n</table>\n</div>"
     },
     "execution_count": 9,
     "metadata": {},
     "output_type": "execute_result"
    }
   ],
   "source": [
    "df_new.groupby(\"experimentVariant\",as_index=False).agg({\"purchase\":\"mean\"})"
   ],
   "metadata": {
    "collapsed": false,
    "pycharm": {
     "name": "#%%\n"
    }
   }
  },
  {
   "cell_type": "code",
   "execution_count": 10,
   "outputs": [
    {
     "data": {
      "text/plain": "  0%|          | 0/1000 [00:00<?, ?it/s]",
      "application/vnd.jupyter.widget-view+json": {
       "version_major": 2,
       "version_minor": 0,
       "model_id": "60e582fa35d340e4971b1e3dd34b100c"
      }
     },
     "metadata": {},
     "output_type": "display_data"
    },
    {
     "data": {
      "text/plain": "<Figure size 864x576 with 1 Axes>",
      "image/png": "[encoded data removed]"
     },
     "metadata": {},
     "output_type": "display_data"
    },
    {
     "data": {
      "text/plain": "0.039"
     },
     "execution_count": 10,
     "metadata": {},
     "output_type": "execute_result"
    }
   ],
   "source": [
    "res_new = []\n",
    "for i in tqdm(range(simulations)):\n",
    "    s1 = df_new[df_new[\"experimentVariant\"] == 1][\"purchase\"].sample(n_s, replace = False).values\n",
    "    s2 = df_new[df_new[\"experimentVariant\"] == 0][\"purchase\"].sample(n_s, replace = False).values\n",
    "    res_new.append(stats.ttest_ind(s1, s2, equal_var = False)[1]) # сохраняем pvalue\n",
    "\n",
    "plt.figure(figsize=(12,8))\n",
    "plt.hist(res_new, bins = 50)\n",
    "plt.style.use('ggplot')\n",
    "plt.xlabel('pvalues')\n",
    "plt.ylabel('frequency')\n",
    "plt.title(\"Histogram of ttest A/A simulations \")\n",
    "plt.show()\n",
    "# Проверяем, что количество ложноположительных случаев не превышает альфа\n",
    "sum(np.array(res_new) <0.05) / simulations"
   ],
   "metadata": {
    "collapsed": false,
    "pycharm": {
     "name": "#%%\n"
    }
   }
  },
  {
   "cell_type": "markdown",
   "source": [
    "### Выводы :\n",
    "____\n",
    "Наш FPR меньше 0.05, и это абсолютно нормально, как и небольшие отклонения в большую или меньшую сторону и теперь мы можем запускать нашу новую фичу и раскатывать A/B test."
   ],
   "metadata": {
    "collapsed": false,
    "pycharm": {
     "name": "#%% md\n"
    }
   }
  },
  {
   "cell_type": "markdown",
   "source": [
    "### Ссылки :\n",
    "____\n",
    "1. [Зачем нужен A/A тест](https://www.invespcro.com/blog/aa-tests/);\n",
    "2. [Доп. информация о FPR](https://en.wikipedia.org/wiki/False_positive_rate);\n",
    "3. [Другой tutorial по A/A тестам на Python](https://towardsdatascience.com/an-a-b-test-loses-its-luster-if-a-a-tests-fail-2dd11fa6d241)."
   ],
   "metadata": {
    "collapsed": false,
    "pycharm": {
     "name": "#%% md\n"
    }
   }
  }
 ],
 "metadata": {
  "kernelspec": {
   "display_name": "Python 3",
   "language": "python",
   "name": "python3"
  },
  "language_info": {
   "codemirror_mode": {
    "name": "ipython",
    "version": 2
   },
   "file_extension": ".py",
   "mimetype": "text/x-python",
   "name": "python",
   "nbconvert_exporter": "python",
   "pygments_lexer": "ipython2",
   "version": "2.7.6"
  }
 },
 "nbformat": 4,
 "nbformat_minor": 0
}