{
 "cells": [
  {
   "cell_type": "markdown",
   "source": [
    "### Сравнение bootstrap и Манна-Уитни:\n",
    "____"
   ],
   "metadata": {
    "collapsed": false,
    "pycharm": {
     "name": "#%% md\n"
    }
   }
  },
  {
   "cell_type": "markdown",
   "source": [
    "![](me.jpeg)"
   ],
   "metadata": {
    "collapsed": false,
    "pycharm": {
     "name": "#%% md\n"
    }
   }
  },
  {
   "cell_type": "markdown",
   "source": [
    "Проведём ab test при этом мы уже знаем, что сплитование данных у нас прошло успешно и здесь мы не будем углубляться в подробности как правильно это делать ведь главная суть проекта состоит в том, чтобы как раз показать всю мощь bootstrap, а также сравнить его с таким критерием как непараметрический аналог t-test - критерий Манна-Уитни.\n",
    "Если вы хотите погрузиться в мир A/B тестирования рекомендую прочитать вот [это](https://www.ozon.ru/product/doveritelnoe-a-v-testirovanie-224221240/?sh=RoJKJoWoEw)."
   ],
   "metadata": {
    "collapsed": false,
    "pycharm": {
     "name": "#%% md\n"
    }
   }
  },
  {
   "cell_type": "markdown",
   "source": [
    "### Немного теории:\n",
    "____\n",
    "Бутстрап — целое семейство методов, позволяющих проверять гипотезы с помощью повторных выборок.\n",
    "То есть если у нас есть данные лишь о выборке мы можем оценить любой параметр в генеральной совокупности, но тогда напрашивается вопрос, а зачем нам вообще тогда  вся эта классическая статистика раз у нас есть такой крутой хипстерский метод ?\n",
    "- Так как у bootstrap есть ограничения:\n",
    "    1. Бутстрап не требует соблюдать предположения, но ему все еще требуется\n",
    "        достаточно репрезентативная выборка.\n",
    "    2. Чем выше количество бутстрап итераций, тем дольше придется ждать\n",
    "        результат расчета.\n",
    "    3. Чем исходная выборка, тем дольше придется ждать результат расчета.\n",
    "\n",
    "\n",
    "Но если данные не очень большого размера (как раз как в нашем примере) или мы готовы ждать, то давайте же применим его:"
   ],
   "metadata": {
    "collapsed": false,
    "pycharm": {
     "name": "#%% md\n"
    }
   }
  },
  {
   "cell_type": "code",
   "execution_count": 5,
   "outputs": [],
   "source": [
    "#Для DataFrame:\n",
    "import pandas as pd\n",
    "import numpy as np\n",
    "\n",
    "#Для визуализация:\n",
    "import matplotlib.pyplot as plt\n",
    "import seaborn as sns\n",
    "\n",
    "#Для нашей функции:\n",
    "from scipy.stats import norm\n",
    "from tqdm.auto import tqdm"
   ],
   "metadata": {
    "collapsed": false,
    "pycharm": {
     "name": "#%%\n"
    }
   }
  },
  {
   "cell_type": "markdown",
   "source": [
    "### План работы:\n",
    "1. Изучить наши данные;\n",
    "2. Применить критерий Манна-Уитни;\n",
    "3. Применить bootstrap функцию.\n",
    "____\n",
    "\n",
    "### Задачи:\n",
    "1. Сравните результат между тестом и контролем по двум кейсам:\n",
    "Применить бутстрап (с np.mean) и критерий mann-whitney, бутстрап (с np.median), а потом сравните p-value.\n",
    "2. Написать выводы данного эксперимента."
   ],
   "metadata": {
    "collapsed": false,
    "pycharm": {
     "name": "#%% md\n"
    }
   }
  },
  {
   "cell_type": "code",
   "execution_count": 37,
   "outputs": [
    {
     "data": {
      "text/plain": "              value experimentVariant\n0  10,3804953740268           Control\n1  9,54686666784264           Control\n2  11,0882146509904           Control\n3  10,1472740570122           Control\n4  9,78980767524929           Control",
      "text/html": "<div>\n<style scoped>\n    .dataframe tbody tr th:only-of-type {\n        vertical-align: middle;\n    }\n\n    .dataframe tbody tr th {\n        vertical-align: top;\n    }\n\n    .dataframe thead th {\n        text-align: right;\n    }\n</style>\n<table border=\"1\" class=\"dataframe\">\n  <thead>\n    <tr style=\"text-align: right;\">\n      <th></th>\n      <th>value</th>\n      <th>experimentVariant</th>\n    </tr>\n  </thead>\n  <tbody>\n    <tr>\n      <th>0</th>\n      <td>10,3804953740268</td>\n      <td>Control</td>\n    </tr>\n    <tr>\n      <th>1</th>\n      <td>9,54686666784264</td>\n      <td>Control</td>\n    </tr>\n    <tr>\n      <th>2</th>\n      <td>11,0882146509904</td>\n      <td>Control</td>\n    </tr>\n    <tr>\n      <th>3</th>\n      <td>10,1472740570122</td>\n      <td>Control</td>\n    </tr>\n    <tr>\n      <th>4</th>\n      <td>9,78980767524929</td>\n      <td>Control</td>\n    </tr>\n  </tbody>\n</table>\n</div>"
     },
     "execution_count": 37,
     "metadata": {},
     "output_type": "execute_result"
    }
   ],
   "source": [
    "data = pd.read_csv(\"hw_bootstrap.csv\",sep=\";\",usecols=[\"value\",\"experimentVariant\"])\n",
    "data.head()"
   ],
   "metadata": {
    "collapsed": false,
    "pycharm": {
     "name": "#%%\n"
    }
   }
  },
  {
   "cell_type": "markdown",
   "source": [
    "Сначала проверим наши данные на NaN значения, типы данных и всё отфильтруем :"
   ],
   "metadata": {
    "collapsed": false,
    "pycharm": {
     "name": "#%% md\n"
    }
   }
  },
  {
   "cell_type": "code",
   "execution_count": 38,
   "outputs": [
    {
     "data": {
      "text/plain": "value                0\nexperimentVariant    0\ndtype: int64"
     },
     "execution_count": 38,
     "metadata": {},
     "output_type": "execute_result"
    }
   ],
   "source": [
    "data.isna().sum()"
   ],
   "metadata": {
    "collapsed": false,
    "pycharm": {
     "name": "#%%\n"
    }
   }
  },
  {
   "cell_type": "code",
   "execution_count": 39,
   "outputs": [
    {
     "data": {
      "text/plain": "value                object\nexperimentVariant    object\ndtype: object"
     },
     "execution_count": 39,
     "metadata": {},
     "output_type": "execute_result"
    }
   ],
   "source": [
    "data.dtypes"
   ],
   "metadata": {
    "collapsed": false,
    "pycharm": {
     "name": "#%%\n"
    }
   }
  },
  {
   "cell_type": "markdown",
   "source": [
    "Как мы могли уже заметить, что в наших данных запятая вместо точки в цифровых значениях, а также нам стоит поменять тип данной колонки на float :"
   ],
   "metadata": {
    "collapsed": false,
    "pycharm": {
     "name": "#%% md\n"
    }
   }
  },
  {
   "cell_type": "code",
   "execution_count": 40,
   "outputs": [
    {
     "data": {
      "text/plain": "       value experimentVariant\n0  10.380495           Control\n1   9.546867           Control\n2  11.088215           Control\n3  10.147274           Control\n4   9.789808           Control",
      "text/html": "<div>\n<style scoped>\n    .dataframe tbody tr th:only-of-type {\n        vertical-align: middle;\n    }\n\n    .dataframe tbody tr th {\n        vertical-align: top;\n    }\n\n    .dataframe thead th {\n        text-align: right;\n    }\n</style>\n<table border=\"1\" class=\"dataframe\">\n  <thead>\n    <tr style=\"text-align: right;\">\n      <th></th>\n      <th>value</th>\n      <th>experimentVariant</th>\n    </tr>\n  </thead>\n  <tbody>\n    <tr>\n      <th>0</th>\n      <td>10.380495</td>\n      <td>Control</td>\n    </tr>\n    <tr>\n      <th>1</th>\n      <td>9.546867</td>\n      <td>Control</td>\n    </tr>\n    <tr>\n      <th>2</th>\n      <td>11.088215</td>\n      <td>Control</td>\n    </tr>\n    <tr>\n      <th>3</th>\n      <td>10.147274</td>\n      <td>Control</td>\n    </tr>\n    <tr>\n      <th>4</th>\n      <td>9.789808</td>\n      <td>Control</td>\n    </tr>\n  </tbody>\n</table>\n</div>"
     },
     "execution_count": 40,
     "metadata": {},
     "output_type": "execute_result"
    }
   ],
   "source": [
    "data[\"value\"] = data[\"value\"].str.replace(\",\",\".\")\n",
    "data[\"value\"] = data[\"value\"].astype(\"float\")\n",
    "data.head()"
   ],
   "metadata": {
    "collapsed": false,
    "pycharm": {
     "name": "#%%\n"
    }
   }
  },
  {
   "cell_type": "markdown",
   "source": [
    "Далее разделим наш DataFrame на 2 группы и посмотрим на их распределения :"
   ],
   "metadata": {
    "collapsed": false,
    "pycharm": {
     "name": "#%% md\n"
    }
   }
  },
  {
   "cell_type": "code",
   "execution_count": 42,
   "outputs": [
    {
     "data": {
      "text/plain": "       value experimentVariant\n0  10.380495           Control\n1   9.546867           Control\n2  11.088215           Control\n3  10.147274           Control\n4   9.789808           Control",
      "text/html": "<div>\n<style scoped>\n    .dataframe tbody tr th:only-of-type {\n        vertical-align: middle;\n    }\n\n    .dataframe tbody tr th {\n        vertical-align: top;\n    }\n\n    .dataframe thead th {\n        text-align: right;\n    }\n</style>\n<table border=\"1\" class=\"dataframe\">\n  <thead>\n    <tr style=\"text-align: right;\">\n      <th></th>\n      <th>value</th>\n      <th>experimentVariant</th>\n    </tr>\n  </thead>\n  <tbody>\n    <tr>\n      <th>0</th>\n      <td>10.380495</td>\n      <td>Control</td>\n    </tr>\n    <tr>\n      <th>1</th>\n      <td>9.546867</td>\n      <td>Control</td>\n    </tr>\n    <tr>\n      <th>2</th>\n      <td>11.088215</td>\n      <td>Control</td>\n    </tr>\n    <tr>\n      <th>3</th>\n      <td>10.147274</td>\n      <td>Control</td>\n    </tr>\n    <tr>\n      <th>4</th>\n      <td>9.789808</td>\n      <td>Control</td>\n    </tr>\n  </tbody>\n</table>\n</div>"
     },
     "execution_count": 42,
     "metadata": {},
     "output_type": "execute_result"
    }
   ],
   "source": [
    "control = data.query(\"experimentVariant == 'Control'\")\n",
    "test = data.query(\"experimentVariant == 'Treatment'\")\n",
    "control.head()"
   ],
   "metadata": {
    "collapsed": false,
    "pycharm": {
     "name": "#%%\n"
    }
   }
  },
  {
   "cell_type": "code",
   "execution_count": 44,
   "outputs": [
    {
     "name": "stderr",
     "output_type": "stream",
     "text": [
      "/home/onixx/anaconda3/envs/untitled/lib/python3.10/site-packages/seaborn/distributions.py:2619: FutureWarning: `distplot` is a deprecated function and will be removed in a future version. Please adapt your code to use either `displot` (a figure-level function with similar flexibility) or `histplot` (an axes-level function for histograms).\n",
      "  warnings.warn(msg, FutureWarning)\n"
     ]
    },
    {
     "data": {
      "text/plain": "<Figure size 432x288 with 1 Axes>",
      "image/png": "[encoded data removed]"
     },
     "metadata": {},
     "output_type": "display_data"
    }
   ],
   "source": [
    "sns.histplot(control.value)\n",
    "sns.despine()"
   ],
   "metadata": {
    "collapsed": false,
    "pycharm": {
     "name": "#%%\n"
    }
   }
  },
  {
   "cell_type": "code",
   "execution_count": 45,
   "outputs": [
    {
     "name": "stderr",
     "output_type": "stream",
     "text": [
      "/home/onixx/anaconda3/envs/untitled/lib/python3.10/site-packages/seaborn/distributions.py:2619: FutureWarning: `distplot` is a deprecated function and will be removed in a future version. Please adapt your code to use either `displot` (a figure-level function with similar flexibility) or `histplot` (an axes-level function for histograms).\n",
      "  warnings.warn(msg, FutureWarning)\n"
     ]
    },
    {
     "data": {
      "text/plain": "<Figure size 432x288 with 1 Axes>",
      "image/png": "[encoded data removed]"
     },
     "metadata": {},
     "output_type": "display_data"
    }
   ],
   "source": [
    "sns.histplot(test.value)\n",
    "sns.despine()"
   ],
   "metadata": {
    "collapsed": false,
    "pycharm": {
     "name": "#%%\n"
    }
   }
  },
  {
   "cell_type": "markdown",
   "source": [
    "Как мы видим, наша контрольная группа распределена относительно нормально, а что касаемо тестовой группы, здесь ситуация обратная, у нас здесь есть выбросы, поэтому я бы доверился бы медиане в данном случае.\n",
    "Касаемо выбросов стоит учитывать, что в нашем тестовом датасете, мы их явно можем увидеть на графике, но бывают случаи, когда мы не можем их выкинуть, к примеру это наши VIP клиенты и тут в каждом случае стоит подходить индивидуально.\n",
    "Также можно ознакомиться с доклада Яна[Методы обнаружения выбросов](https://www.youtube.com/watch?v=TOK7Kq7x0yc&list=PLo8_x3Axzvutlkh_ccSIvhJH7oBoLgOa_&index=4)."
   ],
   "metadata": {
    "collapsed": false,
    "pycharm": {
     "name": "#%% md\n"
    }
   }
  },
  {
   "cell_type": "code",
   "execution_count": 13,
   "outputs": [
    {
     "data": {
      "text/plain": "        U-val alternative     p-val       RBC      CLES\nMWU  124189.5   two-sided  0.859215  0.006484  0.496758",
      "text/html": "<div>\n<style scoped>\n    .dataframe tbody tr th:only-of-type {\n        vertical-align: middle;\n    }\n\n    .dataframe tbody tr th {\n        vertical-align: top;\n    }\n\n    .dataframe thead th {\n        text-align: right;\n    }\n</style>\n<table border=\"1\" class=\"dataframe\">\n  <thead>\n    <tr style=\"text-align: right;\">\n      <th></th>\n      <th>U-val</th>\n      <th>alternative</th>\n      <th>p-val</th>\n      <th>RBC</th>\n      <th>CLES</th>\n    </tr>\n  </thead>\n  <tbody>\n    <tr>\n      <th>MWU</th>\n      <td>124189.5</td>\n      <td>two-sided</td>\n      <td>0.859215</td>\n      <td>0.006484</td>\n      <td>0.496758</td>\n    </tr>\n  </tbody>\n</table>\n</div>"
     },
     "execution_count": 13,
     "metadata": {},
     "output_type": "execute_result"
    }
   ],
   "source": [
    "from pingouin import mwu\n",
    "mwu(control[\"value\"],test[\"value\"])"
   ],
   "metadata": {
    "collapsed": false,
    "pycharm": {
     "name": "#%%\n"
    }
   }
  },
  {
   "cell_type": "code",
   "execution_count": 14,
   "outputs": [
    {
     "data": {
      "text/plain": "MannwhitneyuResult(statistic=124189.5, pvalue=0.8592148582485579)"
     },
     "execution_count": 14,
     "metadata": {},
     "output_type": "execute_result"
    }
   ],
   "source": [
    "from scipy.stats import mannwhitneyu\n",
    "mannwhitneyu(control[\"value\"],test[\"value\"])"
   ],
   "metadata": {
    "collapsed": false,
    "pycharm": {
     "name": "#%%\n"
    }
   }
  },
  {
   "cell_type": "markdown",
   "source": [
    "Я специально проверил 2 разные библиотеки и они показали одинаковые значения p-value, которые подталкивают нас к принятию H0.\n",
    "Но самая главная идея здесь, что данный критерий позволяет сравнить распределения и как они отличаются друг от друга:\n",
    "Подробнее о интерпритации данного критерия можно почитать вот [тут](http://statistica.ru/local-portals/medicine/u-kriteriy-manna-uitni/).\n",
    "Также сразу хочу предупредить, что данная функция была взята с данной [лекции](https://www.youtube.com/watch?v=-zps6hm0nX8) ещё хотелось бы добавить, что есть [альтернатива](https://pypi.org/project/bootstrapped/) данной функции, но лично мне удобнее использовать её."
   ],
   "metadata": {
    "collapsed": false,
    "pycharm": {
     "name": "#%% md\n"
    }
   }
  },
  {
   "cell_type": "code",
   "execution_count": 46,
   "outputs": [],
   "source": [
    "# Объявим функцию, которая позволит проверять гипотезы с помощью бутстрапа\n",
    "def get_bootstrap(\n",
    "        data_column_1, # числовые значения первой выборки\n",
    "        data_column_2, # числовые значения второй выборки\n",
    "        boot_it = 1000, # количество бутстрэп-подвыборок\n",
    "        statistic = np.mean, # интересующая нас статистика\n",
    "        bootstrap_conf_level = 0.95 # уровень значимости\n",
    "):\n",
    "    boot_len = max([len(data_column_1), len(data_column_2)])\n",
    "    boot_data = []\n",
    "    for i in tqdm(range(boot_it)): # извлекаем подвыборки\n",
    "        samples_1 = data_column_1.sample(\n",
    "            boot_len,\n",
    "            replace = True # параметр возвращения\n",
    "        ).values\n",
    "\n",
    "        samples_2 = data_column_2.sample(\n",
    "            boot_len,\n",
    "            replace = True\n",
    "        ).values\n",
    "\n",
    "        boot_data.append(statistic(samples_1-samples_2)) # mean() - применяем статистику\n",
    "\n",
    "    pd_boot_data = pd.DataFrame(boot_data)\n",
    "\n",
    "    left_quant = (1 - bootstrap_conf_level)/2\n",
    "    right_quant = 1 - (1 - bootstrap_conf_level) / 2\n",
    "    ci = pd_boot_data.quantile([left_quant, right_quant])\n",
    "\n",
    "    p_1 = norm.cdf(\n",
    "        x = 0,\n",
    "        loc = np.mean(boot_data),\n",
    "        scale = np.std(boot_data)\n",
    "    )\n",
    "    p_2 = norm.cdf(\n",
    "        x = 0,\n",
    "        loc = -np.mean(boot_data),\n",
    "        scale = np.std(boot_data)\n",
    "    )\n",
    "    p_value = min(p_1, p_2) * 2\n",
    "\n",
    "    # Визуализация\n",
    "    plt.hist(pd_boot_data[0], bins = 50)\n",
    "\n",
    "    plt.style.use('ggplot')\n",
    "    plt.vlines(ci,ymin=0,ymax=50,linestyle='--')\n",
    "    plt.xlabel('boot_data')\n",
    "    plt.ylabel('frequency')\n",
    "    plt.title(\"Histogram of boot_data\")\n",
    "    plt.show()\n",
    "\n",
    "    return {\"boot_data\": boot_data,\n",
    "            \"ci\": ci,\n",
    "            \"p_value\": p_value}"
   ],
   "metadata": {
    "collapsed": false,
    "pycharm": {
     "name": "#%%\n"
    }
   }
  },
  {
   "cell_type": "code",
   "execution_count": 47,
   "outputs": [
    {
     "data": {
      "text/plain": "  0%|          | 0/2000 [00:00<?, ?it/s]",
      "application/vnd.jupyter.widget-view+json": {
       "version_major": 2,
       "version_minor": 0,
       "model_id": "6174ae2c0155454dae28a50f02affe8c"
      }
     },
     "metadata": {},
     "output_type": "display_data"
    },
    {
     "data": {
      "text/plain": "<Figure size 432x288 with 1 Axes>",
      "image/png": "[encoded data removed]"
     },
     "metadata": {},
     "output_type": "display_data"
    }
   ],
   "source": [
    "booted_data = get_bootstrap(control[\"value\"], test[\"value\"], boot_it = 2000)"
   ],
   "metadata": {
    "collapsed": false,
    "pycharm": {
     "name": "#%%\n"
    }
   }
  },
  {
   "cell_type": "code",
   "execution_count": 48,
   "outputs": [
    {
     "data": {
      "text/plain": "0.03779265404963428"
     },
     "execution_count": 48,
     "metadata": {},
     "output_type": "execute_result"
    }
   ],
   "source": [
    "booted_data[\"p_value\"]"
   ],
   "metadata": {
    "collapsed": false,
    "pycharm": {
     "name": "#%%\n"
    }
   }
  },
  {
   "cell_type": "code",
   "execution_count": 49,
   "outputs": [
    {
     "data": {
      "text/plain": "               0\n0.025 -36.124125\n0.975  -3.012971",
      "text/html": "<div>\n<style scoped>\n    .dataframe tbody tr th:only-of-type {\n        vertical-align: middle;\n    }\n\n    .dataframe tbody tr th {\n        vertical-align: top;\n    }\n\n    .dataframe thead th {\n        text-align: right;\n    }\n</style>\n<table border=\"1\" class=\"dataframe\">\n  <thead>\n    <tr style=\"text-align: right;\">\n      <th></th>\n      <th>0</th>\n    </tr>\n  </thead>\n  <tbody>\n    <tr>\n      <th>0.025</th>\n      <td>-36.124125</td>\n    </tr>\n    <tr>\n      <th>0.975</th>\n      <td>-3.012971</td>\n    </tr>\n  </tbody>\n</table>\n</div>"
     },
     "execution_count": 49,
     "metadata": {},
     "output_type": "execute_result"
    }
   ],
   "source": [
    "booted_data[\"ci\"]"
   ],
   "metadata": {
    "collapsed": false,
    "pycharm": {
     "name": "#%%\n"
    }
   }
  },
  {
   "cell_type": "markdown",
   "source": [
    "Исходя из данного результата можно утверждать, что разница между средними наблюдается и мы можем отклонить H0, так как в наш доверительный интревал значение 0 не входит, но так ли это на самом деле и давайте теперь проверим медиану, а после избавемся от выбросов в нашем DataFrame :"
   ],
   "metadata": {
    "collapsed": false,
    "pycharm": {
     "name": "#%% md\n"
    }
   }
  },
  {
   "cell_type": "code",
   "execution_count": 50,
   "outputs": [
    {
     "data": {
      "text/plain": "  0%|          | 0/2000 [00:00<?, ?it/s]",
      "application/vnd.jupyter.widget-view+json": {
       "version_major": 2,
       "version_minor": 0,
       "model_id": "661d34587014423398c13518958b997c"
      }
     },
     "metadata": {},
     "output_type": "display_data"
    },
    {
     "data": {
      "text/plain": "<Figure size 432x288 with 1 Axes>",
      "image/png": "[encoded data removed]"
     },
     "metadata": {},
     "output_type": "display_data"
    }
   ],
   "source": [
    "booted_data = get_bootstrap(control[\"value\"], test[\"value\"], boot_it = 2000,statistic=np.median)"
   ],
   "metadata": {
    "collapsed": false,
    "pycharm": {
     "name": "#%%\n"
    }
   }
  },
  {
   "cell_type": "markdown",
   "source": [
    "А вот на счёт медианы мы можем сделать немного другие выводы, ведь теперь наш доверительный интервал входит в 0 и соответсвенно это позволяет нам принять H0."
   ],
   "metadata": {
    "collapsed": false,
    "pycharm": {
     "name": "#%% md\n"
    }
   }
  },
  {
   "cell_type": "code",
   "execution_count": 51,
   "outputs": [
    {
     "data": {
      "text/plain": "0.8502813512572842"
     },
     "execution_count": 51,
     "metadata": {},
     "output_type": "execute_result"
    }
   ],
   "source": [
    "booted_data[\"p_value\"]"
   ],
   "metadata": {
    "collapsed": false,
    "pycharm": {
     "name": "#%%\n"
    }
   }
  },
  {
   "cell_type": "code",
   "execution_count": 52,
   "outputs": [
    {
     "data": {
      "text/plain": "              0\n0.025 -0.161768\n0.975  0.127454",
      "text/html": "<div>\n<style scoped>\n    .dataframe tbody tr th:only-of-type {\n        vertical-align: middle;\n    }\n\n    .dataframe tbody tr th {\n        vertical-align: top;\n    }\n\n    .dataframe thead th {\n        text-align: right;\n    }\n</style>\n<table border=\"1\" class=\"dataframe\">\n  <thead>\n    <tr style=\"text-align: right;\">\n      <th></th>\n      <th>0</th>\n    </tr>\n  </thead>\n  <tbody>\n    <tr>\n      <th>0.025</th>\n      <td>-0.161768</td>\n    </tr>\n    <tr>\n      <th>0.975</th>\n      <td>0.127454</td>\n    </tr>\n  </tbody>\n</table>\n</div>"
     },
     "execution_count": 52,
     "metadata": {},
     "output_type": "execute_result"
    }
   ],
   "source": [
    "booted_data[\"ci\"]"
   ],
   "metadata": {
    "collapsed": false,
    "pycharm": {
     "name": "#%%\n"
    }
   }
  },
  {
   "cell_type": "markdown",
   "source": [
    "Ну и финально давайте избавим наш датасет от выбросов и применим тот же самый bootstrap:"
   ],
   "metadata": {
    "collapsed": false,
    "pycharm": {
     "name": "#%% md\n"
    }
   }
  },
  {
   "cell_type": "code",
   "source": [
    "test.drop([995,996,997,998,999],axis=0,inplace = True)"
   ],
   "metadata": {
    "collapsed": false,
    "pycharm": {
     "name": "#%%\n"
    }
   },
   "execution_count": 53,
   "outputs": [
    {
     "name": "stderr",
     "output_type": "stream",
     "text": [
      "/tmp/ipykernel_60430/3161429918.py:1: SettingWithCopyWarning: \n",
      "A value is trying to be set on a copy of a slice from a DataFrame\n",
      "\n",
      "See the caveats in the documentation: https://pandas.pydata.org/pandas-docs/stable/user_guide/indexing.html#returning-a-view-versus-a-copy\n",
      "  test.drop([995,996,997,998,999],axis=0,inplace = True)\n"
     ]
    }
   ]
  },
  {
   "cell_type": "code",
   "execution_count": 54,
   "outputs": [
    {
     "data": {
      "text/plain": "  0%|          | 0/2000 [00:00<?, ?it/s]",
      "application/vnd.jupyter.widget-view+json": {
       "version_major": 2,
       "version_minor": 0,
       "model_id": "3c488051b9da40b28e636fe57283dea2"
      }
     },
     "metadata": {},
     "output_type": "display_data"
    },
    {
     "data": {
      "text/plain": "<Figure size 432x288 with 1 Axes>",
      "image/png": "[encoded data removed]"
     },
     "metadata": {},
     "output_type": "display_data"
    }
   ],
   "source": [
    "booted_data = get_bootstrap(control[\"value\"], test[\"value\"], boot_it = 2000)"
   ],
   "metadata": {
    "collapsed": false,
    "pycharm": {
     "name": "#%%\n"
    }
   }
  },
  {
   "cell_type": "markdown",
   "source": [
    "### Выводы:\n",
    "____\n",
    " - В данном случае я бы лучше доверился результатам p-value медианы bootstrap, так как мы явно можем заметить выбросы в наших значениях и я принимаю H0.\n",
    " - Стоит заметить, что как только мы убрали 5 выбросов, наш bootstrap показал нормальный результат."
   ],
   "metadata": {
    "collapsed": false,
    "pycharm": {
     "name": "#%% md\n"
    }
   }
  },
  {
   "cell_type": "markdown",
   "source": [
    "### Ссылки на дополнительное изучение:\n",
    "____\n",
    "1. [Главная идея bootstrap](https://www.youtube.com/watch?v=Xz0x-8-cgaQ);\n",
    "2. [Bootstrap: виды, особенности, ограничения и способы применения](https://www.youtube.com/watch?v=8CMV5cK83ns);\n",
    "3. [Карта статистических методов - bootstrap VS t - test](https://www.youtube.com/watch?v=-zps6hm0nX8);\n",
    "4. [Краткий ввод в различные виды bootstrap](https://www.researchgate.net/publication/37434447_Bootstrap_Methods_and_Their_Application);\n",
    "5. [Классный доклад про доверительные интервалы в bootstrap](https://ocw.mit.edu/courses/mathematics/18-05-introduction-to-probability-and-statistics-spring-2014/readings/MIT18_05S14_Reading24.pdf);\n",
    "6. [Классная книжка про A/B тесты](https://www.ozon.ru/product/doveritelnoe-a-v-testirovanie-224221240/?sh=RoJKJoWoEw);\n",
    "7. [Методы обнаружения выбросов](https://www.youtube.com/watch?v=TOK7Kq7x0yc&list=PLo8_x3Axzvutlkh_ccSIvhJH7oBoLgOa_&index=4)."
   ],
   "metadata": {
    "collapsed": false,
    "pycharm": {
     "name": "#%% md\n"
    }
   }
  },
  {
   "cell_type": "markdown",
   "source": [
    "![](final_picture.jpg)"
   ],
   "metadata": {
    "collapsed": false,
    "pycharm": {
     "name": "#%% md\n"
    }
   }
  }
 ],
 "metadata": {
  "kernelspec": {
   "display_name": "Python 3",
   "language": "python",
   "name": "python3"
  },
  "language_info": {
   "codemirror_mode": {
    "name": "ipython",
    "version": 2
   },
   "file_extension": ".py",
   "mimetype": "text/x-python",
   "name": "python",
   "nbconvert_exporter": "python",
   "pygments_lexer": "ipython2",
   "version": "2.7.6"
  }
 },
 "nbformat": 4,
 "nbformat_minor": 0
}